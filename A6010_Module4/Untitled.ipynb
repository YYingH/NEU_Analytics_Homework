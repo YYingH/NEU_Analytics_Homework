{
 "cells": [
  {
   "cell_type": "code",
   "execution_count": 1,
   "metadata": {},
   "outputs": [],
   "source": [
    "import pandas as pd\n",
    "import numpy as np\n",
    "from random import sample\n",
    "from scipy import stats\n",
    "import math"
   ]
  },
  {
   "cell_type": "markdown",
   "metadata": {},
   "source": [
    "### Part 1\n",
    "Use the random sampling method to generate a random sample of size 45 from the given International Migration Rates. \n",
    "\n",
    "**Then calculate the population mean, the variance and standard deviation of the population.**"
   ]
  },
  {
   "cell_type": "code",
   "execution_count": 2,
   "metadata": {},
   "outputs": [],
   "source": [
    "population = [-0.2,0.9,2,2.1,0.3,2.7,0.4,1.8,0.5,0.1,4.1,0.9,0.1,0.7,1,0.3,1.8,0.6,0.1,5.2,1.2,7.8,-0.2,4.5,4.5,4.2,0.4,0.2,0.6,15.2,1.9,0.6,1.2,1.4,0.4,0.1,3.2,2,0.6,0,0.2,0.1,0,0.7,0,0.3,-0.1,2.7,0.3,0.8,0.8,1.1,-0.2,2.7,1.5,0.7,1.9,1.9,0.5,0.3,1.1,0.1,0.2,-0.1,0.5,4.3,0.6,-0.1,0.7,9.8,0,0.6,0.8,0.8,1.7,0.4,-0.2,0.8,-0.9,0.9,0.4,-0.1,4.9,6,0.6,0.2,0.1,1,0.3,1.2,0.3,0.9,1,1.2,0.3,0.1,0.8,0.6,3.7,4.3,0.3,0.2,0.1,2.8,-0.1,-0.3,0.8,1.4,0,0.8,0.9,0.8,0.1,1.6,4.8,0.8,0.4,0.1,0.2,0.1,-0.2,0.4,1.3,0.2,0.3,9,0.1,0.8,0.4,0.2,1.4,0.8,0.2,1,0.3,0.3,0.8,0.1,2.7,-0.3,1.4,-0.2,0.4,3.1,0.2,0.3,-0.1,5.6,0.2,1.6,-0.2,6.5,1.2,0,4.2,2.3,1.6,1,2.8,1.4,0.2,3,0.9,1.5,0.1,0.4,-0.2,0.5,2.4,0,1.1,1.8,0.2,2.5,1.3,-0.1,1.1,0.4,2.2,0.5,0,0.6,-0.1,0.4,-0.2,-0.6,-0.1,0.9,2.1,4.1,-0.2,0.4,1.9,0,2.7,0.3,1.9,1,0.7,0.7,-0.1,0.1,0.6,0,0.4,0.4,1.5,1.2,-1.2,-0.1,2,7,0,-0.1,1.9,2.5,-0.1,2.8,1.8,13.3,-0.3,3.6,0.6,3,1.7,9.5,-0.1,0.5,-0.1,2,1.2,1.6,0,1,0.2,0.2,0.5,3.6,0.3,0.3,1.6,4.1,3.3,0.9,0.1,1.9,1.7,0.8,0.4,0.2,0.9,0.8,1.6,2.1,0.1,0.2,0.4,0.8,0.4,0.2,0.1,2.2,0.7,1.4,-0.3,0,1.1,0.7,2,1,0.7,0.6,0.8,-0.1,0.8,0.3,0.1,0.7,0.3,2.4,0.2,0.5,1.9,0.5,0.6,5.6,0.6,0.6,0.3,0,0.9,1.5,3.8,2.5,3.6,1.6,-0.3,0.9,0.1,0.6,2.3,0.8,-0.1,1.4,1.5,0.2,0.2,0.2,-0.1,0.2,2.3,0.4,2.1,1.7,0.3,0.5,0.3,0,0.4,-0.1,0.4,0.1,0.2,0.4,0.3,0.4,0.2,0.1,0.6,0.7,0,-0.3,0,4.3,3.2,-0.2,0.3,0.6,4.5,-0.2,0.6,1.2,0.8,1.9,0.4,0.8,1,1,0.7,-0.1,7.4,1,-0.1,0.5,2.9,9.4,0.1,1.1,0.7,1,2.3,0.1,9.5,5.3,2.8,0.5,7.2,0.3,1.8,0.5,0,0,1.1,0.9,0.4,0.3,0.8,0.5,-0.3,0.1,0.6,0,0.8,1.6,0.4,3,-0.1,0.4,0.7,2.1,0.1,1.2,1.8,0.5,1.2,2.2,0.3,0.3,4.2,-0.2,0.2,0.4,0,0.2,0.1,1.7,0.8,0.6,0.7,0,-0.1,0.6,0.1,0.1,0.9,0.7,-0.1,0.7,0,3.3,0.1,0.8,0.6,0.2,3.9,0.1,0.4,0,0,-0.1,1.6,0.7,0,-0.1,0.4,1.5,0.9,0,1,1.5,0.7,3.4,0.3,0.8,-0.3,0,0.5,0.8,2.4,0.9,0,0.2,1.4,1.1,-0.3,1.7,0.4,0.7,0,4.3,1.8,-0.1,1.5,0.4,1,1,-0.3,0.1,1.3,1.1,11,0.7,-0.1,7.2,5.4,2.9,2.8,1.8,1.7,0.6,1,1.8,0.3,0.5,0.5,-0.1,0.4,0.7,0.9,1.5,1,0,0.2,4.2,1,0,0.2,3.9,1.2,0.6,0.1,0.6,0.3,1.1,0.5,2.1,0.3,1,-0.1,0.5,1.3,1.7,0.6,0.4,1.6,1.5,1.3,1.4,2.3,0.2,-0.1,3.2,0.6,-0.2,0.2,0.4,0.5,0.8,0,0.7,0,0.4,0.1,0,0.7,0.4,1.4,1,2.9,2.3,3.5,2.8,0.6,0.1,1.6,-1.1,-0.1,0,2.4,3.2,-0.4,1.8,2.4,0.1,0,3.4,-0.4,5.6,3.5,1.1,0.3,0.1,0.2,4.3,0.4,5.8,0.5,0.2,1.2,0.6,-0.1,0.5,5.8,2.7,0.1,0.1,2,-0.3,0.1,1.6,1.3,1,1.3,7.6,2.1,-0.1,-0.6,3.5,-0.1,0.5,1.7,0.6,1.7,0.4,3.6,0.1,0,0.6,3.3,3.2,0.9,0.1,1.9,3.3,0.3,0,0.1,0.2,0.3,-0.1,0,2.3,3.2,1,6,0,0.3,0.8,1.1,0.4,1.4,0.4,0,1.4,0.9,1.2,1.6,1.3,0.4,5.8,0.3,-0.3,3.4,1.1,0.1,1.6,0.8,0.4,1.6,0.7,0.6,0.1,0.8,1.1,3.3,2.9,5.5,2.9,3.7,0.4,0.6,1.4,0,2.8,-0.1,1.3,0.9,1.1,2.1,1,-0.1,0.1,0.2,0.6,0.3,0.7,1.1,1.2,3.7,0.1,0.4,0.1,1,0.4,1.8,0.9,0.4,3.6,-0.2,0,0.4,0.8,4.1,0.3,3.4,0,1.4,6.8,8.3,1.8,0.5,0,0.1,2.4,-0.1,1.3,11,9.4,6.5,1.3,0.8,5.8,1.2,-0.4,0.6,0,0.9,0.6,0,2,1.3,0,0.3,4.9,0.6,0.6,0.6,1.2,0.3,0,0.1,1.2,5.9,2.1,-0.3,0,0.6,1.6,-0.2,0.4,0.3,-0.1,0,1.8,-0.1,9.7,1.4,1.8,1.6,6.9,0.1,1.7,0.4,0.6,1.3,1.4,-0.4,0.5,0.3,0.6,1,2.7,0.5,0.2,0.9,0.7,5.1,1.5,1.3,0,-0.1,1,2.4,-0.1,3.2,1,3,0.6,0.7,-0.1,0.3,0,2.1,10.7,-0.2,4.3,0.4,-0.1,0.6,0.5,0.4,1.8,-0.1,6.9,0.7,0.3,2.1,0.7,1.8,0,0,0.1,1.6,0,1,0.8,0.5,0.5,0.6,0.4,0.8,-0.2,3,0,0.1,0,0.4,0.3,1.2,0.5,2.8,2.6,0.3,2.5,0,0.2,1.4,0.2,2.2,0.5,0.9,-0.1,0.4,-0.1,1,1.8,1.4,1,2.2,1.2,0,-0.1,2.9,0.3,0.1,0.2,-0.1,0.1,2,0.7,-0.2,0.4,-0.1,0.4,0.9,0.8,0.6,0.2,1.3,0,0.5,1.2,0.1,2.7,0.3,2.4,0,0.2,1.2,0,0.8,1.6,2.9,0.1,0.3,2.8,0.5,-0.2,2.3,1.7,2,-0.1,1.2,0.1,0,0,0.9,0.2,3.3,0.6,-0.2,0.5,4.2,0.7,-0.1,1.4,0.6,-0.1,1.2,5.9,2.1,0.8,1.9,2.5,2.8,1.4,6.6,5.2,-0.3,1.9,0.3,0.3,0.3,-0.1,1.3,0,1.7,0.5,0.8,-0.2,2.7,0,1.1,1.2,0.6,0.7,0.1,2.7,1.1,0.1,1.3,0,7.5,0,0.5,1.1,1.3,0,1.8,-0.2,9.8,0.7,0.1,5.6,1.5,0.7,3.3,-0.1,1.4,-0.2,0.3,-0.1,-0.3,0,0.3,-0.2,0.8,1.4,7.1,5.4,5.4,0.2,1.1,0.6,0.2,0.1,0.6,-0.1,0.2,0.4,0.2,0.6,1.2,1.6,0,3.5,0.3,3.2,0.3,1.1,6.6,2.9,0,1.2,0.1,0.9,1.4,0.1,-0.1,-0.1,1.2,4.9,1.8,-0.4,2.1,0.6,-0.2,1.1,0.2,4.7,0.3,2,0.3,0.7,1.5,0.3,5.4,0.4,2.3,0.3,0.4,16.5,0.2,-0.4,0.4,1.1,0.1,1.2,1.2,0.6,0.5,0.5,0.6,1.1,1.3,0.3,0,3.1,0.6,2.6,1.2,6.7,0.9,0.1,0.4,-0.4,0.3,1.3,0.1,0.2,-0.3,0.6,3.4,0.6,0.7,0.9,0,0.5,0.9,0.5,0.1,1.1,0,0.1,4.2,2,0,0,0.5,1.4,2.1,1.6,0.7,1.9,-0.2,-0.1,0.8,0.2,0.7,0,1.5,1,0,0.3,1.1,0,0.8,-0.2,0.1,0.1,1.1,0.3,0.8,-0.1,0.5,18.6,0.1,1.3,0.4,0.1,3.4,0.3,0.5,0.8,-0.2,0.8,0.2,0.7,3.1,0.4,0.6,0.8,0,0,4.5,-0.2,3.1,0.8,2.6,1.2,0.6,2.2,7.2,0,1.3,2.3,0,0.6,-0.2,0.4,0.8,0.4,0,0.9,0.1,0.8,-0.1,0,2,0.2,1.2,2.2,0.3,0.6,0.6,5.3,1.8,0.8,1.1,5.4,0.9,0.4,1.1,1.2,1.6,0.6,0.4,1.6,-0.1,2.7,0.5,0.9,0.5,2.3,0.2,0.2,2.6,1,8,-0.1,0.5,0.6,0.9,9.5,0.6,1.9,0.3,3.3,0.8,0.1,1.8,0.2,-0.2,1,0.1,1.5,3.8,1,-0.2,0.7,0.8,0.4,2.8,-0.2,0,3.7,-0.1,0.1,1,0.2,2.2,1.5,0.2,0,2.9,2.5,0.6,1.1,1.2,1.1,1.4,0.2,0.2,1.9,-0.2,0.2,1.2,0.5,2.4,4,3.1,1.1,1.6,1.8,0.8,0.2,0.6,0,0,1.4,-0.1,1.2,0.6,1.4,0.9,3.7,0.4,0.2,-0.1,0.8,0.1,0.4,0.4,0.6,-0.1,0.3,0.1,0.4,0.9,0,0,-0.3,0.3,-0.2,0.4,1.8,0.2,2,0,0.3,4.9,3.4,4.3,1,0.2,0.2,0.2,1.4,0,0,-0.4,0.8,0.2,6.4,0.4,1.2,2.9,0.2,-0.1,0.1,0.4,-0.1,-0.2,0.9,-0.1,0.5,0.7,1.6,1.2,0.9,0.5,1,2.4,-0.2,0,0.4,0.3,0.3,-0.3,-0.2,0.4,-0.3,0.2,1.1,0.2,-0.1,0.2,0.1,-0.2,-0.6,4.4,1.7,0.5,0,1.8,-0.3,1.4,0.4,0.5,0.3,1.7,0.4,0.1,1.9,1.1,0.2,-0.2,0.6,0,-0.1,1.6,1,2.1,4.5,4.8,0.3,6.5,3.9,0.2,0.8,-0.1,1.4,1.4,1.6,1.2,0.3,0.2,0.7,3,0.6,4.5,0.1,3.5,3.8,-0.3,1.7,3.2,0.4,0.9,0.7,0.1,1.1,2.5,0.1,1.7,1.4,0.9,0.9,1.1,0.8,0.2,0.4,0.4,1.2,-0.1,1.6,0.9,2.4,0.5,0.9,0.6,1.1,0.6,0,0.2,1.5,1.4,-0.1,6.8,9.8,3.4,0.5,0.7,0.7,0.4,2.6,3.3,0,0,0.4,2,0.5,0.4,3.4,0.7,0.6,0.4,-0.1,0.2,1,1,0.2,-0.5,0.2,1.5,0.4,0.6,0.1,0.8,4.2,0,1,0.1,0.1,1.3,0.6,0,1.4,0,-0.3,-0.1,0,0.4,0,-0.1,0.4,1.8,-0.3,0.1,0.4,0.7,4.9,0.7,5.4,0.1,0.3,0.2,0,0.7,2.9,2.7,1.3,1,-0.4,1.1,0,0.3,0.4,0.6,1.4,3.7,1.7,0.4,1.2,-0.1,0.5,0.5,0.7,4.8,0.5,1.6,0.5,0.1,1.4,0,-0.2,-0.2,0.9,0,1.5,0.3,0.9,8.6,0.3,0.4,0,0.1,2.3,-0.3,0.1,0.6,0.3,0.5,19.1,2.1,8.3,9.9,0,2.2,2.6,0.5,1,1.5,0.3,-0.5,-0.1,-0.1,3.1,0.3,0,1.4,3.9,0.8,0.3,-0.4,0.8,0.3,0.4,1.3,1.2,0.5,-0.5,1.1,2.1,3.2,3.9,-0.1,6.6,-0.3,-0.1,6.8,0.9,0.5,0,4.1,-0.1,2,1.4,0.1,0.8,0.7,0.1,2.4,-0.8,1.6,0.9,0,1.5,1.8,-0.2,10.5,0.4,0.4,0.9,2.9,2.1,3.5,1.3,2.5,6.9,2.4,-0.1,0.8,8.8,0.2,0.8,3.3,0,0.9,0.3,0.1,-0.2,0.1,0,0.7,-0.1,4.5,1.1,0.1,0.1,0.4,0.2,0.1,0.7,2.6,0,4.3,0.9,0.3,2.3,2,0.3,0.7,0.3,1.9,7.5,2.3,0.9,-0.2,3.9,0.5,0.4,0.5,0.4,-0.1,1.2,0,0.7,-0.2,0.3,3.8,0.9,5,0.7,2.7,0.2,11.2,0.4,1.2,2.6,2.7,0.7,1.3,0.6,0.1,0.5,0.2,1,-0.1,1.1,0,0.1,-0.1,10.3,0.8,0.5,2.7,5.3,1.1,2.5,1.7,0.3,0.8,1,0.1,1.5,2,-0.2,4.6,-0.2,0.4,1.1,1.6,2.9,0.3,1.3,0.5,0.5,-0.1,0.7,0.1,0.6,0,1,2,1.6,0.8,3.5,0.1,2.2,0.3,4.5,3.9,0.4,4.5,-0.3,1.4,4.5,10.3,0.4,5.5,2.1,-0.1,1.4,0.6,0.5,-0.3,0.9,0.2,2.5,0.1,0.2,0.1,15.8,0.6,0.7,0.1,5.7,3,0.7,1.1,1.8,0,0.4,1.6,0.4,0.7,1.2,0.1,0,0,0.8,0.2,0.8,0.6,1,0,7.5,0.8,0.6,0.5,1.2,0.1,0.2,0.7,0.1,0.5,2.1,1.6,8.2,0.1,0.6,0.4,0.5,-0.9,5.4,2.4,-0.4,0.1,-0.2,-0.4,0.6,0.2,1.8,0.2,0.6,2.2,-0.4,0,0.6,-0.1,0,0.1,-0.2,0.2,0.3,-0.1,2.5,1.3,5.2,6.5,0.1,0.2,0.2,0.3,0.4,2.1,0,1.6,1.2,3.3,0.6,0.1,0,0.2,0.4,-0.1,0.3,0,1,2.5,2.7,0.1,3.3,0.1,4.5,1.3,0,0.1,1.3,1,2.2,1.7,0.4,1.7,2.9,0.6,0.4,0.6,4.7,1.6,3.1,1.5,0.2,0.2,1.3,-0.4,2.9,0.4,-0.3,1.5,1.5,0.1,-0.1,3.4,0.9,0.7,1,0.2,0.5,0.4,0.8,0.2,5.8,0.2,1.7,0.4,0.4,0.1,0.5,0.2,1.6,1,1.4,7.2,5.2,6.8,1.5,0.3,2.1,-0.2,0.3,0.7,3.3,0,0.7,0.4,0.6,1.2,2.1,0.5,4.8,0.2,1.5,12.4,0.9,0.6,2.1,1.1,0.7,0,7.1,0,1.4,-0.4,-0.7,0,0,0.1,0.6,0.4,0.8,1.2,-0.3,-0.1,0.1,0.8,0.4,7.8,-0.1,2.3,0.8,1.2,2.5,0.6,-1.5,0.3,0.2,1.9,0.6,-0.1,2.9,1.3,0.2,3.1,7,0.8,-0.7,1.1,0,1.6,0.1,0.1,5.2,2,0.4,0.9,1.2,0.7,0.7,3.8,1.2,0.1,1.9,0.4,0.7,1.6,4.7,0.9,0.3,0,-0.2,1.8,0.5,0.6,0.4,2.7,0.2,0.5,0.5,0.1,0.1,1.6,-0.1,1,0.4,0.3,2.2,0.4,-0.4,0.7,3.7,-0.2,1,1.9,0.7,0.5,0.1,0.5,1,7,2.9,4,2.9,0.2,1.4,4.6,9.4,-0.5,2.6,0.1,0.7,1.4,1.1,7.3,2.6,0.9,-0.2,-0.1,0.1,1.2,0.2,1,3.7,10.7,2.3,1.9,1,0.1,2.5,1.7,1.2,0.8,0.6,0.1,3.1,0.3,0.6,0.6,0.5,0.5,0,1.5,0.8,0.6,2,0,1.7,-0.2,0.3,1.7,0.1,0.8,1.2,2.1,4.5,0.2,0.6,0.7,-0.1,0.8,0.6,2.5,0.2,5.4,0.5,0.2,1.5,0.3,1.2,1.2,1,0.9,0.2,0.2,3,1.8,1.7,2.7,1,0.6,1.1,0.2,0.5,1.3,-0.1,2,0.3,0.2,1.8,0.5,1.6,0.4,0,0,1.8,0.6,3.4,0.9,2,2.6,1.5,0.5,6.2,0.6,1.9,0.3,0.2,0.7,0,-0.1,1.5,1.4,1.9,1.5,1.1,0.3,0.2,0.7,0.5,0.7,0,0.4,0,2,1.1,2.5,0.9,-0.1,1.7,3.1,1,2.2,3.4,1,2.3,1.3,1.2,2,2.1,0.8,1.6,0.5,-0.1,3.5,1.4,1.2,3.8,0.4,0.2,0.6,0.7,0.6,0.6,0.7,-0.2,-0.1,0.1,-0.7,0.4,0.1,9.4,1.6,0.3,1,13.8,3.3,0.1,0.3,3.3,0,-0.5,2,2,2,0.6,0.5,2.8,0.3,0.3,1.1,0.3,0.5,0.1,1.4,0.7,0.4,3.3,0.4,0.1,0.3,1.9,1.3,0.4,-0.2,0,0.2,1.1,0.9,1,3.7,0.1,0.4,0.9,2.4,1.9,0.2,0.2,0.3,0,0,3.4,-0.5,1.3,2,1.7,0.4,0,4.3,0.6,2.1,0.6,1,-0.3,0.1,-0.1,9.6,0.2,0.6,0.5,2.9,0.2,0.1,-0.2,3,0.2,11,0.5,0.5,3.4,0.2,0.5,5.4,1.4,0.3,0.2,-0.3,0.9,0.2,0,1,2.8,0.7,1.4,1.7,0.6,0.1,2.7,0.4,0,0.5,2.5,0.1,0.1,-0.2,1,0.2,1.3,0.1,-0.2,1.7,0.7,8,1.4,0.6,1.2,0,-0.4,0.3,1.1,0.6,-0.2,-0.2,1.2,0.7,2.5,0.6,-0.8,0,0.9,0,1.2,0.2,0.9,0,2.4,0.4,0.8,0.6,0.2,0.1,1.3,0.8,1.3,0.7,0,2.4,2.8,2.3,0.3,0.2,0.2,0.4,3.9,0.3,1.5,0.4,-0.3,2.2,0.6,1.4,2.6,-0.3,0.7,0.8,0.5,3.8,2.6,1.7,1,0.2,2.4,5.4,0,0.6,-0.3,2.7,0.8,2.2,0.2,1.2,0.1,1.2,2.4,1,0.5,0.5,1.1,2.6,0.2,0,0.3,0.2,0.1,-0.1,2.4,1.9,0.8,1.7,0,0.6,0.5,0.8,0.4,0.2,1.7,3.6,0.6,0.7,1,1.9,-0.2,0.1,0.2,0.7,-0.3,0.3,1.3,6.2,0.5,2.7,1.4,0.4,0.7,0.8,0.8,0.4,0.5,2.5,-0.1,-0.2,2.3,0.7,0.9,0,0.1,0,1.9,0.8,4.8,1,1.3,1.1,-0.1,0.4,0.7,0.7,0.5,0.3,0.1,5.4,0.2,-0.2,0,0.3,0.6,1.9,0.7,0.8,0.5,1.1,0.1,0.2,1.3,0.4,0.2,8.1,2.5,4.6,1.3,0,0.7,1.1,1.5,0.2,-0.2,9.3,0.5,1,2,2.3,1.3,0.7,0.5,5.5,2.6,0.9,0.1,-0.1,0,1.6,0.7,0.1,1.5,0,-0.1,0.8,0.2,1.6,0,0.2,-0.2,2.2,0.4,0.3,2,5.1,0.9,0,1.5,0.6,-0.1,0.2,4.5,0.4,0.4,0,0.1,0.8,0.5,0,0.9,0.1,0.2,0.7,0.3,0.7,1.5,0,6.3,0.6,0.7,1.6,0.6,2.3,0.8,1.5,3.8,5.2,1.8,3.3]"
   ]
  },
  {
   "cell_type": "code",
   "execution_count": 3,
   "metadata": {},
   "outputs": [],
   "source": [
    "population = np.array(population)"
   ]
  },
  {
   "cell_type": "code",
   "execution_count": 4,
   "metadata": {},
   "outputs": [],
   "source": [
    "population_45 = np.random.choice(population, size = 45, replace = True)"
   ]
  },
  {
   "cell_type": "code",
   "execution_count": 5,
   "metadata": {},
   "outputs": [
    {
     "name": "stdout",
     "output_type": "stream",
     "text": [
      "The sample mean is 1.24385\n"
     ]
    }
   ],
   "source": [
    "print(\"The sample mean is %.5f\"%np.mean(population))"
   ]
  },
  {
   "cell_type": "code",
   "execution_count": 6,
   "metadata": {},
   "outputs": [
    {
     "name": "stdout",
     "output_type": "stream",
     "text": [
      "the sample variance is 3.60042\n"
     ]
    }
   ],
   "source": [
    "print(\"the sample variance is %.5f\"%np.var(population))"
   ]
  },
  {
   "cell_type": "code",
   "execution_count": 7,
   "metadata": {},
   "outputs": [
    {
     "name": "stdout",
     "output_type": "stream",
     "text": [
      "the sample standard deviation is 1.89748\n"
     ]
    }
   ],
   "source": [
    "print(\"the sample standard deviation is %.5f\"%np.std(population))"
   ]
  },
  {
   "cell_type": "markdown",
   "metadata": {},
   "source": [
    "### Part 2\n",
    "Using the random sample from Part 1, complete the following analysis of the data."
   ]
  },
  {
   "cell_type": "markdown",
   "metadata": {},
   "source": [
    "**1. Calculate the sample mean, sample standard deviation, sample size and sampling (standard) error**"
   ]
  },
  {
   "cell_type": "code",
   "execution_count": 8,
   "metadata": {},
   "outputs": [
    {
     "name": "stdout",
     "output_type": "stream",
     "text": [
      "The sample mean is 1.12000\n"
     ]
    }
   ],
   "source": [
    "print(\"The sample mean is %.5f\"%np.mean(population_45))"
   ]
  },
  {
   "cell_type": "code",
   "execution_count": 9,
   "metadata": {},
   "outputs": [
    {
     "name": "stdout",
     "output_type": "stream",
     "text": [
      "the sample variance is 2.18693\n"
     ]
    }
   ],
   "source": [
    "print(\"the sample variance is %.5f\"%np.var(population_45))"
   ]
  },
  {
   "cell_type": "code",
   "execution_count": 10,
   "metadata": {},
   "outputs": [
    {
     "name": "stdout",
     "output_type": "stream",
     "text": [
      "the sample standard deviation is 1.47883\n"
     ]
    }
   ],
   "source": [
    "print(\"the sample standard deviation is %.5f\"%np.std(population_45))"
   ]
  },
  {
   "cell_type": "code",
   "execution_count": 11,
   "metadata": {},
   "outputs": [
    {
     "name": "stdout",
     "output_type": "stream",
     "text": [
      "the sample size is 45.00000\n"
     ]
    }
   ],
   "source": [
    "print(\"the sample size is %.5f\"%population_45.size)"
   ]
  },
  {
   "cell_type": "code",
   "execution_count": 12,
   "metadata": {},
   "outputs": [],
   "source": [
    "z_score = np.zeros(len(population_45))\n",
    "z_score = (population_45 - np.mean(population_45))/np.std(population_45)"
   ]
  },
  {
   "cell_type": "code",
   "execution_count": 25,
   "metadata": {},
   "outputs": [
    {
     "name": "stdout",
     "output_type": "stream",
     "text": [
      "the sampling error is 0.28286\n"
     ]
    }
   ],
   "source": [
    "sampling_error = (np.std(population))/(math.sqrt(population_45.size))\n",
    "print(\"the sampling error is %.5f\"%sampling_error)"
   ]
  },
  {
   "cell_type": "markdown",
   "metadata": {},
   "source": [
    "**2. Use the sample to create 92%, 96% and 98% confidence intervals for the population mean.**"
   ]
  },
  {
   "cell_type": "markdown",
   "metadata": {},
   "source": [
    "- z-score of 92% confidence interval is: 1.75\n",
    "- z-score of 96% confidence interval is: 2.05\n",
    "- z-score of 98% confidence interval is: 2.33"
   ]
  },
  {
   "cell_type": "code",
   "execution_count": 13,
   "metadata": {},
   "outputs": [],
   "source": [
    "def population_mean(x, z):\n",
    "    return [np.mean(x)-z*(np.std(x)/math.sqrt(len(x))), np.mean(x)+z*(np.std(x)/math.sqrt(len(x)))]"
   ]
  },
  {
   "cell_type": "code",
   "execution_count": 14,
   "metadata": {},
   "outputs": [
    {
     "data": {
      "text/plain": [
       "[0.7342112456758711, 1.5057887543241286]"
      ]
     },
     "execution_count": 14,
     "metadata": {},
     "output_type": "execute_result"
    }
   ],
   "source": [
    "population_mean(population_45, 1.75)"
   ]
  },
  {
   "cell_type": "code",
   "execution_count": 15,
   "metadata": {},
   "outputs": [
    {
     "data": {
      "text/plain": [
       "[0.6680760306488778, 1.571923969351122]"
      ]
     },
     "execution_count": 15,
     "metadata": {},
     "output_type": "execute_result"
    }
   ],
   "source": [
    "population_mean(population_45, 2.05)"
   ]
  },
  {
   "cell_type": "code",
   "execution_count": 16,
   "metadata": {},
   "outputs": [
    {
     "data": {
      "text/plain": [
       "[0.6063498299570171, 1.6336501700429826]"
      ]
     },
     "execution_count": 16,
     "metadata": {},
     "output_type": "execute_result"
    }
   ],
   "source": [
    "population_mean(population_45, 2.33)"
   ]
  },
  {
   "cell_type": "markdown",
   "metadata": {},
   "source": [
    "**3. For each of the confidence intervals in step 2, use the information already calculated to determine the sample size needed to estimate the population mean to within .05 units.**"
   ]
  },
  {
   "cell_type": "markdown",
   "metadata": {},
   "source": [
    "Formula for the Minimum Sample Size Needed for an Interval Estimate of the Population Mean\n",
    "$$n = (\\frac{Z_{\\alpha/2}\\dot\\sigma}{E})^2$$\n",
    "where E is the margin of error. If necessary, round the answer up to obtain a whole number. That is, if there is any fraction or decimal portion in the answer, use the next whole number for sample size n."
   ]
  },
  {
   "cell_type": "markdown",
   "metadata": {},
   "source": [
    "$\\alpha = 0.92$, $Z = 1.75, \\sigma = 1.48$"
   ]
  },
  {
   "cell_type": "code",
   "execution_count": 101,
   "metadata": {},
   "outputs": [
    {
     "data": {
      "text/plain": [
       "741.5818240000002"
      ]
     },
     "execution_count": 101,
     "metadata": {},
     "output_type": "execute_result"
    }
   ],
   "source": [
    "(1.75*1.48/0.05)**2"
   ]
  },
  {
   "cell_type": "markdown",
   "metadata": {},
   "source": [
    "$\\alpha = 0.96$, $Z = 2.05, \\sigma = 1.48$"
   ]
  },
  {
   "cell_type": "code",
   "execution_count": 102,
   "metadata": {},
   "outputs": [
    {
     "data": {
      "text/plain": [
       "3682.062399999999"
      ]
     },
     "execution_count": 102,
     "metadata": {},
     "output_type": "execute_result"
    }
   ],
   "source": [
    "(2.05*1.48/0.05)**2"
   ]
  },
  {
   "cell_type": "markdown",
   "metadata": {},
   "source": [
    "$\\alpha = 0.98$, $Z = 2.33, \\sigma = 1.48$"
   ]
  },
  {
   "cell_type": "code",
   "execution_count": 103,
   "metadata": {},
   "outputs": [
    {
     "data": {
      "text/plain": [
       "4756.585023999998"
      ]
     },
     "execution_count": 103,
     "metadata": {},
     "output_type": "execute_result"
    }
   ],
   "source": [
    "(2.33*1.48/0.05)**2"
   ]
  },
  {
   "cell_type": "markdown",
   "metadata": {},
   "source": [
    "### Part 3"
   ]
  },
  {
   "cell_type": "markdown",
   "metadata": {},
   "source": [
    "**1. Use the random sampling method to generate a random sample of size 25 from the given International Migration Rates in the dataset. Then calculate the sample mean, sample standard deviation, sample size, degrees of freedom and sampling error.**"
   ]
  },
  {
   "cell_type": "code",
   "execution_count": 17,
   "metadata": {},
   "outputs": [],
   "source": [
    "population_25 = np.random.choice(population, size = 25, replace = True)"
   ]
  },
  {
   "cell_type": "code",
   "execution_count": 18,
   "metadata": {},
   "outputs": [
    {
     "name": "stdout",
     "output_type": "stream",
     "text": [
      "The sample mean is 1.16800\n"
     ]
    }
   ],
   "source": [
    "print(\"The sample mean is %.5f\"%np.mean(population_25))"
   ]
  },
  {
   "cell_type": "code",
   "execution_count": 85,
   "metadata": {},
   "outputs": [
    {
     "name": "stdout",
     "output_type": "stream",
     "text": [
      "The sample standard deviation is 1.86970\n"
     ]
    }
   ],
   "source": [
    "print(\"The sample standard deviation is %.5f\"%np.std(population_25))"
   ]
  },
  {
   "cell_type": "code",
   "execution_count": 20,
   "metadata": {},
   "outputs": [
    {
     "name": "stdout",
     "output_type": "stream",
     "text": [
      "the sample variance is 3.49578\n"
     ]
    }
   ],
   "source": [
    "print(\"the sample variance is %.5f\"%np.var(population_25))"
   ]
  },
  {
   "cell_type": "code",
   "execution_count": 21,
   "metadata": {},
   "outputs": [
    {
     "name": "stdout",
     "output_type": "stream",
     "text": [
      "the sample size is 45.00000\n"
     ]
    }
   ],
   "source": [
    "print(\"the sample size is %.5f\"%population_45.size)"
   ]
  },
  {
   "cell_type": "code",
   "execution_count": 22,
   "metadata": {},
   "outputs": [
    {
     "name": "stdout",
     "output_type": "stream",
     "text": [
      "the sampling error is 0.37950\n"
     ]
    }
   ],
   "source": [
    "z_score = np.zeros(len(population_25))\n",
    "z_score = (population_25 - np.mean(population_25))/np.std(population_25)\n",
    "sampling_error = (np.std(population))/(math.sqrt(population_25.size))\n",
    "print(\"the sampling error is %.5f\"%sampling_error)"
   ]
  },
  {
   "cell_type": "markdown",
   "metadata": {},
   "source": [
    "**2. Use the sample to calculate margin of error, upper and lower confidence interval limit for 92%, 96% and 98% confidence intervals for the population mean. You should know whether to use a z or t value.**"
   ]
  },
  {
   "cell_type": "markdown",
   "metadata": {},
   "source": [
    "- z-score of 92% confidence interval is: 1.75\n",
    "- z-score of 96% confidence interval is: 2.05\n",
    "- z-score of 98% confidence interval is: 2.33"
   ]
  },
  {
   "cell_type": "code",
   "execution_count": 23,
   "metadata": {},
   "outputs": [],
   "source": [
    "def population_mean(p, z, n):\n",
    "    return math.sqrt(p*(1-p)/n)\n",
    "n = len(population_25)"
   ]
  },
  {
   "cell_type": "code",
   "execution_count": 24,
   "metadata": {},
   "outputs": [
    {
     "name": "stdout",
     "output_type": "stream",
     "text": [
      "Margin of error for the sample in 92% confidence interval is: 0.05426\n"
     ]
    }
   ],
   "source": [
    "print(\"Margin of error for the sample in 92%% confidence interval is: %.5f\"%population_mean(0.92, 1.75, n))"
   ]
  },
  {
   "cell_type": "code",
   "execution_count": 25,
   "metadata": {},
   "outputs": [
    {
     "name": "stdout",
     "output_type": "stream",
     "text": [
      "Margin of error for the sample in 96% confidence interval is: 0.03919\n"
     ]
    }
   ],
   "source": [
    "print(\"Margin of error for the sample in 96%% confidence interval is: %.5f\"%population_mean(0.96, 2.05, n))"
   ]
  },
  {
   "cell_type": "code",
   "execution_count": 26,
   "metadata": {},
   "outputs": [
    {
     "name": "stdout",
     "output_type": "stream",
     "text": [
      "Margin of error for the sample in 98% confidence interval is: 0.02800\n"
     ]
    }
   ],
   "source": [
    "print(\"Margin of error for the sample in 98%% confidence interval is: %.5f\"%population_mean(0.98, 3.33, n))"
   ]
  },
  {
   "cell_type": "markdown",
   "metadata": {},
   "source": [
    "### Part 4"
   ]
  },
  {
   "cell_type": "markdown",
   "metadata": {},
   "source": [
    "**1. Use the random sampling method to generate a random sample of size 150 from the given International Migration Rates in the dataset. Calculate the sample proportion that are less than 1 for the random sample**"
   ]
  },
  {
   "cell_type": "code",
   "execution_count": 27,
   "metadata": {},
   "outputs": [],
   "source": [
    "population_150 = np.random.choice(population, size = 150, replace = True)"
   ]
  },
  {
   "cell_type": "code",
   "execution_count": 28,
   "metadata": {},
   "outputs": [
    {
     "name": "stdout",
     "output_type": "stream",
     "text": [
      "Sample proportion that are less than 1 for the random sample is 0.62667\n"
     ]
    }
   ],
   "source": [
    "print(\"Sample proportion that are less than 1 for the random sample is %.5f\"%(len(population_150[population_150<1])/len(population_150)))"
   ]
  },
  {
   "cell_type": "markdown",
   "metadata": {},
   "source": [
    "**2. Calculate the sample proportion of counties whose international migration rate (per 1000) is greater than 2.**"
   ]
  },
  {
   "cell_type": "code",
   "execution_count": 29,
   "metadata": {},
   "outputs": [
    {
     "name": "stdout",
     "output_type": "stream",
     "text": [
      "Sample proportion that are greater than 2 for the random sample is 0.22000\n"
     ]
    }
   ],
   "source": [
    "print(\"Sample proportion that are greater than 2 for the random sample is %.5f\"%(len(population_150[population_150>2])/len(population_150)))"
   ]
  },
  {
   "cell_type": "markdown",
   "metadata": {},
   "source": [
    "**3. Calculate the sample proportion of success, the sample proportion of failure, sample size and sampling error.**"
   ]
  },
  {
   "cell_type": "code",
   "execution_count": 30,
   "metadata": {},
   "outputs": [
    {
     "name": "stdout",
     "output_type": "stream",
     "text": [
      "Sample proportion of success is 0.22000\n"
     ]
    }
   ],
   "source": [
    "print(\"Sample proportion of success is %.5f\"%(len(population_150[population_150>2])/len(population_150)))"
   ]
  },
  {
   "cell_type": "code",
   "execution_count": 31,
   "metadata": {},
   "outputs": [
    {
     "name": "stdout",
     "output_type": "stream",
     "text": [
      "Sample proportion of failure is 0.78000\n"
     ]
    }
   ],
   "source": [
    "print(\"Sample proportion of failure is %.5f\"%(len(population_150[population_150<2])/len(population_150)))"
   ]
  },
  {
   "cell_type": "code",
   "execution_count": 32,
   "metadata": {},
   "outputs": [
    {
     "name": "stdout",
     "output_type": "stream",
     "text": [
      "the sampling error is 0.15493\n"
     ]
    }
   ],
   "source": [
    "z_score = np.zeros(len(population_150))\n",
    "z_score = (population_150 - np.mean(population_150))/np.std(population_150)\n",
    "sampling_error = (np.std(population))/(math.sqrt(population_150.size))\n",
    "print(\"the sampling error is %.5f\"%sampling_error)"
   ]
  },
  {
   "cell_type": "markdown",
   "metadata": {},
   "source": [
    "**4. Using the sample to create a 90%, a 95%, and 99% confidence intervals for the population proportion of counties whose international migration rate (per 1000) is greater than 2 in the designated cells. Calculate the margin of error, upper and lower CI Limit and CI width.**"
   ]
  },
  {
   "cell_type": "markdown",
   "metadata": {},
   "source": [
    "- z-score of 90% confidence interval is: 1.65\n",
    "- z-score of 96% confidence interval is: 1.67\n",
    "- z-score of 99% confidence interval is: 2.58"
   ]
  },
  {
   "cell_type": "code",
   "execution_count": 40,
   "metadata": {},
   "outputs": [],
   "source": [
    "n = len(population_150)"
   ]
  },
  {
   "cell_type": "code",
   "execution_count": 41,
   "metadata": {},
   "outputs": [
    {
     "name": "stdout",
     "output_type": "stream",
     "text": [
      "Margin of error for the sample in 90% confidence interval is: 0.02449\n"
     ]
    }
   ],
   "source": [
    "print(\"Margin of error for the sample in 90%% confidence interval is: %.5f\"%population_mean(0.90, 1.65, n))"
   ]
  },
  {
   "cell_type": "code",
   "execution_count": 42,
   "metadata": {},
   "outputs": [
    {
     "name": "stdout",
     "output_type": "stream",
     "text": [
      "Margin of error for the sample in 96% confidence interval is: 0.01600\n"
     ]
    }
   ],
   "source": [
    "print(\"Margin of error for the sample in 96%% confidence interval is: %.5f\"%population_mean(0.96, 1.67, n))"
   ]
  },
  {
   "cell_type": "code",
   "execution_count": 43,
   "metadata": {},
   "outputs": [
    {
     "name": "stdout",
     "output_type": "stream",
     "text": [
      "Margin of error for the sample in 99% confidence interval is: 0.00812\n"
     ]
    }
   ],
   "source": [
    "print(\"Margin of error for the sample in 99%% confidence interval is: %.5f\"%population_mean(0.99, 2.58, n))"
   ]
  },
  {
   "cell_type": "markdown",
   "metadata": {},
   "source": [
    "**5. Determine the minimum sample size needed to estimate the population proportion of interest to within 8%. Do this for each confidence interval above. Assume that there is no prior knowledge about the proportion of counties whose international migration rate (per 1000) is greater than 2.**"
   ]
  },
  {
   "cell_type": "markdown",
   "metadata": {},
   "source": [
    "Formula for Minimum Sample Size Needed for Interval Estimate of a Population Proportion:\n",
    "$$n = \\hat{p}\\hat{q}(\\frac{Z_{\\alpha/2}}{E})^2$$"
   ]
  },
  {
   "cell_type": "markdown",
   "metadata": {},
   "source": [
    "Since $Z_{\\alpha/2} = 1.96$, E = 0.08 and $\\hat{p}=0.2$, then\n",
    "$$n = \\hat{p}\\hat{q}(\\frac{Z_{\\alpha/2}}{E})^2 = (0.2)(0.8)(\\frac{1.96}{0.02})^2$$"
   ]
  },
  {
   "cell_type": "code",
   "execution_count": 100,
   "metadata": {},
   "outputs": [
    {
     "data": {
      "text/plain": [
       "1536.6400000000003"
      ]
     },
     "execution_count": 100,
     "metadata": {},
     "output_type": "execute_result"
    }
   ],
   "source": [
    "(0.2)*(0.8)*(1.96/0.02)**2"
   ]
  },
  {
   "cell_type": "markdown",
   "metadata": {},
   "source": [
    "**6. Calculate the population proportion of success and the population proportion of failure.**"
   ]
  },
  {
   "cell_type": "code",
   "execution_count": 45,
   "metadata": {},
   "outputs": [
    {
     "name": "stdout",
     "output_type": "stream",
     "text": [
      "Sample proportion of success is 0.18182\n"
     ]
    }
   ],
   "source": [
    "print(\"Sample proportion of success is %.5f\"%(len(population[population>2])/len(population)))"
   ]
  },
  {
   "cell_type": "code",
   "execution_count": 46,
   "metadata": {},
   "outputs": [
    {
     "name": "stdout",
     "output_type": "stream",
     "text": [
      "Sample proportion of failure is 0.80584\n"
     ]
    }
   ],
   "source": [
    "print(\"Sample proportion of failure is %.5f\"%(len(population[population<2])/len(population)))"
   ]
  },
  {
   "cell_type": "markdown",
   "metadata": {},
   "source": [
    "### Part 5"
   ]
  },
  {
   "cell_type": "markdown",
   "metadata": {},
   "source": [
    "**1. Use the random sampling method to generate a random sample of size 22 from the given population.**"
   ]
  },
  {
   "cell_type": "code",
   "execution_count": 47,
   "metadata": {},
   "outputs": [],
   "source": [
    "population_22 = np.random.choice(population, size = 22, replace = True)"
   ]
  },
  {
   "cell_type": "markdown",
   "metadata": {},
   "source": [
    "**2. Calculate the sample variance, sample standard deviation, and degrees of freedom.**"
   ]
  },
  {
   "cell_type": "code",
   "execution_count": 49,
   "metadata": {},
   "outputs": [
    {
     "data": {
      "text/plain": [
       "1.4197727272727276"
      ]
     },
     "execution_count": 49,
     "metadata": {},
     "output_type": "execute_result"
    }
   ],
   "source": [
    "np.var(population_22)"
   ]
  },
  {
   "cell_type": "code",
   "execution_count": 51,
   "metadata": {},
   "outputs": [
    {
     "data": {
      "text/plain": [
       "1.1915421634473233"
      ]
     },
     "execution_count": 51,
     "metadata": {},
     "output_type": "execute_result"
    }
   ],
   "source": [
    "np.std(population_22)"
   ]
  },
  {
   "cell_type": "code",
   "execution_count": 52,
   "metadata": {},
   "outputs": [
    {
     "data": {
      "text/plain": [
       "21"
      ]
     },
     "execution_count": 52,
     "metadata": {},
     "output_type": "execute_result"
    }
   ],
   "source": [
    "df = len(population_22) - 1\n",
    "df"
   ]
  },
  {
   "cell_type": "markdown",
   "metadata": {},
   "source": [
    "**3. Use the sample to create 90%, 95% and 98% confidence intervals for the population variance and standard deviation.**"
   ]
  },
  {
   "cell_type": "markdown",
   "metadata": {},
   "source": [
    "- 90% confidence interval, we have $\\alpha = 0.10$ which gives 5% of the area at each end of the chi-square distribution. We find values of $x_{0.95}^2 = 11.591$ and $x_{0.05}^2 = 32.671$.\n",
    "\n",
    "- 95% confidence interval, we have $\\alpha = 0.05$ which gives 2.5% of the area at each end of the chi-square distribution. We find values of $x_{0.975}^2 = 10.283$ and $x_{0.025}^2 = 35.479$.\n",
    "\n",
    "- 98% confidence interval, we have $\\alpha = 0.02$ which gives 1% of the area at each end of the chi-square distribution. We find values of $x_{0.99}^2 = 8.897$ and $x_{0.01}^2 = 38.932$."
   ]
  },
  {
   "cell_type": "code",
   "execution_count": 69,
   "metadata": {},
   "outputs": [],
   "source": [
    "def population_variance(n, s2, x2_1,x2_2):\n",
    "    return [math.sqrt((n-1)*s2/x2_1), math.sqrt((n-1)*s2/x2_2)]"
   ]
  },
  {
   "cell_type": "code",
   "execution_count": 74,
   "metadata": {},
   "outputs": [
    {
     "name": "stdout",
     "output_type": "stream",
     "text": [
      "the population variance of 90% sample confidence interval is between 1.56518 to 0.93227\n",
      "the population standard deviation of 90% sample confidence interval is between 1.25107 to 0.96554\n"
     ]
    }
   ],
   "source": [
    "low_var, high_var = population_variance(df, np.var(population_22), 11.591, 32.671)\n",
    "low_std, high_std = math.sqrt(low_var), math.sqrt(high_var)\n",
    "print(\"the population variance of 90%% sample confidence interval is between %.5f to %.5f\"%(low_var, high_var))\n",
    "print(\"the population standard deviation of 90%% sample confidence interval is between %.5f to %.5f\"%(low_std, high_std))"
   ]
  },
  {
   "cell_type": "code",
   "execution_count": 75,
   "metadata": {},
   "outputs": [
    {
     "name": "stdout",
     "output_type": "stream",
     "text": [
      "the population variance of 95% sample confidence interval is between 1.66175 to 0.89462\n",
      "the population standard deviation of 95% sample confidence interval is between 1.28909 to 0.94584\n"
     ]
    }
   ],
   "source": [
    "low_var, high_var = population_variance(df, np.var(population_22), 10.283, 35.479)\n",
    "low_std, high_std = math.sqrt(low_var), math.sqrt(high_var)\n",
    "print(\"the population variance of 95%% sample confidence interval is between %.5f to %.5f\"%(low_var, high_var))\n",
    "print(\"the population standard deviation of 95%% sample confidence interval is between %.5f to %.5f\"%(low_std, high_std))"
   ]
  },
  {
   "cell_type": "code",
   "execution_count": 76,
   "metadata": {},
   "outputs": [
    {
     "name": "stdout",
     "output_type": "stream",
     "text": [
      "the population variance of 98% sample confidence interval is between 1.78650 to 0.85403\n",
      "the population standard deviation of 98% sample confidence interval is between 1.33660 to 0.92414\n"
     ]
    }
   ],
   "source": [
    "low_var, high_var = population_variance(df, np.var(population_22), 8.897, 38.932)\n",
    "low_std, high_std = math.sqrt(low_var), math.sqrt(high_var)\n",
    "print(\"the population variance of 98%% sample confidence interval is between %.5f to %.5f\"%(low_var, high_var))\n",
    "print(\"the population standard deviation of 98%% sample confidence interval is between %.5f to %.5f\"%(low_std, high_std))"
   ]
  },
  {
   "cell_type": "markdown",
   "metadata": {},
   "source": [
    "### Part 6"
   ]
  },
  {
   "cell_type": "markdown",
   "metadata": {},
   "source": [
    "**Use the sample in Part 1 to test the hypothesis that the average migration rate (per 1000) in the population is greater than 1. Use alpha = 0.05.**"
   ]
  },
  {
   "cell_type": "markdown",
   "metadata": {},
   "source": [
    "**Step 1:** \n",
    "$H_0: \\mu = 1.244$ $H_1: \\mu > 1$\n",
    "\n",
    "**Step 2:**\n",
    "Find the critical value. Since $\\alpha = 0.05$ and the test is a right-tailed test, the critical value is $z = +1.65$\n",
    "\n",
    "**Step 3:**\n",
    "Compute the test value: $z = \\frac{\\bar{X} - \\mu}{\\sigma / \\sqrt{n}}$"
   ]
  },
  {
   "cell_type": "code",
   "execution_count": 82,
   "metadata": {},
   "outputs": [
    {
     "data": {
      "text/plain": [
       "0.8620903774822735"
      ]
     },
     "execution_count": 82,
     "metadata": {},
     "output_type": "execute_result"
    }
   ],
   "source": [
    "(np.mean(population) - 1)/(np.std(population)/math.sqrt(len(population_45)))"
   ]
  },
  {
   "cell_type": "markdown",
   "metadata": {},
   "source": [
    "**Step 4:** Make the decision. Since the test value 0.86 is smaller than the critical value 1.65, the decision is not to reject the null hypothesis."
   ]
  },
  {
   "cell_type": "markdown",
   "metadata": {},
   "source": [
    "**Step 5:** Summarize the results There is enough evidence to support the claim that the hypothesis that the average migration rate (per 1000) in the population is greater than 1. Use alpha = 0.05."
   ]
  },
  {
   "cell_type": "markdown",
   "metadata": {},
   "source": [
    "### Part 7"
   ]
  },
  {
   "cell_type": "markdown",
   "metadata": {},
   "source": [
    "**Use the sample in Part 3 to test the hypothesis that the population average migration rate (per 1000) is less than 1.5. Use alpha = 0.02**"
   ]
  },
  {
   "cell_type": "markdown",
   "metadata": {},
   "source": [
    "**Step 1:** \n",
    "$H_0: \\mu = 1.168$ $H_1: \\mu < 1.5$\n",
    "\n",
    "**Step 2:**\n",
    "Find the critical value. Since $\\alpha = 0.02$ and the test is a right-tailed test, the critical value is $z = +2.05$\n",
    "\n",
    "**Step 3:**\n",
    "Compute the test value:"
   ]
  },
  {
   "cell_type": "code",
   "execution_count": 83,
   "metadata": {},
   "outputs": [
    {
     "data": {
      "text/plain": [
       "1.1680000000000001"
      ]
     },
     "execution_count": 83,
     "metadata": {},
     "output_type": "execute_result"
    }
   ],
   "source": [
    "(np.mean(population) - 1)/(np.std(population)/math.sqrt(len(population_45)))"
   ]
  },
  {
   "cell_type": "markdown",
   "metadata": {},
   "source": [
    "**Step 4:** Make the decision. Since the test value 1.168 is smaller than the critical value 2.05, the decision is reject the null hypothesis."
   ]
  },
  {
   "cell_type": "markdown",
   "metadata": {},
   "source": [
    "**Step 5:** Summarize the results There is enough evidence to support the claim that the hypothesis that the population average migration rate (per 1000) is less than 1.5. Use alpha = 0.02"
   ]
  },
  {
   "cell_type": "markdown",
   "metadata": {},
   "source": [
    "### Part 8"
   ]
  },
  {
   "cell_type": "markdown",
   "metadata": {},
   "source": [
    "**Use the sample in part 4 to test the hypothesis that less than 20% of the US counties have a migration rate that is higher than 2 (in 1000). Use alpha = 0.03.**"
   ]
  },
  {
   "cell_type": "markdown",
   "metadata": {},
   "source": [
    "**Step 1:** State the hypotheses and identify the claim.\n",
    "$H_0: p = 0.2$ $H_1: p < 0.2$\n",
    "\n",
    "**Step 2:**\n",
    "Compute the test value.\n",
    "$\\hat{p} = \\frac{X}{n} = 0.22$\n",
    "$p = 0.2$ and $q = 1-p = 0.8$\n",
    "\n",
    "**Step 3:**\n",
    "Compute the test value:"
   ]
  },
  {
   "cell_type": "code",
   "execution_count": 90,
   "metadata": {},
   "outputs": [
    {
     "data": {
      "text/plain": [
       "1.1677484162422838"
      ]
     },
     "execution_count": 90,
     "metadata": {},
     "output_type": "execute_result"
    }
   ],
   "source": [
    "(0.22-0.2)/(math.sqrt(0.22*0.2/len(population_150)))"
   ]
  },
  {
   "cell_type": "markdown",
   "metadata": {},
   "source": [
    "**Step 4:** Do not reject the null hypothesis, since the test value does not fall in the critical region (< -1.88).\n",
    "\n",
    "**Step 5:** There is not enough evidence to reject the claim that less than 20% of the US counties have a migration rate that is higher than 2 in alpha = 0.03."
   ]
  },
  {
   "cell_type": "markdown",
   "metadata": {},
   "source": [
    "### Part 9"
   ]
  },
  {
   "cell_type": "markdown",
   "metadata": {},
   "source": [
    "**Use the sample in Part 5 to test the hypothesis that the standard deviation of the population emigration rates (in 1000) is different from 1.2. Use alpha = 0.05.**"
   ]
  },
  {
   "cell_type": "markdown",
   "metadata": {},
   "source": [
    "**Step 1:** State the hypotheses and identify the claim.\n",
    "$H_0: \\theta^2 = 1.2$ $H_1: p \\neq 1.2$\n",
    "\n",
    "**Step 2:** Find the critical values. Since this test is a two-tailed test at a 0.05, the critical values for 0.025 and 0.975 must be found. The degrees of freedom are 21; hence, the critical values are 35.479 and 10.283, respectively. \n",
    "\n",
    "**Step 3:** Compute the test value:\n",
    "$$X^2 =\\frac{(n-1)*s^2}{\\sigma^2} = \\frac{(22-1)(1.42)}{1.2^2} $$\n",
    " \n"
   ]
  },
  {
   "cell_type": "code",
   "execution_count": 98,
   "metadata": {},
   "outputs": [
    {
     "data": {
      "text/plain": [
       "20.708333333333336"
      ]
     },
     "execution_count": 98,
     "metadata": {},
     "output_type": "execute_result"
    }
   ],
   "source": [
    "(22-1)*(1.42)/(1.2**2)"
   ]
  },
  {
   "cell_type": "markdown",
   "metadata": {},
   "source": [
    "**Step 4:** Make the decision. Do not reject the null hypothesis, since the test value falls between the critical values (10.283 < 20.71 < 35.479) and in the noncritical region."
   ]
  }
 ],
 "metadata": {
  "kernelspec": {
   "display_name": "Python 3",
   "language": "python",
   "name": "python3"
  },
  "language_info": {
   "codemirror_mode": {
    "name": "ipython",
    "version": 3
   },
   "file_extension": ".py",
   "mimetype": "text/x-python",
   "name": "python",
   "nbconvert_exporter": "python",
   "pygments_lexer": "ipython3",
   "version": "3.7.4"
  }
 },
 "nbformat": 4,
 "nbformat_minor": 2
}
