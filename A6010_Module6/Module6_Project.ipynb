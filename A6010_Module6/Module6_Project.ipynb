{
 "cells": [
  {
   "cell_type": "code",
   "execution_count": 291,
   "metadata": {},
   "outputs": [],
   "source": [
    "import random\n",
    "from sklearn import preprocessing as preprocessing\n",
    "import numpy as np\n",
    "import math\n",
    "import pandas as pd\n",
    "import seaborn as sns\n",
    "from scipy import stats\n",
    "from scipy.stats import probplot\n",
    "import matplotlib.pyplot as plt\n",
    "import statistics "
   ]
  },
  {
   "cell_type": "code",
   "execution_count": 201,
   "metadata": {},
   "outputs": [],
   "source": [
    "sns.set(color_codes=True)"
   ]
  },
  {
   "cell_type": "markdown",
   "metadata": {},
   "source": [
    "## Part 1"
   ]
  },
  {
   "cell_type": "markdown",
   "metadata": {},
   "source": [
    "#### 1. Use the random sampling method to draw a random sample of 200 from the NY LOC QUOTIENTs and a random sample of size 200 from the LA LOC QUOTIENTs. "
   ]
  },
  {
   "cell_type": "code",
   "execution_count": 2,
   "metadata": {},
   "outputs": [],
   "source": [
    "NY = [0.63,1.04,0.91,3.24,1.62,1.13,1.45,1.20,1.35,1.35,0.53,0.88,0.83,1.52,1.24,1.56,0.20,0.79,1.48,1.28,0.96,0.72,0.60,0.56,0.98,0.26,1.21,0.68,0.80,1.16,0.84,0.89,3.23,0.86,1.11,1.18,1.15,0.74,1.06,1.51,0.71,1.03,1.54,1.28,1.50,1.08,1.66,0.74,1.42,0.56,0.96,1.79,2.91,2.28,1.33,2.17,0.83,0.64,0.97,0.64,0.86,0.95,1.10,1.07,1.17,1.33,0.84,1.46,1.15,1.13,1.06,1.00,1.17,0.48,1.92,0.66,0.91,0.57,1.33,1.88,0.95,0.18,0.77,0.09,0.27,0.43,0.81,0.76,0.45,0.73,0.93,0.42,0.42,0.22,0.18,0.05,0.53,0.99,0.86,0.67,0.63,0.35,0.36,0.59,0.34,0.29,0.32,0.33,1.10,0.11,3.14,0.69,0.17,0.25,0.34,0.16,0.50,1.17,0.55,0.99,0.43,1.46,0.69,0.78,0.31,0.40,0.58,0.47,1.09,1.49,0.47,1.65,0.57,0.69,0.22,0.82,0.19,0.46,1.10,0.04,0.24,1.73,0.96,0.52,1.25,1.09,1.19,0.77,0.90,0.57,1.12,1.01,1.09,1.27,0.95,0.65,1.51,1.24,2.03,1.86,2.12,1.43,1.88,0.55,1.35,0.73,0.87,1.31,1.14,1.18,0.78,1.28,1.38,1.26,0.92,0.11,1.16,0.78,1.32,1.81,1.26,2.24,1.48,1.35,0.52,1.48,1.66,1.29,1.89,1.35,1.10,1.10,1.73,1.41,2.35,2.54,1.49,1.64,1.59,1.52,1.25,1.64,1.00,0.80,0.55,1.39,0.82,0.93,1.08,1.31,0.99,0.64,2.13,1.82,2.24,1.85,1.01,2.08,0.95,0.88,2.82,1.58,1.12,1.43,1.27,0.50,0.34,1.01,1.46,0.54,3.21,0.71,1.83,0.98,1.34,5.45,0.78,1.56,1.29,0.86,2.04,0.95,2.25,2.80,0.43,0.77,1.09,1.23,0.14,2.05,2.60,0.64,0.59,1.06,3.30,1.66,1.52,3.06,1.04,2.47,0.66,0.52,1.38,2.18,0.75,1.96,1.03,2.14,0.53,1.30,0.59,1.38,1.14,1.07,1.11,0.65,0.28,1.04,1.11,1.37,2.32,0.95,2.07,1.47,2.22,1.16,1.07,0.98,1.17,0.68,1.36,0.69,0.65,0.72,0.93,0.37,1.04,1.16,1.03,1.01,0.85,0.80,0.72,1.18,0.92,0.95,0.98,0.39,0.71,0.32,0.38,0.80,0.67,0.76,0.79,0.55,0.64,0.85,0.26,0.67,0.57,0.68,0.81,1.28,0.29,3.76,1.07,1.36,0.78,0.49,0.62,1.45,0.79,1.03,0.79,1.26,0.42,0.74,0.55,0.90,0.81,1.93,0.97,0.53,1.55,0.27,2.40,0.74,1.18,0.26,1.32,1.12,5.07,0.49,0.91,0.05,1.81,2.37,1.00,2.32,1.83,0.70,0.47,0.54,0.76,1.40,0.77,1.18,0.97,0.59,1.39,0.92,1.16,1.16,0.89,0.76,1.16,1.14,0.79,1.32,0.80,0.85,0.70,0.81,0.39,2.80,0.04,1.32,1.03,0.30,0.98,1.57,0.80,3.24,1.59,0.76,0.64,0.80,2.24,1.32,2.61,3.31,3.33,1.71,1.39,2.52,0.92,1.07,0.96,1.37,1.31,0.70,0.69,0.82,1.34,0.83,0.33,0.72,0.52,1.08,2.23,0.82,2.64,1.59,1.28,0.62,1.02,1.35,0.77,0.60,0.60,0.56,0.48,1.16,0.87,1.82,0.67,0.67,1.26,1.06,0.93,1.00,0.88,1.05,1.93,0.61,0.81,0.95,0.85,0.78,1.51,0.51,1.24,1.03,0.56,0.33,0.70,1.24,1.59,1.19,0.56,1.51,1.55,0.78,1.03,0.72,1.09,1.04,1.61,1.23,0.81,0.95,0.78,2.17,1.60,0.41,1.20,1.61,1.31,3.00,1.26,0.76,1.43,0.97,1.41,2.21,0.79,1.27,0.18,0.24,0.21,0.48,0.59,0.37,1.49,1.73,0.98,0.84,0.57,1.20,0.68,0.94,0.62,0.94,0.45,0.63,0.80,1.03,0.41,0.30,0.91,0.36,0.96,0.52,0.64,0.40,0.81,1.23,1.67,0.96,0.71,1.10,0.82,0.95,1.17,2.77,0.58,0.66,2.70,1.03,0.74,0.53,0.15,0.15,0.78,1.02,0.47,0.78,0.24,0.47,0.72,0.52,1.41,0.70,0.67,1.17,0.52,0.79,0.42,0.70,0.84,0.02,0.32,0.55,0.48,0.48,0.24,0.64,0.77,0.90,1.00,1.06,0.42,0.42,0.45,0.45,1.28,1.06,0.71,0.76,2.55,0.93,1.09,0.89,1.47,0.19,1.74,0.83,0.86,0.53,0.05,0.42,0.53,0.13,0.36,0.19,0.29,0.98,0.81,0.34,0.17,0.42,0.59,0.56,0.33,0.42,0.40,0.34,0.27,0.28,0.38,0.38,0.34,0.29,0.48,0.29,0.14,0.29,0.33,0.37,0.28,0.23,0.24,0.28,0.14,0.33,0.15,0.35,0.22,0.34,0.95,0.70,0.67,1.26,0.82,1.41,1.26,1.81,1.20,0.36,0.90,0.60,0.06,3.27,0.45,0.68,0.67,0.70,0.10,0.13,0.48,0.65,1.62,0.44,0.26,0.15,0.37,0.74,0.50,0.52,0.53,0.82,1.04,0.61,0.73,0.15,0.59,2.88,0.78,0.79,0.76,0.34,0.57,0.91,0.98,0.26,0.35,0.26,0.42,0.35,0.54,0.08,0.37,0.36,0.61,0.93,1.64,0.43,0.71,0.79,1.97,1.18,2.24,1.27,0.77,0.55,0.91,1.39,1.08,1.42,5.20,0.77,0.89,0.57,1.06,0.84,1.63,1.25,3.13,2.38,1.41,1.42,0.23,0.46,0.58,0.55,0.77,0.92,0.39,0.89,0.48,0.55,1.20,0.78,0.94]\n",
    "LA = [0.63,1.04,0.91,3.24,1.62,1.13,1.45,1.20,1.35,1.35,0.53,0.88,0.83,1.52,1.24,1.56,0.20,0.79,1.48,1.28,0.96,0.72,0.60,0.56,0.98,0.26,1.21,0.68,0.80,1.16,0.84,0.89,3.23,0.86,1.11,1.18,1.15,0.74,1.06,1.51,0.71,1.03,1.54,1.28,1.50,1.08,1.66,0.74,1.42,0.56,0.96,1.79,2.91,2.28,1.33,2.17,0.83,0.64,0.97,0.64,0.86,0.95,1.10,1.07,1.17,1.33,0.84,1.46,1.15,1.13,1.06,1.00,1.17,0.48,1.92,0.66,0.91,0.57,1.33,1.88,0.95,0.18,0.77,0.09,0.27,0.43,0.81,0.76,0.45,0.73,0.93,0.42,0.42,0.22,0.18,0.05,0.53,0.99,0.86,0.67,0.63,0.35,0.36,0.59,0.34,0.29,0.32,0.33,1.10,0.11,3.14,0.69,0.17,0.25,0.34,0.16,0.50,1.17,0.55,0.99,0.43,1.46,0.69,0.78,0.31,0.40,0.58,0.47,1.09,1.49,0.47,1.65,0.57,0.69,0.22,0.82,0.19,0.46,1.10,0.04,0.24,1.73,0.96,0.52,1.25,1.09,1.19,0.77,0.90,0.57,1.12,1.01,1.09,1.27,0.95,0.65,1.51,1.24,2.03,1.86,2.12,1.43,1.88,0.55,1.35,0.73,0.87,1.31,1.14,1.18,0.78,1.28,1.38,1.26,0.92,0.11,1.16,0.78,1.32,1.81,1.26,2.24,1.48,1.35,0.52,1.48,1.66,1.29,1.89,1.35,1.10,1.10,1.73,1.41,2.35,2.54,1.49,1.64,1.59,1.52,1.25,1.64,1.00,0.80,0.55,1.39,0.82,0.93,1.08,1.31,0.99,0.64,2.13,1.82,2.24,1.85,1.01,2.08,0.95,0.88,2.82,1.58,1.12,1.43,1.27,0.50,0.34,1.01,1.46,0.54,3.21,0.71,1.83,0.98,1.34,5.45,0.78,1.56,1.29,0.86,2.04,0.95,2.25,2.80,0.43,0.77,1.09,1.23,0.14,2.05,2.60,0.64,0.59,1.06,3.30,1.66,1.52,3.06,1.04,2.47,0.66,0.52,1.38,2.18,0.75,1.96,1.03,2.14,0.53,1.30,0.59,1.38,1.14,1.07,1.11,0.65,0.28,1.04,1.11,1.37,2.32,0.95,2.07,1.47,2.22,1.16,1.07,0.98,1.17,0.68,1.36,0.69,0.65,0.72,0.93,0.37,1.04,1.16,1.03,1.01,0.85,0.80,0.72,1.18,0.92,0.95,0.98,0.39,0.71,0.32,0.38,0.80,0.67,0.76,0.79,0.55,0.64,0.85,0.26,0.67,0.57,0.68,0.81,1.28,0.29,3.76,1.07,1.36,0.78,0.49,0.62,1.45,0.79,1.03,0.79,1.26,0.42,0.74,0.55,0.90,0.81,1.93,0.97,0.53,1.55,0.27,2.40,0.74,1.18,0.26,1.32,1.12,5.07,0.49,0.91,0.05,1.81,2.37,1.00,2.32,1.83,0.70,0.47,0.54,0.76,1.40,0.77,1.18,0.97,0.59,1.39,0.92,1.16,1.16,0.89,0.76,1.16,1.14,0.79,1.32,0.80,0.85,0.70,0.81,0.39,2.80,0.04,1.32,1.03,0.30,0.98,1.57,0.80,3.24,1.59,0.76,0.64,0.80,2.24,1.32,2.61,3.31,3.33,1.71,1.39,2.52,0.92,1.07,0.96,1.37,1.31,0.70,0.69,0.82,1.34,0.83,0.33,0.72,0.52,1.08,2.23,0.82,2.64,1.59,1.28,0.62,1.02,1.35,0.77,0.60,0.60,0.56,0.48,1.16,0.87,1.82,0.67,0.67,1.26,1.06,0.93,1.00,0.88,1.05,1.93,0.61,0.81,0.95,0.85,0.78,1.51,0.51,1.24,1.03,0.56,0.33,0.70,1.24,1.59,1.19,0.56,1.51,1.55,0.78,1.03,0.72,1.09,1.04,1.61,1.23,0.81,0.95,0.78,2.17,1.60,0.41,1.20,1.61,1.31,3.00,1.26,0.76,1.43,0.97,1.41,2.21,0.79,1.27,0.18,0.24,0.21,0.48,0.59,0.37,1.49,1.73,0.98,0.84,0.57,1.20,0.68,0.94,0.62,0.94,0.45,0.63,0.80,1.03,0.41,0.30,0.91,0.36,0.96,0.52,0.64,0.40,0.81,1.23,1.67,0.96,0.71,1.10,0.82,0.95,1.17,2.77,0.58,0.66,2.70,1.03,0.74,0.53,0.15,0.15,0.78,1.02,0.47,0.78,0.24,0.47,0.72,0.52,1.41,0.70,0.67,1.17,0.52,0.79,0.42,0.70,0.84,0.02,0.32,0.55,0.48,0.48,0.24,0.64,0.77,0.90,1.00,1.06,0.42,0.42,0.45,0.45,1.28,1.06,0.71,0.76,2.55,0.93,1.09,0.89,1.47,0.19,1.74,0.83,0.86,0.53,0.05,0.42,0.53,0.13,0.36,0.19,0.29,0.98,0.81,0.34,0.17,0.42,0.59,0.56,0.33,0.42,0.40,0.34,0.27,0.28,0.38,0.38,0.34,0.29,0.48,0.29,0.14,0.29,0.33,0.37,0.28,0.23,0.24,0.28,0.14,0.33,0.15,0.35,0.22,0.34,0.95,0.70,0.67,1.26,0.82,1.41,1.26,1.81,1.20,0.36,0.90,0.60,0.06,3.27,0.45,0.68,0.67,0.70,0.10,0.13,0.48,0.65,1.62,0.44,0.26,0.15,0.37,0.74,0.50,0.52,0.53,0.82,1.04,0.61,0.73,0.15,0.59,2.88,0.78,0.79,0.76,0.34,0.57,0.91,0.98,0.26,0.35,0.26,0.42,0.35,0.54,0.08,0.37,0.36,0.61,0.93,1.64,0.43,0.71,0.79,1.97,1.18,2.24,1.27,0.77,0.55,0.91,1.39,1.08,1.42,5.20,0.77,0.89,0.57,1.06,0.84,1.63,1.25,3.13,2.38,1.41,1.42,0.23,0.46,0.58,0.55,0.77,0.92,0.39,0.89,0.48,0.55,1.20,0.78,0.94]"
   ]
  },
  {
   "cell_type": "code",
   "execution_count": 3,
   "metadata": {},
   "outputs": [],
   "source": [
    "NY_200 = np.asarray(random.sample(NY,200))\n",
    "LA_200 = np.asarray(random.sample(LA,200))"
   ]
  },
  {
   "cell_type": "markdown",
   "metadata": {},
   "source": [
    "#### 2. Standardize both sets samples of LOC QUOTIENTs and put the standardized values (𝒛) in a new data file."
   ]
  },
  {
   "cell_type": "markdown",
   "metadata": {},
   "source": [
    "The Standardized Values Formula:\n",
    "\n",
    "$$z = \\frac{X-\\mu}{\\sigma}$$\n",
    "\n",
    "You calculate a standardized value (a z-score), using the above formula. The symbols are:\n",
    "\n",
    "- X: the observation (a specific value that you are calculating the z-score for).\n",
    "- $\\mu$: the mean\n",
    "- $\\sigma$: the standard deviation."
   ]
  },
  {
   "cell_type": "code",
   "execution_count": 4,
   "metadata": {},
   "outputs": [],
   "source": [
    "sd_NY_200 = (NY_200 - np.mean(NY_200))/np.std(NY_200)\n",
    "sd_LA_200 = (LA_200 - np.mean(LA_200))/np.std(LA_200)"
   ]
  },
  {
   "cell_type": "markdown",
   "metadata": {},
   "source": [
    "#### 3. For each of the two sets of LOC QUOTIENTs values, partition the standardized values into seven groups according to the following group specifications:\n",
    "- Group 1: Standardized values that are less than or equal to – 0.5 (that is, 𝒛 ≤ −𝟎.𝟓)\n",
    "- Group 2: Standardized values satisfy: −𝟎.𝟓 < 𝒛 ≤ 𝟎\n",
    "- Group 3: Standardized values satisfy: 𝟎 < 𝒛 ≤ 𝟏\n",
    "- Group 4: Standardized values satisfy: 𝟏 < 𝒛 ≤ 𝟐\n",
    "- Group 5: Standardized values satisfy: 𝟐 < 𝒛 ≤ 𝟑\n",
    "- Group 6: Standardized values satisfy: 𝟑 < 𝒛 ≤ 𝟒\n",
    "- Group 7: Standardized values satisfy: 𝒛 > 4"
   ]
  },
  {
   "cell_type": "code",
   "execution_count": 5,
   "metadata": {},
   "outputs": [],
   "source": [
    "def count_value(data):\n",
    "    res = []\n",
    "    res.append(len(np.where(data<=-0.5)[0]))\n",
    "    res.append(len(np.where((data>-0.5)&(data<0))[0]))\n",
    "    res.append(len(np.where((data>0)&(data<=1))[0]))\n",
    "    res.append(len(np.where((data>1)&(data<=2))[0]))\n",
    "    res.append(len(np.where((data>2)&(data<=3))[0]))\n",
    "    res.append(len(np.where((data>3)&(data<=4))[0]))\n",
    "    res.append(len(np.where(data>4)[0]))\n",
    "    return res"
   ]
  },
  {
   "cell_type": "markdown",
   "metadata": {},
   "source": [
    "**Observed**"
   ]
  },
  {
   "cell_type": "code",
   "execution_count": 6,
   "metadata": {},
   "outputs": [
    {
     "data": {
      "text/plain": [
       "[61, 60, 52, 17, 6, 4, 0]"
      ]
     },
     "execution_count": 6,
     "metadata": {},
     "output_type": "execute_result"
    }
   ],
   "source": [
    "sd_NY_200_observed = count_value(sd_NY_200)\n",
    "sd_NY_200_observed"
   ]
  },
  {
   "cell_type": "code",
   "execution_count": 7,
   "metadata": {},
   "outputs": [
    {
     "data": {
      "text/plain": [
       "[64, 58, 57, 14, 4, 1, 2]"
      ]
     },
     "execution_count": 7,
     "metadata": {},
     "output_type": "execute_result"
    }
   ],
   "source": [
    "sd_LA_200_observed = count_value(sd_LA_200)\n",
    "sd_LA_200_observed"
   ]
  },
  {
   "cell_type": "code",
   "execution_count": 8,
   "metadata": {},
   "outputs": [
    {
     "data": {
      "text/plain": [
       "[125, 118, 109, 31, 10, 5, 2]"
      ]
     },
     "execution_count": 8,
     "metadata": {},
     "output_type": "execute_result"
    }
   ],
   "source": [
    "total_observed = [sd_NY_200_observed[i]+sd_LA_200_observed[i] for i in range(len(sd_NY_200_observed))]\n",
    "total_observed"
   ]
  },
  {
   "cell_type": "markdown",
   "metadata": {},
   "source": [
    "#### 4. Next, count the number of NY and the number of LA standardized LOC QUOTIENT values that fall into each of the above seven groups."
   ]
  },
  {
   "cell_type": "markdown",
   "metadata": {},
   "source": [
    "Since the frequencies for each flavor were obtained from a sample, these actual frequencies are called the **observed frequencies**. The frequencies obtained by calculation(as if there were no preference) are called the **expected frequencies**.\n",
    "\n",
    "1. If all expected frequencies are equal, the frequency $E$ can be calcualted by using $E=n/k$, where $n$ is the total number of observations and k is the number of categories.\n",
    "2. If all the expected frequencies are not equal, then the expected frequency $E$ can be calculated by $E = n\\cdot p$, where $n$ is the total number of observations and $p$ is the probability for that category."
   ]
  },
  {
   "cell_type": "markdown",
   "metadata": {},
   "source": [
    "**Expected**"
   ]
  },
  {
   "cell_type": "code",
   "execution_count": 9,
   "metadata": {},
   "outputs": [],
   "source": [
    "n = 200\n",
    "sd_NY = (NY - np.mean(NY))/np.std(NY)\n",
    "sd_LA = (LA - np.mean(LA))/np.std(LA)"
   ]
  },
  {
   "cell_type": "code",
   "execution_count": 10,
   "metadata": {},
   "outputs": [],
   "source": [
    "def expected_value(data, n):\n",
    "    res = []\n",
    "    res.append(round(n*(len(np.where(data<=-0.5)[0]))/len(data)))\n",
    "    res.append(round(n*(len(np.where((data>-0.5)&(data<=0))[0]))/len(data)))\n",
    "    res.append(round(n*(len(np.where((data>0)&(data<=1))[0]))/len(data)))\n",
    "    res.append(round(n*(len(np.where((data>1)&(data<=2))[0]))/len(data)))\n",
    "    res.append(round(n*(len(np.where((data>2)&(data<=3))[0]))/len(data)))\n",
    "    res.append(round(n*(len(np.where((data>3)&(data<=4))[0]))/len(data)))\n",
    "    res.append(round(n*(len(np.where(data>4)[0]))/len(data)))\n",
    "    return res    "
   ]
  },
  {
   "cell_type": "code",
   "execution_count": 11,
   "metadata": {},
   "outputs": [
    {
     "data": {
      "text/plain": [
       "[64, 55, 59, 13, 5, 3, 1]"
      ]
     },
     "execution_count": 11,
     "metadata": {},
     "output_type": "execute_result"
    }
   ],
   "source": [
    "sd_NY_expected = expected_value(sd_NY,200)\n",
    "sd_NY_expected"
   ]
  },
  {
   "cell_type": "code",
   "execution_count": 12,
   "metadata": {},
   "outputs": [
    {
     "data": {
      "text/plain": [
       "[64, 55, 59, 13, 5, 3, 1]"
      ]
     },
     "execution_count": 12,
     "metadata": {},
     "output_type": "execute_result"
    }
   ],
   "source": [
    "sd_LA_expected = expected_value(sd_LA,200)\n",
    "sd_LA_expected"
   ]
  },
  {
   "cell_type": "code",
   "execution_count": 13,
   "metadata": {},
   "outputs": [
    {
     "data": {
      "text/plain": [
       "[128, 110, 118, 26, 10, 6, 2]"
      ]
     },
     "execution_count": 13,
     "metadata": {},
     "output_type": "execute_result"
    }
   ],
   "source": [
    "total_expected = [sd_NY_expected[i]+sd_LA_expected[i] for i in range(len(sd_NY_expected))]\n",
    "total_expected"
   ]
  },
  {
   "cell_type": "markdown",
   "metadata": {},
   "source": [
    "#### 5. Use alpha = 0.10 to perform a Chi-squared test of independency to test the claim that the standardized LOC QUOTIENTs and locations (NY and LA) are independent factors "
   ]
  },
  {
   "cell_type": "markdown",
   "metadata": {},
   "source": [
    "Formula for the Chi-Square Goodness-of-Fit Test:\n",
    "$$x^2 = \\sum{\\frac{(O - E)^2}{E}}$$\n",
    "With degrees of freedom equal to the number of categories minus 1, and where\n",
    "\n",
    "O = observed frequency\n",
    "\n",
    "E = expected frequency"
   ]
  },
  {
   "cell_type": "markdown",
   "metadata": {},
   "source": [
    "**Step 1:** State the hypotheses and identify the claim.\n",
    "    \n",
    " $H_0$: LOC QUOTIENTS and locations are independent factors.\n",
    "    \n",
    " $H_a$: LOC QUOTIENTS and locations are not independent factors.\n",
    "\n",
    "**Step 2:** Find the critical value. The degrees of freedom is (7-1)(3-1)=12 , and $\\alpha=0.10$. Hence, the critical value from Table G is 18.549.\n",
    "\n",
    "**Step 3:** Compute the test value."
   ]
  },
  {
   "cell_type": "code",
   "execution_count": 15,
   "metadata": {},
   "outputs": [
    {
     "data": {
      "text/plain": [
       "7.031470877286555"
      ]
     },
     "execution_count": 15,
     "metadata": {},
     "output_type": "execute_result"
    }
   ],
   "source": [
    "x_2 = 0\n",
    "for i in range(len(sd_NY_200_observed)):\n",
    "    x_2 += (sd_NY_200_observed[i]-sd_NY_expected[i])**2/sd_NY_expected[i]\n",
    "for i in range(len(sd_LA_200_observed)):\n",
    "    x_2 += (sd_LA_200_observed[i]-sd_LA_expected[i])**2/sd_LA_expected[i]\n",
    "x_2"
   ]
  },
  {
   "cell_type": "markdown",
   "metadata": {},
   "source": [
    "**Step 4:** Make a decision. The decision is to not to not reject the null hypothesis, since 7.03 < 18.549.\n",
    "\n",
    "**Step 5:** Summarize the results. There is not enough evidence to support the claim that LOC QUOTIENT is related to locations."
   ]
  },
  {
   "cell_type": "markdown",
   "metadata": {},
   "source": [
    "## Part 2\n",
    "The data in Q2 consists of a sample of LOC QUOTIENTs for both NY and LA for 324 randomly selected professions "
   ]
  },
  {
   "cell_type": "code",
   "execution_count": 46,
   "metadata": {},
   "outputs": [],
   "source": [
    "NY_2 = [0.63,1.04,0.91,1.62,1.13,1.45,1.20,1.35,1.35,0.53,0.88,0.83,1.52,1.24,1.56,0.20,0.79,1.48,0.96,0.72,0.60,0.56,0.26,1.21,0.68,0.80,0.84,0.89,3.23,0.86,1.11,1.18,1.15,0.74,1.06,1.51,0.71,1.03,1.54,1.28,1.50,1.08,1.66,0.74,1.42,0.56,0.96,1.79,2.91,2.28,1.33,2.17,0.83,0.64,0.97,0.64,0.86,0.95,1.10,1.07,1.17,1.33,0.84,1.46,1.15,1.13,1.06,1.00,1.17,0.48,1.92,0.66,0.91,0.57,1.88,0.95,0.18,0.77,0.09,0.27,0.43,0.81,0.76,0.45,0.73,0.93,0.42,0.42,0.22,0.05,0.53,0.99,0.86,0.67,0.63,0.35,0.36,0.59,0.34,0.29,0.32,0.33,1.10,0.11,3.14,0.69,0.17,0.25,0.34,0.16,0.50,1.17,0.55,0.99,0.43,1.46,0.69,0.78,0.31,0.40,0.58,0.47,1.09,1.49,0.47,1.65,0.57,0.82,0.19,0.46,1.10,0.04,1.73,0.96,0.52,1.25,1.09,1.19,0.77,0.90,0.57,1.12,1.01,1.09,1.27,0.95,0.65,1.51,1.24,2.03,1.86,2.12,1.43,1.88,0.87,1.31,1.18,0.78,1.28,1.38,1.26,0.92,1.16,0.78,1.32,1.81,1.26,2.24,1.48,1.35,0.52,1.48,1.66,1.29,1.89,1.35,1.10,1.10,1.41,2.35,1.49,1.64,1.59,1.52,1.25,1.64,1.00,0.80,0.55,1.39,0.82,0.93,1.08,0.99,0.64,1.82,2.24,1.85,1.01,2.08,0.95,0.88,2.82,1.58,1.12,1.43,1.27,0.50,1.01,1.46,0.54,3.21,0.71,1.83,0.98,1.34,5.45,0.78,1.56,1.29,2.04,0.95,2.25,2.80,0.43,0.77,1.09,0.14,2.05,2.60,0.59,1.06,1.66,1.52,3.06,1.04,2.47,0.66,0.52,1.38,2.18,1.96,1.03,2.14,0.53,1.30,1.38,1.14,1.07,1.11,0.65,0.28,1.04,1.11,1.37,2.32,0.95,2.07,1.47,2.22,1.16,1.07,0.98,1.17,0.68,1.36,0.69,0.72,0.93,0.37,1.04,1.16,1.03,1.01,0.85,0.80,0.72,1.18,0.92,0.95,0.98,0.39,0.71,0.32,0.38,0.80,0.67,0.76,0.79,0.55,0.64,0.85,0.26,0.67,0.57,0.68,0.81,0.29,3.76,1.07,1.36,0.78,0.49,0.62,1.45,0.79,1.03,0.79,1.26,0.42,0.74,0.55,0.90,0.81,1.93,0.97,0.53,1.55,0.27,0.74,1.18,0.26,1.32,1.12] \n",
    "LA_2 = [0.91,1.42,2.41,0.83,2.33,2.10,0.71,0.05,1.21,1.21,0.78,1.96,1.41,1.93,2.77,1.37,0.43,4.07,1.10,1.59,0.89,0.80,0.76,1.24,2.01,1.01,2.28,1.06,2.38,1.04,1.34,0.29,1.10,0.07,3.66,3.57,1.48,0.98,1.42,1.55,1.78,0.62,1.49,0.97,2.12,0.87,1.85,0.69,1.44,1.84,3.04,0.05,1.02,0.91,1.56,3.69,1.20,1.09,1.32,1.16,2.24,1.31,0.57,1.38,1.22,1.87,3.57,0.90,1.21,0.58,2.03,0.63,1.07,0.65,2.94,1.09,0.65,1.28,0.60,0.70,2.16,1.01,1.66,0.70,1.78,0.12,0.89,0.38,1.80,0.41,0.38,1.11,1.04,1.55,1.70,1.05,0.85,2.39,0.44,0.72,0.73,0.76,1.17,0.90,2.33,2.66,1.20,1.11,0.44,0.32,0.78,1.21,2.45,1.00,0.55,0.89,0.21,0.99,1.20,1.78,1.27,0.72,1.99,1.29,2.24,0.18,0.93,1.49,0.66,0.81,1.23,0.10,2.16,0.94,0.85,0.73,1.17,0.88,1.40,0.72,0.86,0.98,1.12,1.63,1.97,1.14,0.92,2.72,2.06,1.11,1.73,1.75,1.59,1.62,0.69,1.29,3.67,1.26,1.21,1.42,3.22,1.30,1.21,0.51,1.15,0.43,1.27,1.34,1.56,1.02,0.86,1.14,1.47,0.88,1.78,1.32,1.17,0.69,1.35,1.10,2.22,1.48,1.45,1.54,1.93,1.48,1.12,1.01,1.62,1.28,1.02,1.08,1.16,0.59,1.55,0.53,1.82,1.51,2.64,1.73,1.60,1.65,2.16,1.26,1.32,1.26,0.35,0.39,1.12,4.50,0.86,2.07,2.01,1.59,1.11,2.18,3.64,1.41,1.44,1.28,1.71,1.61,2.39,2.14,0.80,0.08,0.88,0.63,3.35,1.99,0.99,1.15,1.49,1.86,2.29,0.97,2.99,1.59,0.85,1.37,2.12,1.66,1.14,1.36,1.16,1.29,1.33,1.20,0.30,0.94,1.47,0.71,1.12,1.18,1.26,2.04,1.09,1.72,1.82,1.55,1.44,1.81,1.11,1.21,2.73,1.32,0.94,0.96,2.14,1.77,1.51,1.44,1.92,0.22,1.76,0.87,0.09,1.87,1.07,1.09,1.27,0.46,0.95,1.95,0.59,1.06,0.07,0.98,2.27,1.28,0.58,2.03,0.60,0.01,0.87,1.23,1.01,0.72,2.86,1.16,1.44,0.99,1.55,0.90,0.19,1.00,0.09,1.81,1.27,1.69,0.97,1.36,1.06,1.01,2.88,0.80,0.45,1.43,0.70,1.85,1.22,1.34,1.30,1.01]"
   ]
  },
  {
   "cell_type": "code",
   "execution_count": 47,
   "metadata": {},
   "outputs": [],
   "source": [
    "df = pd.DataFrame(list(zip(NY_2,LA_2)),\n",
    "                 columns=['NY','LA'])"
   ]
  },
  {
   "cell_type": "code",
   "execution_count": 48,
   "metadata": {},
   "outputs": [
    {
     "data": {
      "text/html": [
       "<div>\n",
       "<style scoped>\n",
       "    .dataframe tbody tr th:only-of-type {\n",
       "        vertical-align: middle;\n",
       "    }\n",
       "\n",
       "    .dataframe tbody tr th {\n",
       "        vertical-align: top;\n",
       "    }\n",
       "\n",
       "    .dataframe thead th {\n",
       "        text-align: right;\n",
       "    }\n",
       "</style>\n",
       "<table border=\"1\" class=\"dataframe\">\n",
       "  <thead>\n",
       "    <tr style=\"text-align: right;\">\n",
       "      <th></th>\n",
       "      <th>NY</th>\n",
       "      <th>LA</th>\n",
       "    </tr>\n",
       "  </thead>\n",
       "  <tbody>\n",
       "    <tr>\n",
       "      <td>0</td>\n",
       "      <td>0.63</td>\n",
       "      <td>0.91</td>\n",
       "    </tr>\n",
       "    <tr>\n",
       "      <td>1</td>\n",
       "      <td>1.04</td>\n",
       "      <td>1.42</td>\n",
       "    </tr>\n",
       "    <tr>\n",
       "      <td>2</td>\n",
       "      <td>0.91</td>\n",
       "      <td>2.41</td>\n",
       "    </tr>\n",
       "    <tr>\n",
       "      <td>3</td>\n",
       "      <td>1.62</td>\n",
       "      <td>0.83</td>\n",
       "    </tr>\n",
       "    <tr>\n",
       "      <td>4</td>\n",
       "      <td>1.13</td>\n",
       "      <td>2.33</td>\n",
       "    </tr>\n",
       "    <tr>\n",
       "      <td>...</td>\n",
       "      <td>...</td>\n",
       "      <td>...</td>\n",
       "    </tr>\n",
       "    <tr>\n",
       "      <td>319</td>\n",
       "      <td>0.74</td>\n",
       "      <td>1.85</td>\n",
       "    </tr>\n",
       "    <tr>\n",
       "      <td>320</td>\n",
       "      <td>1.18</td>\n",
       "      <td>1.22</td>\n",
       "    </tr>\n",
       "    <tr>\n",
       "      <td>321</td>\n",
       "      <td>0.26</td>\n",
       "      <td>1.34</td>\n",
       "    </tr>\n",
       "    <tr>\n",
       "      <td>322</td>\n",
       "      <td>1.32</td>\n",
       "      <td>1.30</td>\n",
       "    </tr>\n",
       "    <tr>\n",
       "      <td>323</td>\n",
       "      <td>1.12</td>\n",
       "      <td>1.01</td>\n",
       "    </tr>\n",
       "  </tbody>\n",
       "</table>\n",
       "<p>324 rows × 2 columns</p>\n",
       "</div>"
      ],
      "text/plain": [
       "       NY    LA\n",
       "0    0.63  0.91\n",
       "1    1.04  1.42\n",
       "2    0.91  2.41\n",
       "3    1.62  0.83\n",
       "4    1.13  2.33\n",
       "..    ...   ...\n",
       "319  0.74  1.85\n",
       "320  1.18  1.22\n",
       "321  0.26  1.34\n",
       "322  1.32  1.30\n",
       "323  1.12  1.01\n",
       "\n",
       "[324 rows x 2 columns]"
      ]
     },
     "execution_count": 48,
     "metadata": {},
     "output_type": "execute_result"
    }
   ],
   "source": [
    "df"
   ]
  },
  {
   "cell_type": "markdown",
   "metadata": {},
   "source": [
    "1. Calculate the slope and the intercept of the regression line and the coefficients of correlation and determination of the regression model."
   ]
  },
  {
   "cell_type": "markdown",
   "metadata": {},
   "source": [
    "**Formulas for the Regression Line ${y}' = a+bx$**:\n",
    "\n",
    "$$a = \\frac{(\\sum{y})(\\sum{x^2})-(\\sum{x})(\\sum{xy})}{n\\sum{x^2}-(\\sum{x})^2}$$\n",
    "\n",
    "$$b = \\frac{n(\\sum{xy})-(\\sum{x})(\\sum{y})}{n(\\sum{x^2})-(\\sum{x})^2}$$\n",
    "\n",
    "where $a$ is the ${y}'$ intercept and $b$ is the slope of the line."
   ]
  },
  {
   "cell_type": "code",
   "execution_count": 167,
   "metadata": {},
   "outputs": [],
   "source": [
    "n=324\n",
    "a = (((sum(df.LA))*(sum(df.NY**2)))-(sum(df.NY))*(sum(df.NY*df.LA)))/(n*(sum(df.NY**2))-(sum(df.NY))**2)\n",
    "b = (n*(sum(df.LA*df.NY))-(sum(df.NY))*(sum(df.LA)))/(n*(sum(df.NY**2))-(sum(df.NY))**2)"
   ]
  },
  {
   "cell_type": "code",
   "execution_count": 168,
   "metadata": {},
   "outputs": [
    {
     "data": {
      "text/plain": [
       "0.8163986899956057"
      ]
     },
     "execution_count": 168,
     "metadata": {},
     "output_type": "execute_result"
    }
   ],
   "source": [
    "a"
   ]
  },
  {
   "cell_type": "code",
   "execution_count": 109,
   "metadata": {},
   "outputs": [
    {
     "data": {
      "text/plain": [
       "0.48058343105613305"
      ]
     },
     "execution_count": 109,
     "metadata": {},
     "output_type": "execute_result"
    }
   ],
   "source": [
    "b"
   ]
  },
  {
   "cell_type": "markdown",
   "metadata": {},
   "source": [
    "2. Create a scatter plot of the LA LOC QUOTIENTS versus those of NY. Display the regression line along with its equation and the **R2** value on the graph. "
   ]
  },
  {
   "cell_type": "code",
   "execution_count": 205,
   "metadata": {},
   "outputs": [
    {
     "data": {
      "image/png": "[encoded data removed]",
      "text/plain": [
       "<Figure size 432x288 with 1 Axes>"
      ]
     },
     "metadata": {},
     "output_type": "display_data"
    }
   ],
   "source": [
    "df_line=pd.DataFrame(list(zip([0,5],\n",
    "               [0*b+a,5*b+a])),\n",
    "                    columns=['NY','LA'])\n",
    "ax = sns.lineplot(x=df_line.NY,y=df_line.LA,color='r')\n",
    "ax = sns.scatterplot(x=df.NY, y=df.LA)"
   ]
  },
  {
   "cell_type": "markdown",
   "metadata": {},
   "source": [
    "Formula for the Linear Correlation Coefficient r:\n",
    "$$r = \\frac{n(\\sum{xy})-(\\sum{x})(\\sum{y})}{[n(\\sum{x^2})-(\\sum{x})^2][n(\\sum{y^2})-(\\sum{y})^2]}$$"
   ]
  },
  {
   "cell_type": "code",
   "execution_count": 126,
   "metadata": {},
   "outputs": [
    {
     "data": {
      "text/plain": [
       "8.65875760904208e-06"
      ]
     },
     "execution_count": 126,
     "metadata": {},
     "output_type": "execute_result"
    }
   ],
   "source": [
    "r2 = (n*(sum(df.NY*df.LA))-(sum(df.NY)*sum(df.LA)))/((n*(sum(df.NY**2))-(sum(df.NY))**2)*(n*(sum(df.LA**2))-(sum(df.LA))**2))\n",
    "r2"
   ]
  },
  {
   "cell_type": "markdown",
   "metadata": {},
   "source": [
    "The linear correlation coefficient suggests no linear relationship between the LOC QUOTIENT in LA and NY locations."
   ]
  },
  {
   "cell_type": "markdown",
   "metadata": {},
   "source": [
    "3. Use the calculated slope and intercept calculate the predicted Y values and the residuals. "
   ]
  },
  {
   "cell_type": "code",
   "execution_count": 132,
   "metadata": {},
   "outputs": [],
   "source": [
    "df['predict_LA']=df.NY*b+a\n",
    "df['residuals'] = df['LA']-df['predict_LA']"
   ]
  },
  {
   "cell_type": "code",
   "execution_count": 133,
   "metadata": {},
   "outputs": [
    {
     "data": {
      "text/html": [
       "<div>\n",
       "<style scoped>\n",
       "    .dataframe tbody tr th:only-of-type {\n",
       "        vertical-align: middle;\n",
       "    }\n",
       "\n",
       "    .dataframe tbody tr th {\n",
       "        vertical-align: top;\n",
       "    }\n",
       "\n",
       "    .dataframe thead th {\n",
       "        text-align: right;\n",
       "    }\n",
       "</style>\n",
       "<table border=\"1\" class=\"dataframe\">\n",
       "  <thead>\n",
       "    <tr style=\"text-align: right;\">\n",
       "      <th></th>\n",
       "      <th>NY</th>\n",
       "      <th>LA</th>\n",
       "      <th>predict_LA</th>\n",
       "      <th>residuals</th>\n",
       "    </tr>\n",
       "  </thead>\n",
       "  <tbody>\n",
       "    <tr>\n",
       "      <td>0</td>\n",
       "      <td>0.63</td>\n",
       "      <td>0.91</td>\n",
       "      <td>1.119166</td>\n",
       "      <td>-0.209166</td>\n",
       "    </tr>\n",
       "    <tr>\n",
       "      <td>1</td>\n",
       "      <td>1.04</td>\n",
       "      <td>1.42</td>\n",
       "      <td>1.316205</td>\n",
       "      <td>0.103795</td>\n",
       "    </tr>\n",
       "    <tr>\n",
       "      <td>2</td>\n",
       "      <td>0.91</td>\n",
       "      <td>2.41</td>\n",
       "      <td>1.253730</td>\n",
       "      <td>1.156270</td>\n",
       "    </tr>\n",
       "    <tr>\n",
       "      <td>3</td>\n",
       "      <td>1.62</td>\n",
       "      <td>0.83</td>\n",
       "      <td>1.594944</td>\n",
       "      <td>-0.764944</td>\n",
       "    </tr>\n",
       "    <tr>\n",
       "      <td>4</td>\n",
       "      <td>1.13</td>\n",
       "      <td>2.33</td>\n",
       "      <td>1.359458</td>\n",
       "      <td>0.970542</td>\n",
       "    </tr>\n",
       "    <tr>\n",
       "      <td>...</td>\n",
       "      <td>...</td>\n",
       "      <td>...</td>\n",
       "      <td>...</td>\n",
       "      <td>...</td>\n",
       "    </tr>\n",
       "    <tr>\n",
       "      <td>319</td>\n",
       "      <td>0.74</td>\n",
       "      <td>1.85</td>\n",
       "      <td>1.172030</td>\n",
       "      <td>0.677970</td>\n",
       "    </tr>\n",
       "    <tr>\n",
       "      <td>320</td>\n",
       "      <td>1.18</td>\n",
       "      <td>1.22</td>\n",
       "      <td>1.383487</td>\n",
       "      <td>-0.163487</td>\n",
       "    </tr>\n",
       "    <tr>\n",
       "      <td>321</td>\n",
       "      <td>0.26</td>\n",
       "      <td>1.34</td>\n",
       "      <td>0.941350</td>\n",
       "      <td>0.398650</td>\n",
       "    </tr>\n",
       "    <tr>\n",
       "      <td>322</td>\n",
       "      <td>1.32</td>\n",
       "      <td>1.30</td>\n",
       "      <td>1.450769</td>\n",
       "      <td>-0.150769</td>\n",
       "    </tr>\n",
       "    <tr>\n",
       "      <td>323</td>\n",
       "      <td>1.12</td>\n",
       "      <td>1.01</td>\n",
       "      <td>1.354652</td>\n",
       "      <td>-0.344652</td>\n",
       "    </tr>\n",
       "  </tbody>\n",
       "</table>\n",
       "<p>324 rows × 4 columns</p>\n",
       "</div>"
      ],
      "text/plain": [
       "       NY    LA  predict_LA  residuals\n",
       "0    0.63  0.91    1.119166  -0.209166\n",
       "1    1.04  1.42    1.316205   0.103795\n",
       "2    0.91  2.41    1.253730   1.156270\n",
       "3    1.62  0.83    1.594944  -0.764944\n",
       "4    1.13  2.33    1.359458   0.970542\n",
       "..    ...   ...         ...        ...\n",
       "319  0.74  1.85    1.172030   0.677970\n",
       "320  1.18  1.22    1.383487  -0.163487\n",
       "321  0.26  1.34    0.941350   0.398650\n",
       "322  1.32  1.30    1.450769  -0.150769\n",
       "323  1.12  1.01    1.354652  -0.344652\n",
       "\n",
       "[324 rows x 4 columns]"
      ]
     },
     "execution_count": 133,
     "metadata": {},
     "output_type": "execute_result"
    }
   ],
   "source": [
    "df"
   ]
  },
  {
   "cell_type": "markdown",
   "metadata": {},
   "source": [
    "4. Calculate the Residuals Mean, Residuals SD, Residuals Minimum, Residuals Maximum and Residuals Count. "
   ]
  },
  {
   "cell_type": "code",
   "execution_count": 134,
   "metadata": {},
   "outputs": [
    {
     "data": {
      "text/plain": [
       "count    3.240000e+02\n",
       "mean     6.808683e-16\n",
       "std      6.587033e-01\n",
       "min     -1.809265e+00\n",
       "25%     -2.530979e-01\n",
       "50%     -1.591179e-01\n",
       "75%      2.460270e-01\n",
       "max      2.981950e+00\n",
       "Name: residuals, dtype: float64"
      ]
     },
     "execution_count": 134,
     "metadata": {},
     "output_type": "execute_result"
    }
   ],
   "source": [
    "df['residuals'].describe()"
   ]
  },
  {
   "cell_type": "markdown",
   "metadata": {},
   "source": [
    "5. Perform the procedure for creating a normal probability plot of the residuals."
   ]
  },
  {
   "cell_type": "code",
   "execution_count": 204,
   "metadata": {},
   "outputs": [
    {
     "data": {
      "image/png": "[encoded data removed]",
      "text/plain": [
       "<Figure size 432x288 with 1 Axes>"
      ]
     },
     "metadata": {},
     "output_type": "display_data"
    }
   ],
   "source": [
    "probplot(df['residuals'],dist='norm',plot=plt)\n",
    "plt.show()"
   ]
  },
  {
   "cell_type": "markdown",
   "metadata": {},
   "source": [
    "6. Check the independency of the residuals graphically"
   ]
  },
  {
   "cell_type": "markdown",
   "metadata": {},
   "source": [
    "This is a classic example of what a normal probability plot looks like when the residuals are normally distributed, but with some outlier. The relationship is approximately linear. We could proceed with the assumption that the error terms are normally distributed."
   ]
  },
  {
   "cell_type": "markdown",
   "metadata": {},
   "source": [
    "7. Check the homoscedasticity of the residuals graphically"
   ]
  },
  {
   "cell_type": "code",
   "execution_count": 208,
   "metadata": {},
   "outputs": [
    {
     "data": {
      "image/png": "[encoded data removed]",
      "text/plain": [
       "<Figure size 432x288 with 1 Axes>"
      ]
     },
     "metadata": {},
     "output_type": "display_data"
    }
   ],
   "source": [
    "ax = sns.scatterplot(x=df.NY, y=df.residuals)"
   ]
  },
  {
   "cell_type": "markdown",
   "metadata": {},
   "source": [
    "**the homoscedasticity assumption:**\n",
    "If the residual values are more or less evenly distributed about the line, then the relationship between x and y is linear and the regression line can be used to make predictions. This means that the standard deviations of each of the dependent variables must be the same for each value of the independent variable. And this figure follow this assumption."
   ]
  },
  {
   "cell_type": "markdown",
   "metadata": {},
   "source": [
    "8. Construct a frequency distribution of the residuals consisting of 18 bins. "
   ]
  },
  {
   "cell_type": "code",
   "execution_count": 206,
   "metadata": {},
   "outputs": [
    {
     "data": {
      "text/plain": [
       "<matplotlib.axes._subplots.AxesSubplot at 0x1a21afa650>"
      ]
     },
     "execution_count": 206,
     "metadata": {},
     "output_type": "execute_result"
    },
    {
     "data": {
      "image/png": "[encoded data removed]",
      "text/plain": [
       "<Figure size 432x288 with 1 Axes>"
      ]
     },
     "metadata": {},
     "output_type": "display_data"
    }
   ],
   "source": [
    "sns.distplot(df.residuals,bins=18)"
   ]
  },
  {
   "cell_type": "markdown",
   "metadata": {},
   "source": [
    "The displaying histogram of residuals suggests that the residuals (and hence the error terms) are normally distributed:"
   ]
  },
  {
   "cell_type": "markdown",
   "metadata": {},
   "source": [
    "9. Then use the Chisquared Goodness of Fit test to test the normality of the residuals. "
   ]
  },
  {
   "cell_type": "code",
   "execution_count": 362,
   "metadata": {},
   "outputs": [],
   "source": [
    "lst_residuals = df.residuals.to_list()\n",
    "lst_residuals.sort()\n",
    "cell = (max(lst_residuals)-min(lst_residuals))/18\n",
    "bins = [lst_residuals[0]+i*cell for i in range(18)]\n",
    "bins.append(lst_residuals[-1])"
   ]
  },
  {
   "cell_type": "code",
   "execution_count": 363,
   "metadata": {},
   "outputs": [
    {
     "data": {
      "text/plain": [
       "[-1.8092647353874143,\n",
       " -1.5430861667179778,\n",
       " -1.2769075980485416,\n",
       " -1.0107290293791054,\n",
       " -0.7445504607096689,\n",
       " -0.47837189204023245,\n",
       " -0.21219332337079622,\n",
       " 0.05398524529864002,\n",
       " 0.32016381396807647,\n",
       " 0.5863423826375129,\n",
       " 0.8525209513069494,\n",
       " 1.1186995199763854,\n",
       " 1.3848780886458218,\n",
       " 1.6510566573152583,\n",
       " 1.9172352259846943,\n",
       " 2.1834137946541308,\n",
       " 2.4495923633235672,\n",
       " 2.7157709319930032,\n",
       " 2.98194950066244]"
      ]
     },
     "execution_count": 363,
     "metadata": {},
     "output_type": "execute_result"
    }
   ],
   "source": [
    "bins"
   ]
  },
  {
   "cell_type": "code",
   "execution_count": 377,
   "metadata": {},
   "outputs": [],
   "source": [
    "data = []\n",
    "f = []\n",
    "mid_point = []\n",
    "left = right = bins[0]\n",
    "for i in range(len(bins)-1):\n",
    "    temp=[]\n",
    "    if i == len(bins)-2:\n",
    "        right = bins[-1]\n",
    "        for value in lst_residuals:\n",
    "            if value>=bins[i]:\n",
    "                temp.append(value)\n",
    "    else:\n",
    "        for value in lst_residuals:\n",
    "            if value>=bins[i] and value<bins[i+1]:\n",
    "                temp.append(value)\n",
    "        right = bins[i+1]\n",
    "    data.append(temp)\n",
    "    f.append(len(temp))\n",
    "    mid_point.append((right+left)/2)\n",
    "    left = right"
   ]
  },
  {
   "cell_type": "code",
   "execution_count": 379,
   "metadata": {},
   "outputs": [
    {
     "data": {
      "text/plain": [
       "[1, 3, 13, 6, 27, 55, 115, 32, 25, 16, 9, 10, 4, 1, 1, 3, 2, 1]"
      ]
     },
     "execution_count": 379,
     "metadata": {},
     "output_type": "execute_result"
    }
   ],
   "source": [
    "f"
   ]
  },
  {
   "cell_type": "code",
   "execution_count": 388,
   "metadata": {},
   "outputs": [
    {
     "data": {
      "text/plain": [
       "18.0"
      ]
     },
     "execution_count": 388,
     "metadata": {},
     "output_type": "execute_result"
    }
   ],
   "source": [
    "e = 324/18\n",
    "e"
   ]
  },
  {
   "cell_type": "code",
   "execution_count": 382,
   "metadata": {},
   "outputs": [
    {
     "data": {
      "text/plain": [
       "[-1.676175451052696,\n",
       " -1.4099968823832598,\n",
       " -1.1438183137138234,\n",
       " -0.8776397450443871,\n",
       " -0.6114611763749507,\n",
       " -0.34528260770551433,\n",
       " -0.0791040390360781,\n",
       " 0.18707452963335824,\n",
       " 0.4532530983027947,\n",
       " 0.7194316669722312,\n",
       " 0.9856102356416674,\n",
       " 1.2517888043111036,\n",
       " 1.51796737298054,\n",
       " 1.7841459416499763,\n",
       " 2.0503245103194123,\n",
       " 2.316503078988849,\n",
       " 2.5826816476582852,\n",
       " 2.8488602163277217]"
      ]
     },
     "execution_count": 382,
     "metadata": {},
     "output_type": "execute_result"
    }
   ],
   "source": [
    "mid_point"
   ]
  }
 ],
 "metadata": {
  "kernelspec": {
   "display_name": "Python 3",
   "language": "python",
   "name": "python3"
  },
  "language_info": {
   "codemirror_mode": {
    "name": "ipython",
    "version": 3
   },
   "file_extension": ".py",
   "mimetype": "text/x-python",
   "name": "python",
   "nbconvert_exporter": "python",
   "pygments_lexer": "ipython3",
   "version": "3.7.4"
  }
 },
 "nbformat": 4,
 "nbformat_minor": 2
}
