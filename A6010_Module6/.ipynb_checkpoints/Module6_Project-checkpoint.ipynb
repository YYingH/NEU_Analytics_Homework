{
 "cells": [
  {
   "cell_type": "code",
   "execution_count": 18,
   "metadata": {},
   "outputs": [],
   "source": [
    "import random\n",
    "from sklearn import preprocessing as preprocessing\n",
    "import numpy as np\n",
    "import math\n",
    "import pandas as pd"
   ]
  },
  {
   "cell_type": "markdown",
   "metadata": {},
   "source": [
    "## Part 1"
   ]
  },
  {
   "cell_type": "markdown",
   "metadata": {},
   "source": [
    "#### 1. Use the random sampling method to draw a random sample of 200 from the NY LOC QUOTIENTs and a random sample of size 200 from the LA LOC QUOTIENTs. "
   ]
  },
  {
   "cell_type": "code",
   "execution_count": 2,
   "metadata": {},
   "outputs": [],
   "source": [
    "NY = [0.63,1.04,0.91,3.24,1.62,1.13,1.45,1.20,1.35,1.35,0.53,0.88,0.83,1.52,1.24,1.56,0.20,0.79,1.48,1.28,0.96,0.72,0.60,0.56,0.98,0.26,1.21,0.68,0.80,1.16,0.84,0.89,3.23,0.86,1.11,1.18,1.15,0.74,1.06,1.51,0.71,1.03,1.54,1.28,1.50,1.08,1.66,0.74,1.42,0.56,0.96,1.79,2.91,2.28,1.33,2.17,0.83,0.64,0.97,0.64,0.86,0.95,1.10,1.07,1.17,1.33,0.84,1.46,1.15,1.13,1.06,1.00,1.17,0.48,1.92,0.66,0.91,0.57,1.33,1.88,0.95,0.18,0.77,0.09,0.27,0.43,0.81,0.76,0.45,0.73,0.93,0.42,0.42,0.22,0.18,0.05,0.53,0.99,0.86,0.67,0.63,0.35,0.36,0.59,0.34,0.29,0.32,0.33,1.10,0.11,3.14,0.69,0.17,0.25,0.34,0.16,0.50,1.17,0.55,0.99,0.43,1.46,0.69,0.78,0.31,0.40,0.58,0.47,1.09,1.49,0.47,1.65,0.57,0.69,0.22,0.82,0.19,0.46,1.10,0.04,0.24,1.73,0.96,0.52,1.25,1.09,1.19,0.77,0.90,0.57,1.12,1.01,1.09,1.27,0.95,0.65,1.51,1.24,2.03,1.86,2.12,1.43,1.88,0.55,1.35,0.73,0.87,1.31,1.14,1.18,0.78,1.28,1.38,1.26,0.92,0.11,1.16,0.78,1.32,1.81,1.26,2.24,1.48,1.35,0.52,1.48,1.66,1.29,1.89,1.35,1.10,1.10,1.73,1.41,2.35,2.54,1.49,1.64,1.59,1.52,1.25,1.64,1.00,0.80,0.55,1.39,0.82,0.93,1.08,1.31,0.99,0.64,2.13,1.82,2.24,1.85,1.01,2.08,0.95,0.88,2.82,1.58,1.12,1.43,1.27,0.50,0.34,1.01,1.46,0.54,3.21,0.71,1.83,0.98,1.34,5.45,0.78,1.56,1.29,0.86,2.04,0.95,2.25,2.80,0.43,0.77,1.09,1.23,0.14,2.05,2.60,0.64,0.59,1.06,3.30,1.66,1.52,3.06,1.04,2.47,0.66,0.52,1.38,2.18,0.75,1.96,1.03,2.14,0.53,1.30,0.59,1.38,1.14,1.07,1.11,0.65,0.28,1.04,1.11,1.37,2.32,0.95,2.07,1.47,2.22,1.16,1.07,0.98,1.17,0.68,1.36,0.69,0.65,0.72,0.93,0.37,1.04,1.16,1.03,1.01,0.85,0.80,0.72,1.18,0.92,0.95,0.98,0.39,0.71,0.32,0.38,0.80,0.67,0.76,0.79,0.55,0.64,0.85,0.26,0.67,0.57,0.68,0.81,1.28,0.29,3.76,1.07,1.36,0.78,0.49,0.62,1.45,0.79,1.03,0.79,1.26,0.42,0.74,0.55,0.90,0.81,1.93,0.97,0.53,1.55,0.27,2.40,0.74,1.18,0.26,1.32,1.12,5.07,0.49,0.91,0.05,1.81,2.37,1.00,2.32,1.83,0.70,0.47,0.54,0.76,1.40,0.77,1.18,0.97,0.59,1.39,0.92,1.16,1.16,0.89,0.76,1.16,1.14,0.79,1.32,0.80,0.85,0.70,0.81,0.39,2.80,0.04,1.32,1.03,0.30,0.98,1.57,0.80,3.24,1.59,0.76,0.64,0.80,2.24,1.32,2.61,3.31,3.33,1.71,1.39,2.52,0.92,1.07,0.96,1.37,1.31,0.70,0.69,0.82,1.34,0.83,0.33,0.72,0.52,1.08,2.23,0.82,2.64,1.59,1.28,0.62,1.02,1.35,0.77,0.60,0.60,0.56,0.48,1.16,0.87,1.82,0.67,0.67,1.26,1.06,0.93,1.00,0.88,1.05,1.93,0.61,0.81,0.95,0.85,0.78,1.51,0.51,1.24,1.03,0.56,0.33,0.70,1.24,1.59,1.19,0.56,1.51,1.55,0.78,1.03,0.72,1.09,1.04,1.61,1.23,0.81,0.95,0.78,2.17,1.60,0.41,1.20,1.61,1.31,3.00,1.26,0.76,1.43,0.97,1.41,2.21,0.79,1.27,0.18,0.24,0.21,0.48,0.59,0.37,1.49,1.73,0.98,0.84,0.57,1.20,0.68,0.94,0.62,0.94,0.45,0.63,0.80,1.03,0.41,0.30,0.91,0.36,0.96,0.52,0.64,0.40,0.81,1.23,1.67,0.96,0.71,1.10,0.82,0.95,1.17,2.77,0.58,0.66,2.70,1.03,0.74,0.53,0.15,0.15,0.78,1.02,0.47,0.78,0.24,0.47,0.72,0.52,1.41,0.70,0.67,1.17,0.52,0.79,0.42,0.70,0.84,0.02,0.32,0.55,0.48,0.48,0.24,0.64,0.77,0.90,1.00,1.06,0.42,0.42,0.45,0.45,1.28,1.06,0.71,0.76,2.55,0.93,1.09,0.89,1.47,0.19,1.74,0.83,0.86,0.53,0.05,0.42,0.53,0.13,0.36,0.19,0.29,0.98,0.81,0.34,0.17,0.42,0.59,0.56,0.33,0.42,0.40,0.34,0.27,0.28,0.38,0.38,0.34,0.29,0.48,0.29,0.14,0.29,0.33,0.37,0.28,0.23,0.24,0.28,0.14,0.33,0.15,0.35,0.22,0.34,0.95,0.70,0.67,1.26,0.82,1.41,1.26,1.81,1.20,0.36,0.90,0.60,0.06,3.27,0.45,0.68,0.67,0.70,0.10,0.13,0.48,0.65,1.62,0.44,0.26,0.15,0.37,0.74,0.50,0.52,0.53,0.82,1.04,0.61,0.73,0.15,0.59,2.88,0.78,0.79,0.76,0.34,0.57,0.91,0.98,0.26,0.35,0.26,0.42,0.35,0.54,0.08,0.37,0.36,0.61,0.93,1.64,0.43,0.71,0.79,1.97,1.18,2.24,1.27,0.77,0.55,0.91,1.39,1.08,1.42,5.20,0.77,0.89,0.57,1.06,0.84,1.63,1.25,3.13,2.38,1.41,1.42,0.23,0.46,0.58,0.55,0.77,0.92,0.39,0.89,0.48,0.55,1.20,0.78,0.94]\n",
    "LA = [0.63,1.04,0.91,3.24,1.62,1.13,1.45,1.20,1.35,1.35,0.53,0.88,0.83,1.52,1.24,1.56,0.20,0.79,1.48,1.28,0.96,0.72,0.60,0.56,0.98,0.26,1.21,0.68,0.80,1.16,0.84,0.89,3.23,0.86,1.11,1.18,1.15,0.74,1.06,1.51,0.71,1.03,1.54,1.28,1.50,1.08,1.66,0.74,1.42,0.56,0.96,1.79,2.91,2.28,1.33,2.17,0.83,0.64,0.97,0.64,0.86,0.95,1.10,1.07,1.17,1.33,0.84,1.46,1.15,1.13,1.06,1.00,1.17,0.48,1.92,0.66,0.91,0.57,1.33,1.88,0.95,0.18,0.77,0.09,0.27,0.43,0.81,0.76,0.45,0.73,0.93,0.42,0.42,0.22,0.18,0.05,0.53,0.99,0.86,0.67,0.63,0.35,0.36,0.59,0.34,0.29,0.32,0.33,1.10,0.11,3.14,0.69,0.17,0.25,0.34,0.16,0.50,1.17,0.55,0.99,0.43,1.46,0.69,0.78,0.31,0.40,0.58,0.47,1.09,1.49,0.47,1.65,0.57,0.69,0.22,0.82,0.19,0.46,1.10,0.04,0.24,1.73,0.96,0.52,1.25,1.09,1.19,0.77,0.90,0.57,1.12,1.01,1.09,1.27,0.95,0.65,1.51,1.24,2.03,1.86,2.12,1.43,1.88,0.55,1.35,0.73,0.87,1.31,1.14,1.18,0.78,1.28,1.38,1.26,0.92,0.11,1.16,0.78,1.32,1.81,1.26,2.24,1.48,1.35,0.52,1.48,1.66,1.29,1.89,1.35,1.10,1.10,1.73,1.41,2.35,2.54,1.49,1.64,1.59,1.52,1.25,1.64,1.00,0.80,0.55,1.39,0.82,0.93,1.08,1.31,0.99,0.64,2.13,1.82,2.24,1.85,1.01,2.08,0.95,0.88,2.82,1.58,1.12,1.43,1.27,0.50,0.34,1.01,1.46,0.54,3.21,0.71,1.83,0.98,1.34,5.45,0.78,1.56,1.29,0.86,2.04,0.95,2.25,2.80,0.43,0.77,1.09,1.23,0.14,2.05,2.60,0.64,0.59,1.06,3.30,1.66,1.52,3.06,1.04,2.47,0.66,0.52,1.38,2.18,0.75,1.96,1.03,2.14,0.53,1.30,0.59,1.38,1.14,1.07,1.11,0.65,0.28,1.04,1.11,1.37,2.32,0.95,2.07,1.47,2.22,1.16,1.07,0.98,1.17,0.68,1.36,0.69,0.65,0.72,0.93,0.37,1.04,1.16,1.03,1.01,0.85,0.80,0.72,1.18,0.92,0.95,0.98,0.39,0.71,0.32,0.38,0.80,0.67,0.76,0.79,0.55,0.64,0.85,0.26,0.67,0.57,0.68,0.81,1.28,0.29,3.76,1.07,1.36,0.78,0.49,0.62,1.45,0.79,1.03,0.79,1.26,0.42,0.74,0.55,0.90,0.81,1.93,0.97,0.53,1.55,0.27,2.40,0.74,1.18,0.26,1.32,1.12,5.07,0.49,0.91,0.05,1.81,2.37,1.00,2.32,1.83,0.70,0.47,0.54,0.76,1.40,0.77,1.18,0.97,0.59,1.39,0.92,1.16,1.16,0.89,0.76,1.16,1.14,0.79,1.32,0.80,0.85,0.70,0.81,0.39,2.80,0.04,1.32,1.03,0.30,0.98,1.57,0.80,3.24,1.59,0.76,0.64,0.80,2.24,1.32,2.61,3.31,3.33,1.71,1.39,2.52,0.92,1.07,0.96,1.37,1.31,0.70,0.69,0.82,1.34,0.83,0.33,0.72,0.52,1.08,2.23,0.82,2.64,1.59,1.28,0.62,1.02,1.35,0.77,0.60,0.60,0.56,0.48,1.16,0.87,1.82,0.67,0.67,1.26,1.06,0.93,1.00,0.88,1.05,1.93,0.61,0.81,0.95,0.85,0.78,1.51,0.51,1.24,1.03,0.56,0.33,0.70,1.24,1.59,1.19,0.56,1.51,1.55,0.78,1.03,0.72,1.09,1.04,1.61,1.23,0.81,0.95,0.78,2.17,1.60,0.41,1.20,1.61,1.31,3.00,1.26,0.76,1.43,0.97,1.41,2.21,0.79,1.27,0.18,0.24,0.21,0.48,0.59,0.37,1.49,1.73,0.98,0.84,0.57,1.20,0.68,0.94,0.62,0.94,0.45,0.63,0.80,1.03,0.41,0.30,0.91,0.36,0.96,0.52,0.64,0.40,0.81,1.23,1.67,0.96,0.71,1.10,0.82,0.95,1.17,2.77,0.58,0.66,2.70,1.03,0.74,0.53,0.15,0.15,0.78,1.02,0.47,0.78,0.24,0.47,0.72,0.52,1.41,0.70,0.67,1.17,0.52,0.79,0.42,0.70,0.84,0.02,0.32,0.55,0.48,0.48,0.24,0.64,0.77,0.90,1.00,1.06,0.42,0.42,0.45,0.45,1.28,1.06,0.71,0.76,2.55,0.93,1.09,0.89,1.47,0.19,1.74,0.83,0.86,0.53,0.05,0.42,0.53,0.13,0.36,0.19,0.29,0.98,0.81,0.34,0.17,0.42,0.59,0.56,0.33,0.42,0.40,0.34,0.27,0.28,0.38,0.38,0.34,0.29,0.48,0.29,0.14,0.29,0.33,0.37,0.28,0.23,0.24,0.28,0.14,0.33,0.15,0.35,0.22,0.34,0.95,0.70,0.67,1.26,0.82,1.41,1.26,1.81,1.20,0.36,0.90,0.60,0.06,3.27,0.45,0.68,0.67,0.70,0.10,0.13,0.48,0.65,1.62,0.44,0.26,0.15,0.37,0.74,0.50,0.52,0.53,0.82,1.04,0.61,0.73,0.15,0.59,2.88,0.78,0.79,0.76,0.34,0.57,0.91,0.98,0.26,0.35,0.26,0.42,0.35,0.54,0.08,0.37,0.36,0.61,0.93,1.64,0.43,0.71,0.79,1.97,1.18,2.24,1.27,0.77,0.55,0.91,1.39,1.08,1.42,5.20,0.77,0.89,0.57,1.06,0.84,1.63,1.25,3.13,2.38,1.41,1.42,0.23,0.46,0.58,0.55,0.77,0.92,0.39,0.89,0.48,0.55,1.20,0.78,0.94]"
   ]
  },
  {
   "cell_type": "code",
   "execution_count": 3,
   "metadata": {},
   "outputs": [],
   "source": [
    "NY_200 = np.asarray(random.sample(NY,200))\n",
    "LA_200 = np.asarray(random.sample(LA,200))"
   ]
  },
  {
   "cell_type": "markdown",
   "metadata": {},
   "source": [
    "#### 2. Standardize both sets samples of LOC QUOTIENTs and put the standardized values (𝒛) in a new data file."
   ]
  },
  {
   "cell_type": "markdown",
   "metadata": {},
   "source": [
    "The Standardized Values Formula:\n",
    "\n",
    "$$z = \\frac{X-\\mu}{\\sigma}$$\n",
    "\n",
    "You calculate a standardized value (a z-score), using the above formula. The symbols are:\n",
    "\n",
    "- X: the observation (a specific value that you are calculating the z-score for).\n",
    "- $\\mu$: the mean\n",
    "- $\\sigma$: the standard deviation."
   ]
  },
  {
   "cell_type": "code",
   "execution_count": 4,
   "metadata": {},
   "outputs": [],
   "source": [
    "sd_NY_200 = (NY_200 - np.mean(NY_200))/np.std(NY_200)\n",
    "sd_LA_200 = (LA_200 - np.mean(LA_200))/np.std(LA_200)"
   ]
  },
  {
   "cell_type": "markdown",
   "metadata": {},
   "source": [
    "#### 3. For each of the two sets of LOC QUOTIENTs values, partition the standardized values into seven groups according to the following group specifications:\n",
    "- Group 1: Standardized values that are less than or equal to – 0.5 (that is, 𝒛 ≤ −𝟎.𝟓)\n",
    "- Group 2: Standardized values satisfy: −𝟎.𝟓 < 𝒛 ≤ 𝟎\n",
    "- Group 3: Standardized values satisfy: 𝟎 < 𝒛 ≤ 𝟏\n",
    "- Group 4: Standardized values satisfy: 𝟏 < 𝒛 ≤ 𝟐\n",
    "- Group 5: Standardized values satisfy: 𝟐 < 𝒛 ≤ 𝟑\n",
    "- Group 6: Standardized values satisfy: 𝟑 < 𝒛 ≤ 𝟒\n",
    "- Group 7: Standardized values satisfy: 𝒛 > 4"
   ]
  },
  {
   "cell_type": "code",
   "execution_count": 5,
   "metadata": {},
   "outputs": [],
   "source": [
    "def count_value(data):\n",
    "    res = []\n",
    "    res.append(len(np.where(data<=-0.5)[0]))\n",
    "    res.append(len(np.where((data>-0.5)&(data<0))[0]))\n",
    "    res.append(len(np.where((data>0)&(data<=1))[0]))\n",
    "    res.append(len(np.where((data>1)&(data<=2))[0]))\n",
    "    res.append(len(np.where((data>2)&(data<=3))[0]))\n",
    "    res.append(len(np.where((data>3)&(data<=4))[0]))\n",
    "    res.append(len(np.where(data>4)[0]))\n",
    "    return res"
   ]
  },
  {
   "cell_type": "markdown",
   "metadata": {},
   "source": [
    "**Observed**"
   ]
  },
  {
   "cell_type": "code",
   "execution_count": 6,
   "metadata": {},
   "outputs": [
    {
     "data": {
      "text/plain": [
       "[61, 60, 52, 17, 6, 4, 0]"
      ]
     },
     "execution_count": 6,
     "metadata": {},
     "output_type": "execute_result"
    }
   ],
   "source": [
    "sd_NY_200_observed = count_value(sd_NY_200)\n",
    "sd_NY_200_observed"
   ]
  },
  {
   "cell_type": "code",
   "execution_count": 7,
   "metadata": {},
   "outputs": [
    {
     "data": {
      "text/plain": [
       "[64, 58, 57, 14, 4, 1, 2]"
      ]
     },
     "execution_count": 7,
     "metadata": {},
     "output_type": "execute_result"
    }
   ],
   "source": [
    "sd_LA_200_observed = count_value(sd_LA_200)\n",
    "sd_LA_200_observed"
   ]
  },
  {
   "cell_type": "code",
   "execution_count": 8,
   "metadata": {},
   "outputs": [
    {
     "data": {
      "text/plain": [
       "[125, 118, 109, 31, 10, 5, 2]"
      ]
     },
     "execution_count": 8,
     "metadata": {},
     "output_type": "execute_result"
    }
   ],
   "source": [
    "total_observed = [sd_NY_200_observed[i]+sd_LA_200_observed[i] for i in range(len(sd_NY_200_observed))]\n",
    "total_observed"
   ]
  },
  {
   "cell_type": "markdown",
   "metadata": {},
   "source": [
    "#### 4. Next, count the number of NY and the number of LA standardized LOC QUOTIENT values that fall into each of the above seven groups."
   ]
  },
  {
   "cell_type": "markdown",
   "metadata": {},
   "source": [
    "Since the frequencies for each flavor were obtained from a sample, these actual frequencies are called the **observed frequencies**. The frequencies obtained by calculation(as if there were no preference) are called the **expected frequencies**.\n",
    "\n",
    "1. If all expected frequencies are equal, the frequency $E$ can be calcualted by using $E=n/k$, where $n$ is the total number of observations and k is the number of categories.\n",
    "2. If all the expected frequencies are not equal, then the expected frequency $E$ can be calculated by $E = n\\cdot p$, where $n$ is the total number of observations and $p$ is the probability for that category."
   ]
  },
  {
   "cell_type": "markdown",
   "metadata": {},
   "source": [
    "**Expected**"
   ]
  },
  {
   "cell_type": "code",
   "execution_count": 9,
   "metadata": {},
   "outputs": [],
   "source": [
    "n = 200\n",
    "sd_NY = (NY - np.mean(NY))/np.std(NY)\n",
    "sd_LA = (LA - np.mean(LA))/np.std(LA)"
   ]
  },
  {
   "cell_type": "code",
   "execution_count": 10,
   "metadata": {},
   "outputs": [],
   "source": [
    "def expected_value(data, n):\n",
    "    res = []\n",
    "    res.append(round(n*(len(np.where(data<=-0.5)[0]))/len(data)))\n",
    "    res.append(round(n*(len(np.where((data>-0.5)&(data<=0))[0]))/len(data)))\n",
    "    res.append(round(n*(len(np.where((data>0)&(data<=1))[0]))/len(data)))\n",
    "    res.append(round(n*(len(np.where((data>1)&(data<=2))[0]))/len(data)))\n",
    "    res.append(round(n*(len(np.where((data>2)&(data<=3))[0]))/len(data)))\n",
    "    res.append(round(n*(len(np.where((data>3)&(data<=4))[0]))/len(data)))\n",
    "    res.append(round(n*(len(np.where(data>4)[0]))/len(data)))\n",
    "    return res    "
   ]
  },
  {
   "cell_type": "code",
   "execution_count": 11,
   "metadata": {},
   "outputs": [
    {
     "data": {
      "text/plain": [
       "[64, 55, 59, 13, 5, 3, 1]"
      ]
     },
     "execution_count": 11,
     "metadata": {},
     "output_type": "execute_result"
    }
   ],
   "source": [
    "sd_NY_expected = expected_value(sd_NY,200)\n",
    "sd_NY_expected"
   ]
  },
  {
   "cell_type": "code",
   "execution_count": 12,
   "metadata": {},
   "outputs": [
    {
     "data": {
      "text/plain": [
       "[64, 55, 59, 13, 5, 3, 1]"
      ]
     },
     "execution_count": 12,
     "metadata": {},
     "output_type": "execute_result"
    }
   ],
   "source": [
    "sd_LA_expected = expected_value(sd_LA,200)\n",
    "sd_LA_expected"
   ]
  },
  {
   "cell_type": "code",
   "execution_count": 13,
   "metadata": {},
   "outputs": [
    {
     "data": {
      "text/plain": [
       "[128, 110, 118, 26, 10, 6, 2]"
      ]
     },
     "execution_count": 13,
     "metadata": {},
     "output_type": "execute_result"
    }
   ],
   "source": [
    "total_expected = [sd_NY_expected[i]+sd_LA_expected[i] for i in range(len(sd_NY_expected))]\n",
    "total_expected"
   ]
  },
  {
   "cell_type": "markdown",
   "metadata": {},
   "source": [
    "#### 5. Use alpha = 0.10 to perform a Chi-squared test of independency to test the claim that the standardized LOC QUOTIENTs and locations (NY and LA) are independent factors "
   ]
  },
  {
   "cell_type": "markdown",
   "metadata": {},
   "source": [
    "Formula for the Chi-Square Goodness-of-Fit Test:\n",
    "$$x^2 = \\sum{\\frac{(O - E)^2}{E}}$$\n",
    "With degrees of freedom equal to the number of categories minus 1, and where\n",
    "\n",
    "O = observed frequency\n",
    "\n",
    "E = expected frequency"
   ]
  },
  {
   "cell_type": "markdown",
   "metadata": {},
   "source": [
    "**Step 1:** State the hypotheses and identify the claim.\n",
    "    \n",
    " $H_0$: LOC QUOTIENTS and locations are independent factors.\n",
    "    \n",
    " $H_a$: LOC QUOTIENTS and locations are not independent factors.\n",
    "\n",
    "**Step 2:** Find the critical value. The degrees of freedom is (7-1)(3-1)=12 , and $\\alpha=0.10$. Hence, the critical value from Table G is 18.549.\n",
    "\n",
    "**Step 3:** Compute the test value."
   ]
  },
  {
   "cell_type": "code",
   "execution_count": 15,
   "metadata": {},
   "outputs": [
    {
     "data": {
      "text/plain": [
       "7.031470877286555"
      ]
     },
     "execution_count": 15,
     "metadata": {},
     "output_type": "execute_result"
    }
   ],
   "source": [
    "x_2 = 0\n",
    "for i in range(len(sd_NY_200_observed)):\n",
    "    x_2 += (sd_NY_200_observed[i]-sd_NY_expected[i])**2/sd_NY_expected[i]\n",
    "for i in range(len(sd_LA_200_observed)):\n",
    "    x_2 += (sd_LA_200_observed[i]-sd_LA_expected[i])**2/sd_LA_expected[i]\n",
    "x_2"
   ]
  },
  {
   "cell_type": "markdown",
   "metadata": {},
   "source": [
    "**Step 4:** Make a decision. The decision is to not to not reject the null hypothesis, since 7.03 < 18.549.\n",
    "\n",
    "**Step 5:** Summarize the results. There is not enough evidence to support the claim that LOC QUOTIENT is related to locations."
   ]
  },
  {
   "cell_type": "markdown",
   "metadata": {},
   "source": [
    "## Part 2\n",
    "The data in Q2 consists of a sample of LOC QUOTIENTs for both NY and LA for 324 randomly selected professions "
   ]
  },
  {
   "cell_type": "code",
   "execution_count": 24,
   "metadata": {},
   "outputs": [],
   "source": [
    "NY_2 = [0.63,1.04,0.91,1.62,1.13,1.45,1.20,1.35,1.35,0.53,0.88,0.83,1.52,1.24,1.56,0.20,0.79,1.48,0.96,0.72,0.60,0.56,0.26,1.21,0.68,0.80,0.84,0.89,3.23,0.86,1.11,1.18,1.15,0.74,1.06,1.51,0.71,1.03,1.54,1.28,1.50,1.08,1.66,0.74,1.42,0.56,0.96,1.79,2.91,2.28,1.33,2.17,0.83,0.64,0.97,0.64,0.86,0.95,1.10,1.07,1.17,1.33,0.84,1.46,1.15,1.13,1.06,1.00,1.17,0.48,1.92,0.66,0.91,0.57,1.88,0.95,0.18,0.77,0.09,0.27,0.43,0.81,0.76,0.45,0.73,0.93,0.42,0.42,0.22,0.05,0.53,0.99,0.86,0.67,0.63,0.35,0.36,0.59,0.34,0.29,0.32,0.33,1.10,0.11,3.14,0.69,0.17,0.25,0.34,0.16,0.50,1.17,0.55,0.99,0.43,1.46,0.69,0.78,0.31,0.40,0.58,0.47,1.09,1.49,0.47,1.65,0.57,0.82,0.19,0.46,1.10,0.04,1.73,0.96,0.52,1.25,1.09,1.19,0.77,0.90,0.57,1.12,1.01,1.09,1.27,0.95,0.65,1.51,1.24,2.03,1.86,2.12,1.43,1.88,0.87,1.31,1.18,0.78,1.28,1.38,1.26,0.92,1.16,0.78,1.32,1.81,1.26,2.24,1.48,1.35,0.52,1.48,1.66,1.29,1.89,1.35,1.10,1.10,1.41,2.35,1.49,1.64,1.59,1.52,1.25,1.64,1.00,0.80,0.55,1.39,0.82,0.93,1.08,0.99,0.64,1.82,2.24,1.85,1.01,2.08,0.95,0.88,2.82,1.58,1.12,1.43,1.27,0.50,1.01,1.46,0.54,3.21,0.71,1.83,0.98,1.34,5.45,0.78,1.56,1.29,2.04,0.95,2.25,2.80,0.43,0.77,1.09,0.14,2.05,2.60,0.59,1.06,1.66,1.52,3.06,1.04,2.47,0.66,0.52,1.38,2.18,1.96,1.03,2.14,0.53,1.30,1.38,1.14,1.07,1.11,0.65,0.28,1.04,1.11,1.37,2.32,0.95,2.07,1.47,2.22,1.16,1.07,0.98,1.17,0.68,1.36,0.69,0.72,0.93,0.37,1.04,1.16,1.03,1.01,0.85,0.80,0.72,1.18,0.92,0.95,0.98,0.39,0.71,0.32,0.38,0.80,0.67,0.76,0.79,0.55,0.64,0.85,0.26,0.67,0.57,0.68,0.81,0.29,3.76,1.07,1.36,0.78,0.49,0.62,1.45,0.79,1.03,0.79,1.26,0.42,0.74,0.55,0.90,0.81,1.93,0.97,0.53,1.55,0.27,0.74,1.18,0.26,1.32,1.12] \n",
    "LA_2 = [0.91,1.42,2.41,0.83,2.33,2.10,0.71,0.05,1.21,1.21,0.78,1.96,1.41,1.93,2.77,1.37,0.43,4.07,1.10,1.59,0.89,0.80,0.76,1.24,2.01,1.01,2.28,1.06,2.38,1.04,1.34,0.29,1.10,0.07,3.66,3.57,1.48,0.98,1.42,1.55,1.78,0.62,1.49,0.97,2.12,0.87,1.85,0.69,1.44,1.84,3.04,0.05,1.02,0.91,1.56,3.69,1.20,1.09,1.32,1.16,2.24,1.31,0.57,1.38,1.22,1.87,3.57,0.90,1.21,0.58,2.03,0.63,1.07,0.65,2.94,1.09,0.65,1.28,0.60,0.70,2.16,1.01,1.66,0.70,1.78,0.12,0.89,0.38,1.80,0.41,0.38,1.11,1.04,1.55,1.70,1.05,0.85,2.39,0.44,0.72,0.73,0.76,1.17,0.90,2.33,2.66,1.20,1.11,0.44,0.32,0.78,1.21,2.45,1.00,0.55,0.89,0.21,0.99,1.20,1.78,1.27,0.72,1.99,1.29,2.24,0.18,0.93,1.49,0.66,0.81,1.23,0.10,2.16,0.94,0.85,0.73,1.17,0.88,1.40,0.72,0.86,0.98,1.12,1.63,1.97,1.14,0.92,2.72,2.06,1.11,1.73,1.75,1.59,1.62,0.69,1.29,3.67,1.26,1.21,1.42,3.22,1.30,1.21,0.51,1.15,0.43,1.27,1.34,1.56,1.02,0.86,1.14,1.47,0.88,1.78,1.32,1.17,0.69,1.35,1.10,2.22,1.48,1.45,1.54,1.93,1.48,1.12,1.01,1.62,1.28,1.02,1.08,1.16,0.59,1.55,0.53,1.82,1.51,2.64,1.73,1.60,1.65,2.16,1.26,1.32,1.26,0.35,0.39,1.12,4.50,0.86,2.07,2.01,1.59,1.11,2.18,3.64,1.41,1.44,1.28,1.71,1.61,2.39,2.14,0.80,0.08,0.88,0.63,3.35,1.99,0.99,1.15,1.49,1.86,2.29,0.97,2.99,1.59,0.85,1.37,2.12,1.66,1.14,1.36,1.16,1.29,1.33,1.20,0.30,0.94,1.47,0.71,1.12,1.18,1.26,2.04,1.09,1.72,1.82,1.55,1.44,1.81,1.11,1.21,2.73,1.32,0.94,0.96,2.14,1.77,1.51,1.44,1.92,0.22,1.76,0.87,0.09,1.87,1.07,1.09,1.27,0.46,0.95,1.95,0.59,1.06,0.07,0.98,2.27,1.28,0.58,2.03,0.60,0.01,0.87,1.23,1.01,0.72,2.86,1.16,1.44,0.99,1.55,0.90,0.19,1.00,0.09,1.81,1.27,1.69,0.97,1.36,1.06,1.01,2.88,0.80,0.45,1.43,0.70,1.85,1.22,1.34,1.30,1.01]\n",
    "# df_NY = pd.\n",
    "NY_df = pd.DataFrame(NY, index=['NY']*len(NY))\n",
    "LA_df = pd.DataFrame(LA, index=['LA']*len(LA))\n",
    "data_df = pd.concat([NY_df, LA_df], axis=0)"
   ]
  },
  {
   "cell_type": "code",
   "execution_count": 26,
   "metadata": {},
   "outputs": [],
   "source": [
    "sample_df = data_df.sample(n=324, random_state=1)"
   ]
  },
  {
   "cell_type": "code",
   "execution_count": null,
   "metadata": {},
   "outputs": [],
   "source": [
    "sample_df"
   ]
  },
  {
   "cell_type": "markdown",
   "metadata": {},
   "source": [
    "1. Calculate the slope and the intercept of the regression line and the coefficients of correlation and determination of the regression model."
   ]
  },
  {
   "cell_type": "code",
   "execution_count": null,
   "metadata": {},
   "outputs": [],
   "source": []
  },
  {
   "cell_type": "markdown",
   "metadata": {},
   "source": [
    "2. Create a scatter plot of the LA LOC QUOTIENTS versus those of NY. Display the regression line along with its equation and the **R2** value on the graph. "
   ]
  },
  {
   "cell_type": "code",
   "execution_count": null,
   "metadata": {},
   "outputs": [],
   "source": []
  },
  {
   "cell_type": "markdown",
   "metadata": {},
   "source": [
    "3. Use the calculated slope and intercept calculate the predicted Y values and the residuals. "
   ]
  },
  {
   "cell_type": "code",
   "execution_count": null,
   "metadata": {},
   "outputs": [],
   "source": []
  },
  {
   "cell_type": "markdown",
   "metadata": {},
   "source": [
    "4. Calculate the Residuals Mean, Residuals SD, Residuals Minimum, Residuals Maximum and Residuals Count. "
   ]
  },
  {
   "cell_type": "code",
   "execution_count": null,
   "metadata": {},
   "outputs": [],
   "source": []
  },
  {
   "cell_type": "markdown",
   "metadata": {},
   "source": [
    "5. Perform the procedure for creating a normal probability plot of the residuals."
   ]
  },
  {
   "cell_type": "code",
   "execution_count": null,
   "metadata": {},
   "outputs": [],
   "source": []
  },
  {
   "cell_type": "markdown",
   "metadata": {},
   "source": [
    "6. Check the independency of the residuals graphicall"
   ]
  },
  {
   "cell_type": "code",
   "execution_count": null,
   "metadata": {},
   "outputs": [],
   "source": []
  },
  {
   "cell_type": "markdown",
   "metadata": {},
   "source": [
    "7. Check the homoscedasticity of the residuals graphically"
   ]
  },
  {
   "cell_type": "code",
   "execution_count": null,
   "metadata": {},
   "outputs": [],
   "source": []
  },
  {
   "cell_type": "markdown",
   "metadata": {},
   "source": [
    "8. Construct a frequency distribution of the residuals consisting of 18 bins. "
   ]
  },
  {
   "cell_type": "code",
   "execution_count": null,
   "metadata": {},
   "outputs": [],
   "source": []
  },
  {
   "cell_type": "markdown",
   "metadata": {},
   "source": [
    "9. Then use the Chisquared Goodness of Fit test to test the normality of the residuals. "
   ]
  },
  {
   "cell_type": "code",
   "execution_count": null,
   "metadata": {},
   "outputs": [],
   "source": []
  },
  {
   "cell_type": "code",
   "execution_count": null,
   "metadata": {},
   "outputs": [],
   "source": []
  },
  {
   "cell_type": "code",
   "execution_count": null,
   "metadata": {},
   "outputs": [],
   "source": []
  },
  {
   "cell_type": "code",
   "execution_count": null,
   "metadata": {},
   "outputs": [],
   "source": []
  },
  {
   "cell_type": "code",
   "execution_count": null,
   "metadata": {},
   "outputs": [],
   "source": []
  },
  {
   "cell_type": "code",
   "execution_count": null,
   "metadata": {},
   "outputs": [],
   "source": []
  },
  {
   "cell_type": "code",
   "execution_count": null,
   "metadata": {},
   "outputs": [],
   "source": []
  },
  {
   "cell_type": "code",
   "execution_count": null,
   "metadata": {},
   "outputs": [],
   "source": []
  }
 ],
 "metadata": {
  "kernelspec": {
   "display_name": "Python 3",
   "language": "python",
   "name": "python3"
  },
  "language_info": {
   "codemirror_mode": {
    "name": "ipython",
    "version": 3
   },
   "file_extension": ".py",
   "mimetype": "text/x-python",
   "name": "python",
   "nbconvert_exporter": "python",
   "pygments_lexer": "ipython3",
   "version": "3.7.4"
  }
 },
 "nbformat": 4,
 "nbformat_minor": 2
}
