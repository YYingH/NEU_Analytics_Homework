{
 "cells": [
  {
   "cell_type": "markdown",
   "metadata": {},
   "source": [
    "# Sample Insurance Claim Prediction Dataset\n",
    "\n",
    "**Source:** \n",
    "\n",
    "https://www.kaggle.com/easonlai/sample-insurance-claim-prediction-dataset#insurance2.csv\n",
    "\n",
    "**Content:**\n",
    "\n",
    "\n",
    "This is \"Sample Insurance Claim Prediction Dataset\" which based on \"[Medical Cost Personal Datasets][1]\" to update sample value on top.\n",
    "\n",
    "- age : age of policyholder \n",
    "\n",
    "\n",
    "- sex: gender of policy holder (female=0, male=1) \n",
    "\n",
    "\n",
    "- bmi: Body mass index, providing an understanding of body, weights that are relatively high or low relative to height, objective index of body weight (kg / m ^ 2) using the ratio of height to weight, ideally 18.5 to 25 \n",
    "\n",
    "\n",
    "- steps: average walking steps per day of policyholder \n",
    "\n",
    "\n",
    "- children: number of children / dependents of policyholder \n",
    "\n",
    "\n",
    "- smoker: smoking state of policyholder (non-smoke=0;smoker=1) \n",
    "\n",
    "\n",
    "- region: the residential area of policyholder in the US (northeast=0, northwest=1, southeast=2, southwest=3) \n",
    "\n",
    "\n",
    "- charges: individual medical costs billed by health insurance \n",
    "\n",
    "\n",
    "- insuranceclaim: yes=1, no=0"
   ]
  },
  {
   "cell_type": "code",
   "execution_count": 1,
   "metadata": {},
   "outputs": [],
   "source": [
    "import pandas as pd\n",
    "import numpy as np\n",
    "import matplotlib.pyplot as plt\n",
    "import seaborn as sns\n",
    "from sklearn.model_selection import train_test_split\n",
    "from sklearn.decomposition import PCA\n",
    "from sklearn.linear_model import LogisticRegression\n",
    "from sklearn.metrics import confusion_matrix\n",
    "from sklearn.neighbors import KNeighborsClassifier\n",
    "from sklearn.svm import SVC\n",
    "from sklearn.naive_bayes import GaussianNB\n",
    "from sklearn.tree import DecisionTreeClassifier\n",
    "from sklearn.ensemble import RandomForestClassifier\n",
    "from sklearn.metrics import classification_report\n",
    "from IPython.display import Image\n",
    "sns.set(style=\"darkgrid\")\n",
    "import warnings\n",
    "warnings.filterwarnings('ignore')\n",
    "\n",
    "from itertools import product"
   ]
  },
  {
   "cell_type": "markdown",
   "metadata": {},
   "source": [
    "## Data Acquisition and Preparation"
   ]
  },
  {
   "cell_type": "code",
   "execution_count": 2,
   "metadata": {},
   "outputs": [],
   "source": [
    "# Load the Data\n",
    "insurance_df = pd.read_csv('data/insurance3r2.csv')\n",
    "# data_path = \"https://docs.google.com/spreadsheets/d/e/2PACX-1vSegadZ_73iOuFayZ9HyfZLoQq6Hnc3MMoBKHLTY3Fdm6zFn6ht4MvY6pBqABZG7n6V_9386vC1u9HR/pub?output=csv\"\n",
    "# insurance_df = pd.read_csv(data_path)"
   ]
  },
  {
   "cell_type": "code",
   "execution_count": 3,
   "metadata": {},
   "outputs": [
    {
     "data": {
      "text/html": [
       "<div>\n",
       "<style scoped>\n",
       "    .dataframe tbody tr th:only-of-type {\n",
       "        vertical-align: middle;\n",
       "    }\n",
       "\n",
       "    .dataframe tbody tr th {\n",
       "        vertical-align: top;\n",
       "    }\n",
       "\n",
       "    .dataframe thead th {\n",
       "        text-align: right;\n",
       "    }\n",
       "</style>\n",
       "<table border=\"1\" class=\"dataframe\">\n",
       "  <thead>\n",
       "    <tr style=\"text-align: right;\">\n",
       "      <th></th>\n",
       "      <th>age</th>\n",
       "      <th>sex</th>\n",
       "      <th>bmi</th>\n",
       "      <th>steps</th>\n",
       "      <th>children</th>\n",
       "      <th>smoker</th>\n",
       "      <th>region</th>\n",
       "      <th>charges</th>\n",
       "      <th>insuranceclaim</th>\n",
       "    </tr>\n",
       "  </thead>\n",
       "  <tbody>\n",
       "    <tr>\n",
       "      <td>0</td>\n",
       "      <td>19</td>\n",
       "      <td>0</td>\n",
       "      <td>27.900</td>\n",
       "      <td>3009</td>\n",
       "      <td>0</td>\n",
       "      <td>1</td>\n",
       "      <td>3</td>\n",
       "      <td>16884.92400</td>\n",
       "      <td>1</td>\n",
       "    </tr>\n",
       "    <tr>\n",
       "      <td>1</td>\n",
       "      <td>18</td>\n",
       "      <td>1</td>\n",
       "      <td>33.770</td>\n",
       "      <td>3008</td>\n",
       "      <td>1</td>\n",
       "      <td>0</td>\n",
       "      <td>2</td>\n",
       "      <td>1725.55230</td>\n",
       "      <td>1</td>\n",
       "    </tr>\n",
       "    <tr>\n",
       "      <td>2</td>\n",
       "      <td>28</td>\n",
       "      <td>1</td>\n",
       "      <td>33.000</td>\n",
       "      <td>3009</td>\n",
       "      <td>3</td>\n",
       "      <td>0</td>\n",
       "      <td>2</td>\n",
       "      <td>4449.46200</td>\n",
       "      <td>0</td>\n",
       "    </tr>\n",
       "    <tr>\n",
       "      <td>3</td>\n",
       "      <td>33</td>\n",
       "      <td>1</td>\n",
       "      <td>22.705</td>\n",
       "      <td>10009</td>\n",
       "      <td>0</td>\n",
       "      <td>0</td>\n",
       "      <td>1</td>\n",
       "      <td>21984.47061</td>\n",
       "      <td>0</td>\n",
       "    </tr>\n",
       "    <tr>\n",
       "      <td>4</td>\n",
       "      <td>32</td>\n",
       "      <td>1</td>\n",
       "      <td>28.880</td>\n",
       "      <td>8010</td>\n",
       "      <td>0</td>\n",
       "      <td>0</td>\n",
       "      <td>1</td>\n",
       "      <td>3866.85520</td>\n",
       "      <td>1</td>\n",
       "    </tr>\n",
       "    <tr>\n",
       "      <td>...</td>\n",
       "      <td>...</td>\n",
       "      <td>...</td>\n",
       "      <td>...</td>\n",
       "      <td>...</td>\n",
       "      <td>...</td>\n",
       "      <td>...</td>\n",
       "      <td>...</td>\n",
       "      <td>...</td>\n",
       "      <td>...</td>\n",
       "    </tr>\n",
       "    <tr>\n",
       "      <td>1333</td>\n",
       "      <td>50</td>\n",
       "      <td>1</td>\n",
       "      <td>30.970</td>\n",
       "      <td>4008</td>\n",
       "      <td>3</td>\n",
       "      <td>0</td>\n",
       "      <td>1</td>\n",
       "      <td>10600.54830</td>\n",
       "      <td>0</td>\n",
       "    </tr>\n",
       "    <tr>\n",
       "      <td>1334</td>\n",
       "      <td>18</td>\n",
       "      <td>0</td>\n",
       "      <td>31.920</td>\n",
       "      <td>3003</td>\n",
       "      <td>0</td>\n",
       "      <td>0</td>\n",
       "      <td>0</td>\n",
       "      <td>2205.98080</td>\n",
       "      <td>1</td>\n",
       "    </tr>\n",
       "    <tr>\n",
       "      <td>1335</td>\n",
       "      <td>18</td>\n",
       "      <td>0</td>\n",
       "      <td>36.850</td>\n",
       "      <td>3008</td>\n",
       "      <td>0</td>\n",
       "      <td>0</td>\n",
       "      <td>2</td>\n",
       "      <td>1629.83350</td>\n",
       "      <td>1</td>\n",
       "    </tr>\n",
       "    <tr>\n",
       "      <td>1336</td>\n",
       "      <td>21</td>\n",
       "      <td>0</td>\n",
       "      <td>25.800</td>\n",
       "      <td>8009</td>\n",
       "      <td>0</td>\n",
       "      <td>0</td>\n",
       "      <td>3</td>\n",
       "      <td>2007.94500</td>\n",
       "      <td>0</td>\n",
       "    </tr>\n",
       "    <tr>\n",
       "      <td>1337</td>\n",
       "      <td>61</td>\n",
       "      <td>0</td>\n",
       "      <td>29.070</td>\n",
       "      <td>8008</td>\n",
       "      <td>0</td>\n",
       "      <td>1</td>\n",
       "      <td>1</td>\n",
       "      <td>29141.36030</td>\n",
       "      <td>1</td>\n",
       "    </tr>\n",
       "  </tbody>\n",
       "</table>\n",
       "<p>1338 rows × 9 columns</p>\n",
       "</div>"
      ],
      "text/plain": [
       "      age  sex     bmi  steps  children  smoker  region      charges  \\\n",
       "0      19    0  27.900   3009         0       1       3  16884.92400   \n",
       "1      18    1  33.770   3008         1       0       2   1725.55230   \n",
       "2      28    1  33.000   3009         3       0       2   4449.46200   \n",
       "3      33    1  22.705  10009         0       0       1  21984.47061   \n",
       "4      32    1  28.880   8010         0       0       1   3866.85520   \n",
       "...   ...  ...     ...    ...       ...     ...     ...          ...   \n",
       "1333   50    1  30.970   4008         3       0       1  10600.54830   \n",
       "1334   18    0  31.920   3003         0       0       0   2205.98080   \n",
       "1335   18    0  36.850   3008         0       0       2   1629.83350   \n",
       "1336   21    0  25.800   8009         0       0       3   2007.94500   \n",
       "1337   61    0  29.070   8008         0       1       1  29141.36030   \n",
       "\n",
       "      insuranceclaim  \n",
       "0                  1  \n",
       "1                  1  \n",
       "2                  0  \n",
       "3                  0  \n",
       "4                  1  \n",
       "...              ...  \n",
       "1333               0  \n",
       "1334               1  \n",
       "1335               1  \n",
       "1336               0  \n",
       "1337               1  \n",
       "\n",
       "[1338 rows x 9 columns]"
      ]
     },
     "execution_count": 3,
     "metadata": {},
     "output_type": "execute_result"
    }
   ],
   "source": [
    "insurance_df"
   ]
  },
  {
   "cell_type": "code",
   "execution_count": 4,
   "metadata": {},
   "outputs": [],
   "source": [
    "X = insurance_df.iloc[:,0:8]\n",
    "Y = insurance_df.iloc[:,8]"
   ]
  },
  {
   "cell_type": "code",
   "execution_count": 5,
   "metadata": {},
   "outputs": [],
   "source": [
    "X_train, X_test, y_train, y_test = train_test_split(X, Y, test_size = 0.3, random_state = 106)"
   ]
  },
  {
   "cell_type": "code",
   "execution_count": 6,
   "metadata": {},
   "outputs": [
    {
     "data": {
      "text/html": [
       "<div>\n",
       "<style scoped>\n",
       "    .dataframe tbody tr th:only-of-type {\n",
       "        vertical-align: middle;\n",
       "    }\n",
       "\n",
       "    .dataframe tbody tr th {\n",
       "        vertical-align: top;\n",
       "    }\n",
       "\n",
       "    .dataframe thead th {\n",
       "        text-align: right;\n",
       "    }\n",
       "</style>\n",
       "<table border=\"1\" class=\"dataframe\">\n",
       "  <thead>\n",
       "    <tr style=\"text-align: right;\">\n",
       "      <th></th>\n",
       "      <th>age</th>\n",
       "      <th>sex</th>\n",
       "      <th>bmi</th>\n",
       "      <th>steps</th>\n",
       "      <th>children</th>\n",
       "      <th>smoker</th>\n",
       "      <th>region</th>\n",
       "      <th>charges</th>\n",
       "      <th>insuranceclaim</th>\n",
       "    </tr>\n",
       "  </thead>\n",
       "  <tbody>\n",
       "    <tr>\n",
       "      <td>0</td>\n",
       "      <td>19</td>\n",
       "      <td>0</td>\n",
       "      <td>27.90</td>\n",
       "      <td>3009</td>\n",
       "      <td>0</td>\n",
       "      <td>1</td>\n",
       "      <td>3</td>\n",
       "      <td>16884.9240</td>\n",
       "      <td>1</td>\n",
       "    </tr>\n",
       "    <tr>\n",
       "      <td>1</td>\n",
       "      <td>18</td>\n",
       "      <td>1</td>\n",
       "      <td>33.77</td>\n",
       "      <td>3008</td>\n",
       "      <td>1</td>\n",
       "      <td>0</td>\n",
       "      <td>2</td>\n",
       "      <td>1725.5523</td>\n",
       "      <td>1</td>\n",
       "    </tr>\n",
       "    <tr>\n",
       "      <td>2</td>\n",
       "      <td>28</td>\n",
       "      <td>1</td>\n",
       "      <td>33.00</td>\n",
       "      <td>3009</td>\n",
       "      <td>3</td>\n",
       "      <td>0</td>\n",
       "      <td>2</td>\n",
       "      <td>4449.4620</td>\n",
       "      <td>0</td>\n",
       "    </tr>\n",
       "  </tbody>\n",
       "</table>\n",
       "</div>"
      ],
      "text/plain": [
       "   age  sex    bmi  steps  children  smoker  region     charges  \\\n",
       "0   19    0  27.90   3009         0       1       3  16884.9240   \n",
       "1   18    1  33.77   3008         1       0       2   1725.5523   \n",
       "2   28    1  33.00   3009         3       0       2   4449.4620   \n",
       "\n",
       "   insuranceclaim  \n",
       "0               1  \n",
       "1               1  \n",
       "2               0  "
      ]
     },
     "execution_count": 6,
     "metadata": {},
     "output_type": "execute_result"
    }
   ],
   "source": [
    "insurance_df.head(3)"
   ]
  },
  {
   "cell_type": "code",
   "execution_count": 7,
   "metadata": {},
   "outputs": [
    {
     "data": {
      "image/png": "[encoded data removed]",
      "text/plain": [
       "<Figure size 432x288 with 1 Axes>"
      ]
     },
     "metadata": {
      "needs_background": "light"
     },
     "output_type": "display_data"
    }
   ],
   "source": [
    "sns.countplot(x = 'insuranceclaim', data = insurance_df, palette = \"mako_r\")\n",
    "plt.show()"
   ]
  },
  {
   "cell_type": "code",
   "execution_count": 8,
   "metadata": {},
   "outputs": [
    {
     "name": "stdout",
     "output_type": "stream",
     "text": [
      "Percentage of customer succeed in insurance claim: 58.52%\n",
      "Percentage of customer fail in insurance claim: 41.48%\n"
     ]
    }
   ],
   "source": [
    "countSucceedInsuranceClaim = len(insurance_df[insurance_df.insuranceclaim == 1])\n",
    "countFaileInsuranceClaim = len(insurance_df[insurance_df.insuranceclaim == 0])\n",
    "print(\"Percentage of customer succeed in insurance claim: {:.2f}%\".format((countSucceedInsuranceClaim)/(len(insurance_df))*100))\n",
    "print(\"Percentage of customer fail in insurance claim: {:.2f}%\".format((countFaileInsuranceClaim)/(len(insurance_df))*100))"
   ]
  },
  {
   "cell_type": "code",
   "execution_count": 9,
   "metadata": {},
   "outputs": [
    {
     "data": {
      "image/png": "[encoded data removed]",
      "text/plain": [
       "<Figure size 432x288 with 1 Axes>"
      ]
     },
     "metadata": {
      "needs_background": "light"
     },
     "output_type": "display_data"
    }
   ],
   "source": [
    "sns.countplot(x = 'sex', data = insurance_df)\n",
    "plt.show()"
   ]
  },
  {
   "cell_type": "code",
   "execution_count": 10,
   "metadata": {},
   "outputs": [
    {
     "name": "stdout",
     "output_type": "stream",
     "text": [
      "Percentage of female in insurance claim: 49.48%\n",
      "Percentage of male in insurance claim: 50.52%\n"
     ]
    }
   ],
   "source": [
    "countFemale = len(insurance_df[insurance_df.sex == 0])\n",
    "countMale = len(insurance_df[insurance_df.sex == 1])\n",
    "print(\"Percentage of female in insurance claim: {:.2f}%\".format((countFemale)/(len(insurance_df))*100))\n",
    "print(\"Percentage of male in insurance claim: {:.2f}%\".format((countMale)/(len(insurance_df))*100))"
   ]
  },
  {
   "cell_type": "code",
   "execution_count": 11,
   "metadata": {},
   "outputs": [
    {
     "data": {
      "text/html": [
       "<div>\n",
       "<style scoped>\n",
       "    .dataframe tbody tr th:only-of-type {\n",
       "        vertical-align: middle;\n",
       "    }\n",
       "\n",
       "    .dataframe tbody tr th {\n",
       "        vertical-align: top;\n",
       "    }\n",
       "\n",
       "    .dataframe thead th {\n",
       "        text-align: right;\n",
       "    }\n",
       "</style>\n",
       "<table border=\"1\" class=\"dataframe\">\n",
       "  <thead>\n",
       "    <tr style=\"text-align: right;\">\n",
       "      <th></th>\n",
       "      <th>age</th>\n",
       "      <th>sex</th>\n",
       "      <th>bmi</th>\n",
       "      <th>steps</th>\n",
       "      <th>children</th>\n",
       "      <th>smoker</th>\n",
       "      <th>region</th>\n",
       "      <th>charges</th>\n",
       "    </tr>\n",
       "    <tr>\n",
       "      <th>insuranceclaim</th>\n",
       "      <th></th>\n",
       "      <th></th>\n",
       "      <th></th>\n",
       "      <th></th>\n",
       "      <th></th>\n",
       "      <th></th>\n",
       "      <th></th>\n",
       "      <th></th>\n",
       "    </tr>\n",
       "  </thead>\n",
       "  <tbody>\n",
       "    <tr>\n",
       "      <td>0</td>\n",
       "      <td>37.309910</td>\n",
       "      <td>0.486486</td>\n",
       "      <td>27.881586</td>\n",
       "      <td>6550.787387</td>\n",
       "      <td>1.681081</td>\n",
       "      <td>0.045045</td>\n",
       "      <td>1.488288</td>\n",
       "      <td>8821.421892</td>\n",
       "    </tr>\n",
       "    <tr>\n",
       "      <td>1</td>\n",
       "      <td>40.551724</td>\n",
       "      <td>0.518519</td>\n",
       "      <td>32.635179</td>\n",
       "      <td>4462.338442</td>\n",
       "      <td>0.679438</td>\n",
       "      <td>0.318008</td>\n",
       "      <td>1.535121</td>\n",
       "      <td>16423.928277</td>\n",
       "    </tr>\n",
       "  </tbody>\n",
       "</table>\n",
       "</div>"
      ],
      "text/plain": [
       "                      age       sex        bmi        steps  children  \\\n",
       "insuranceclaim                                                          \n",
       "0               37.309910  0.486486  27.881586  6550.787387  1.681081   \n",
       "1               40.551724  0.518519  32.635179  4462.338442  0.679438   \n",
       "\n",
       "                  smoker    region       charges  \n",
       "insuranceclaim                                    \n",
       "0               0.045045  1.488288   8821.421892  \n",
       "1               0.318008  1.535121  16423.928277  "
      ]
     },
     "execution_count": 11,
     "metadata": {},
     "output_type": "execute_result"
    }
   ],
   "source": [
    "insurance_df.groupby('insuranceclaim').mean()"
   ]
  },
  {
   "cell_type": "code",
   "execution_count": 12,
   "metadata": {},
   "outputs": [
    {
     "data": {
      "image/png": "[encoded data removed]",
      "text/plain": [
       "<Figure size 1728x576 with 1 Axes>"
      ]
     },
     "metadata": {
      "needs_background": "light"
     },
     "output_type": "display_data"
    }
   ],
   "source": [
    "pd.crosstab(insurance_df.age, insurance_df.insuranceclaim).plot(kind = \"bar\", figsize = (24, 8))\n",
    "plt.title('Insurance claim frequency for age')\n",
    "plt.xlabel('Age')\n",
    "plt.ylabel('Frequency')\n",
    "plt.legend(['No','Yes'])\n",
    "plt.show()"
   ]
  },
  {
   "cell_type": "code",
   "execution_count": 13,
   "metadata": {},
   "outputs": [
    {
     "data": {
      "image/png": "[encoded data removed]",
      "text/plain": [
       "<Figure size 1728x576 with 1 Axes>"
      ]
     },
     "metadata": {
      "needs_background": "light"
     },
     "output_type": "display_data"
    }
   ],
   "source": [
    "pd.crosstab(insurance_df.sex, insurance_df.insuranceclaim).plot(kind = \"bar\", figsize = (24, 8), color=['#11A5AA','#AA1190'])\n",
    "plt.title('Insurance claim frequency for sex')\n",
    "plt.xlabel('Sex (0 = Female, 1 = Male)')\n",
    "plt.ylabel('Frequency')\n",
    "plt.legend(['No','Yes'])\n",
    "plt.show()"
   ]
  },
  {
   "cell_type": "code",
   "execution_count": 14,
   "metadata": {},
   "outputs": [
    {
     "data": {
      "image/png": "[encoded data removed]",
      "text/plain": [
       "<Figure size 1728x576 with 1 Axes>"
      ]
     },
     "metadata": {
      "needs_background": "light"
     },
     "output_type": "display_data"
    }
   ],
   "source": [
    "pd.crosstab(insurance_df.region, insurance_df.insuranceclaim).plot(kind = \"bar\", figsize = (24, 8), color = ['#FFC300','#581845'])\n",
    "plt.title('Insurance claim frequency for region')\n",
    "plt.xlabel('Region (northeast=0, northwest=1, southeast=2, southwest=3)')\n",
    "plt.ylabel('Frequency')\n",
    "plt.legend(['No','Yes'])\n",
    "plt.show()"
   ]
  },
  {
   "cell_type": "code",
   "execution_count": 15,
   "metadata": {},
   "outputs": [
    {
     "data": {
      "image/png": "[encoded data removed]",
      "text/plain": [
       "<Figure size 1728x576 with 1 Axes>"
      ]
     },
     "metadata": {
      "needs_background": "light"
     },
     "output_type": "display_data"
    }
   ],
   "source": [
    "pd.crosstab(insurance_df.children, insurance_df.insuranceclaim).plot(kind = \"bar\", figsize = (24, 8), color = ['#DAF7A6','#FF5733' ])\n",
    "plt.title('Insurance claim frequency for number of children')\n",
    "plt.xlabel('children')\n",
    "plt.ylabel('Frequency')\n",
    "plt.legend(['No','Yes'])\n",
    "plt.show()"
   ]
  },
  {
   "cell_type": "markdown",
   "metadata": {},
   "source": [
    "## Data Analysis Part 1"
   ]
  },
  {
   "cell_type": "markdown",
   "metadata": {},
   "source": [
    "### Logistic Regression"
   ]
  },
  {
   "cell_type": "code",
   "execution_count": 16,
   "metadata": {},
   "outputs": [
    {
     "name": "stdout",
     "output_type": "stream",
     "text": [
      "Accuracy on Test Set for Logistic Regression:  82.34%\n"
     ]
    }
   ],
   "source": [
    "accuracies = {}\n",
    "lr = LogisticRegression()\n",
    "lr.fit(X_train, y_train)\n",
    "acc = lr.score(X_test, y_test) * 100\n",
    "accuracies['Logistic Regression'] = acc\n",
    "print(\"Accuracy on Test Set for Logistic Regression:  {:.2f}%\".format(acc))"
   ]
  },
  {
   "cell_type": "markdown",
   "metadata": {},
   "source": [
    "### K-Nearest Neighbour (KNN) Classification"
   ]
  },
  {
   "cell_type": "code",
   "execution_count": 17,
   "metadata": {},
   "outputs": [
    {
     "name": "stdout",
     "output_type": "stream",
     "text": [
      "Accuracy on Test Set for K-Nearest Neighbor (k = 2): 60.45%\n"
     ]
    }
   ],
   "source": [
    "knn = KNeighborsClassifier(n_neighbors = 2)\n",
    "knn.fit(X_train, y_train)\n",
    "acc = knn.score(X_test, y_test) * 100\n",
    "accuracies['KNN'] = acc\n",
    "print(\"Accuracy on Test Set for K-Nearest Neighbor (k = 2): {:.2f}%\".format(acc))"
   ]
  },
  {
   "cell_type": "markdown",
   "metadata": {},
   "source": [
    "### Support Vector Machine (SVM) Algorithm"
   ]
  },
  {
   "cell_type": "code",
   "execution_count": 18,
   "metadata": {},
   "outputs": [
    {
     "name": "stdout",
     "output_type": "stream",
     "text": [
      "Accuracy on Test Set for SVM Algorthm: 58.46%\n"
     ]
    }
   ],
   "source": [
    "svm = SVC(gamma = 'auto')\n",
    "svm.fit(X_train, y_train)\n",
    "acc = svm.score(X_test, y_test) * 100\n",
    "accuracies['SVM'] = acc\n",
    "print(\"Accuracy on Test Set for SVM Algorthm: {:.2f}%\".format(acc))"
   ]
  },
  {
   "cell_type": "markdown",
   "metadata": {},
   "source": [
    "### Naive Bayes Algorithm"
   ]
  },
  {
   "cell_type": "code",
   "execution_count": 19,
   "metadata": {},
   "outputs": [
    {
     "name": "stdout",
     "output_type": "stream",
     "text": [
      "Accuracy on Test Set for Naive Bayes Algorthm: 82.48%\n"
     ]
    }
   ],
   "source": [
    "nb = GaussianNB()\n",
    "nb.fit(X_train, y_train)\n",
    "acc = nb.score(X_train, y_train) * 100\n",
    "accuracies['Naive Bayes'] = acc\n",
    "print(\"Accuracy on Test Set for Naive Bayes Algorthm: {:.2f}%\".format(acc))"
   ]
  },
  {
   "cell_type": "markdown",
   "metadata": {},
   "source": [
    "### Decision Tree Algorithm"
   ]
  },
  {
   "cell_type": "code",
   "execution_count": 20,
   "metadata": {},
   "outputs": [
    {
     "name": "stdout",
     "output_type": "stream",
     "text": [
      "Accuracy on Test Set for Decision Tree Algorthm: 95.52%\n"
     ]
    }
   ],
   "source": [
    "dtc = DecisionTreeClassifier()\n",
    "dtc.fit(X_train, y_train)\n",
    "\n",
    "acc = dtc.score(X_test, y_test) * 100\n",
    "accuracies[\"Decision Tree\"] = acc\n",
    "print(\"Accuracy on Test Set for Decision Tree Algorthm: {:.2f}%\".format(acc))"
   ]
  },
  {
   "cell_type": "markdown",
   "metadata": {},
   "source": [
    "### Random Forest Classification"
   ]
  },
  {
   "cell_type": "code",
   "execution_count": 21,
   "metadata": {},
   "outputs": [
    {
     "name": "stdout",
     "output_type": "stream",
     "text": [
      "Accuracy on Test Set for Random Forest Algorthm: 94.53%\n"
     ]
    }
   ],
   "source": [
    "rf = RandomForestClassifier(n_estimators = 5)\n",
    "rf.fit(X_train, y_train)\n",
    "\n",
    "acc = rf.score(X_test, y_test) * 100\n",
    "accuracies[\"Random Forest\"] = acc\n",
    "print(\"Accuracy on Test Set for Random Forest Algorthm: {:.2f}%\".format(acc))"
   ]
  },
  {
   "cell_type": "markdown",
   "metadata": {},
   "source": [
    "### Comparing Models"
   ]
  },
  {
   "cell_type": "code",
   "execution_count": 22,
   "metadata": {},
   "outputs": [
    {
     "data": {
      "image/png": "[encoded data removed]",
      "text/plain": [
       "<Figure size 1152x360 with 1 Axes>"
      ]
     },
     "metadata": {},
     "output_type": "display_data"
    }
   ],
   "source": [
    "sns.set_style(\"whitegrid\")\n",
    "plt.figure(figsize=(16,5))\n",
    "plt.yticks(np.arange(0,100,10))\n",
    "plt.ylabel(\"Accuracy %\")\n",
    "plt.xlabel(\"Algorithms\")\n",
    "sns.barplot(x=list(accuracies.keys()), y=list(accuracies.values()))\n",
    "plt.show()"
   ]
  },
  {
   "cell_type": "code",
   "execution_count": 23,
   "metadata": {},
   "outputs": [
    {
     "data": {
      "text/plain": [
       "[('Decision Tree', 95.52238805970148),\n",
       " ('Random Forest', 94.5273631840796),\n",
       " ('Naive Bayes', 82.47863247863248),\n",
       " ('Logistic Regression', 82.33830845771143),\n",
       " ('KNN', 60.447761194029844),\n",
       " ('SVM', 58.457711442786064)]"
      ]
     },
     "execution_count": 23,
     "metadata": {},
     "output_type": "execute_result"
    }
   ],
   "source": [
    "sorted(accuracies.items(), key = lambda x:x[1], reverse = True)"
   ]
  },
  {
   "cell_type": "markdown",
   "metadata": {},
   "source": [
    "## Data Analysis Part 2"
   ]
  },
  {
   "cell_type": "code",
   "execution_count": 24,
   "metadata": {},
   "outputs": [],
   "source": [
    "accuracies_new = {}"
   ]
  },
  {
   "cell_type": "markdown",
   "metadata": {},
   "source": [
    "**Decision Tree**"
   ]
  },
  {
   "cell_type": "code",
   "execution_count": 41,
   "metadata": {},
   "outputs": [],
   "source": [
    "def decisionTreeParameter(parameters, X_train, y_train, X_test, y_test):\n",
    "    acc = max_acc = 0\n",
    "    best_parameter =[]\n",
    "    for parameter in parameters:\n",
    "        criterion, splitter, max_features = parameter\n",
    "        dtc = DecisionTreeClassifier(criterion = criterion, splitter = splitter, max_features = max_features)\n",
    "        dtc.fit(X_train, y_train)\n",
    "        acc = dtc.score(X_test, y_test) * 100\n",
    "        if max_acc < acc:\n",
    "            best_parameter = parameter\n",
    "            max_acc = acc\n",
    "            best_model = dtc\n",
    "    return best_parameter, max_acc, best_model\n",
    "criterion = ['gini','entropy']\n",
    "splitter = ['best', 'random']\n",
    "max_features = [None, \"auto\", \"sqrt\", \"log2\"]\n",
    "parameters = list(product(criterion, splitter, max_features))\n",
    "parameter_dt, accuracies_new['Decision Tree'], dtc = decisionTreeParameter(parameters, X_train, y_train, X_test, y_test)"
   ]
  },
  {
   "cell_type": "code",
   "execution_count": 44,
   "metadata": {},
   "outputs": [
    {
     "name": "stdout",
     "output_type": "stream",
     "text": [
      "('entropy', 'best', None)\n"
     ]
    }
   ],
   "source": [
    "print(parameter_dt)"
   ]
  },
  {
   "cell_type": "markdown",
   "metadata": {},
   "source": [
    "**Logistic Regression**"
   ]
  },
  {
   "cell_type": "code",
   "execution_count": 42,
   "metadata": {},
   "outputs": [],
   "source": [
    "def logisticRegressionParameter(parameters, X_train, y_train, X_test, y_test):\n",
    "    acc = max_acc = 0\n",
    "    best_parameter =[]\n",
    "    for parameter in parameters:\n",
    "        penalty, dual, fit_intercept, multi_class, warm_start = parameter\n",
    "        lr = LogisticRegression(penalty = penalty, dual = dual, fit_intercept = fit_intercept,\n",
    "                                multi_class = multi_class, warm_start = warm_start)\n",
    "        try:\n",
    "            lr.fit(X_train, y_train)\n",
    "            acc = lr.score(X_test, y_test) * 100\n",
    "            if max_acc < acc:\n",
    "                best_parameter = parameter\n",
    "                max_acc = acc\n",
    "                best_model = dtc\n",
    "        except:\n",
    "            continue\n",
    "    return best_parameter, max_acc, best_model\n",
    "\n",
    "penalty = ['l1', 'l2','elasticnet','none']\n",
    "dual = [True, False]\n",
    "fit_intercept = [True, False]\n",
    "solver = ['newton-cg', 'lbfgs', 'liblinear', 'sag', 'saga']\n",
    "multi_class = ['auto', 'ovr', 'multinomial']\n",
    "warm_start = [True, False]\n",
    "parameters = list(product(penalty, dual, fit_intercept, multi_class, warm_start))\n",
    "parameter_lr, accuracies_new['Logistic Regression'], lr = logisticRegressionParameter(parameters, X_train, y_train, X_test, y_test)"
   ]
  },
  {
   "cell_type": "code",
   "execution_count": 45,
   "metadata": {},
   "outputs": [
    {
     "name": "stdout",
     "output_type": "stream",
     "text": [
      "('l1', False, True, 'auto', True)\n"
     ]
    }
   ],
   "source": [
    "print(parameter_lr)"
   ]
  },
  {
   "cell_type": "markdown",
   "metadata": {},
   "source": [
    "**Random Forest**"
   ]
  },
  {
   "cell_type": "code",
   "execution_count": 57,
   "metadata": {},
   "outputs": [
    {
     "data": {
      "image/png": "[encoded data removed]",
      "text/plain": [
       "<Figure size 1080x432 with 1 Axes>"
      ]
     },
     "metadata": {},
     "output_type": "display_data"
    },
    {
     "name": "stdout",
     "output_type": "stream",
     "text": [
      "Accuracy on Test Set for Random Forest Classifier (n = 43) is: 96.02%\n"
     ]
    }
   ],
   "source": [
    "def findBestN(X_train, y_train, X_test, y_test, k_2, k_1 = 1):\n",
    "    # try to find best k value\n",
    "    scoreList = []\n",
    "    max_acc = acc = 0\n",
    "    for i in range(k_1, k_2):\n",
    "        rf = RandomForestClassifier(n_estimators = i)\n",
    "        rf.fit(X_train, y_train)\n",
    "        acc = rf.score(X_test, y_test) * 100\n",
    "        scoreList.append(acc)\n",
    "        if max_acc < acc:\n",
    "            best_model = rf\n",
    "            max_acc = acc\n",
    "    plt.figure(figsize = (15, 6))\n",
    "    plt.plot(range(k_1,k_2), scoreList)\n",
    "    plt.xticks(np.arange(k_1, k_2, 1))\n",
    "    plt.xlabel(\"number of estimators:\")\n",
    "    plt.ylabel(\"Score\")\n",
    "    plt.show()\n",
    "    \n",
    "    index = scoreList.index(max(scoreList))\n",
    "    print(\"Accuracy on Test Set for Random Forest Classifier (n = {:d}) is: {:.2f}%\".format(index, acc))\n",
    "    return max_acc, best_model\n",
    "accuracies_new[\"Random Forest\"], rf = findBestN(X_train, y_train, X_test, y_test, 50)"
   ]
  },
  {
   "cell_type": "markdown",
   "metadata": {},
   "source": [
    "**KNN**"
   ]
  },
  {
   "cell_type": "code",
   "execution_count": 58,
   "metadata": {},
   "outputs": [
    {
     "data": {
      "image/png": "[encoded data removed]",
      "text/plain": [
       "<Figure size 1080x432 with 1 Axes>"
      ]
     },
     "metadata": {},
     "output_type": "display_data"
    },
    {
     "name": "stdout",
     "output_type": "stream",
     "text": [
      "Accuracy on Test Set for K-Nearest Neighbor (k = 15) is: 73.63%\n"
     ]
    }
   ],
   "source": [
    "def findBestK(X_train, y_train, X_test, y_test, k_2, k_1 = 1):\n",
    "    # try to find best k value\n",
    "    scoreList = []\n",
    "    max_acc = acc = 0\n",
    "    for i in range(k_1, k_2):\n",
    "        knn = KNeighborsClassifier(n_neighbors = i)\n",
    "        knn.fit(X_train, y_train)\n",
    "        acc = knn.score(X_test, y_test) *100\n",
    "        scoreList.append(acc)\n",
    "        if max_acc < acc:\n",
    "            best_model = knn\n",
    "            max_acc = acc\n",
    "            \n",
    "    plt.figure(figsize = (15, 6))\n",
    "    plt.plot(range(k_1,k_2), scoreList)\n",
    "    plt.xticks(np.arange(k_1, k_2, 1))\n",
    "    plt.xlabel(\"k values\")\n",
    "    plt.ylabel(\"Score\")\n",
    "    plt.show()\n",
    "\n",
    "    index = scoreList.index(max(scoreList))\n",
    "    print(\"Accuracy on Test Set for K-Nearest Neighbor (k = {:d}) is: {:.2f}%\".format(index, acc))\n",
    "    return max_acc, best_model\n",
    "accuracies_new['KNN'], knn = findBestK(X_train, y_train, X_test, y_test, 30)"
   ]
  },
  {
   "cell_type": "markdown",
   "metadata": {},
   "source": [
    "**Support Vector Machine (SVM) Algorithm**"
   ]
  },
  {
   "cell_type": "code",
   "execution_count": 53,
   "metadata": {},
   "outputs": [],
   "source": [
    "def svmParameter(parameters, X_train, y_train, X_test, y_test):\n",
    "    acc = max_acc = 0\n",
    "    best_parameter =[]\n",
    "    for parameter in parameters:\n",
    "        kernel, gamma, shrinking, class_weight, probability = parameter\n",
    "        svm = SVC(kernel = kernel, gamma = gamma, shrinking = shrinking, \n",
    "                  class_weight=class_weight, probability=probability)\n",
    "        try:\n",
    "            svm.fit(X_train, y_train)\n",
    "            acc = svm.score(X_test, y_test) * 100\n",
    "            if max_acc < acc:\n",
    "                best_parameter = parameter\n",
    "                max_acc = acc\n",
    "                best_model = svm\n",
    "        except:\n",
    "            continue\n",
    "    return best_parameter, max_acc, best_model\n",
    "\n",
    "kernel = ['rbf', 'sigmoid', 'precomputed']\n",
    "gamma = ['scale','auto']\n",
    "shrinking = [True, False]\n",
    "class_weight = [None, 'balanced']\n",
    "probability = [True, False]\n",
    "parameters = list(product(kernel, gamma, shrinking, class_weight, probability))\n",
    "parameter_svm, accuracies_new['SVM'], svm = svmParameter(parameters, X_train, y_train, X_test, y_test)"
   ]
  },
  {
   "cell_type": "markdown",
   "metadata": {},
   "source": [
    "**Naive Bayes**"
   ]
  },
  {
   "cell_type": "code",
   "execution_count": 54,
   "metadata": {},
   "outputs": [],
   "source": [
    "accuracies_new['Naive Bayes'] = accuracies['Naive Bayes']\n",
    "nb = nb"
   ]
  },
  {
   "cell_type": "code",
   "execution_count": 59,
   "metadata": {},
   "outputs": [
    {
     "data": {
      "text/plain": [
       "[('Decision Tree', 98.00995024875621),\n",
       " ('Random Forest', 97.01492537313433),\n",
       " ('Logistic Regression', 87.81094527363184),\n",
       " ('Naive Bayes', 82.47863247863248),\n",
       " ('KNN', 73.88059701492537),\n",
       " ('SVM', 72.636815920398)]"
      ]
     },
     "execution_count": 59,
     "metadata": {},
     "output_type": "execute_result"
    }
   ],
   "source": [
    "sorted(accuracies_new.items(), key = lambda x:x[1], reverse = True)"
   ]
  },
  {
   "cell_type": "markdown",
   "metadata": {},
   "source": [
    "## Confusin Matrix"
   ]
  },
  {
   "cell_type": "code",
   "execution_count": 63,
   "metadata": {},
   "outputs": [],
   "source": [
    "# Predict values\n",
    "y_dtc = dtc.predict(X_test)\n",
    "y_rf = rf.predict(X_test)\n",
    "y_lr = lr.predict(X_test)\n",
    "y_nb = nb.predict(X_test)\n",
    "y_knn = knn.predict(X_test)\n",
    "y_svm = svm.predict(X_test)"
   ]
  },
  {
   "cell_type": "markdown",
   "metadata": {},
   "source": [
    "**1. Decision Tree**"
   ]
  },
  {
   "cell_type": "code",
   "execution_count": 62,
   "metadata": {},
   "outputs": [
    {
     "data": {
      "text/plain": [
       "array([[169,   3],\n",
       "       [  5, 225]])"
      ]
     },
     "execution_count": 62,
     "metadata": {},
     "output_type": "execute_result"
    }
   ],
   "source": [
    "cm_dtc = confusion_matrix(y_test, y_lr)\n",
    "cm_dtc"
   ]
  },
  {
   "cell_type": "code",
   "execution_count": 66,
   "metadata": {},
   "outputs": [
    {
     "data": {
      "text/html": [
       "<div>\n",
       "<style scoped>\n",
       "    .dataframe tbody tr th:only-of-type {\n",
       "        vertical-align: middle;\n",
       "    }\n",
       "\n",
       "    .dataframe tbody tr th {\n",
       "        vertical-align: top;\n",
       "    }\n",
       "\n",
       "    .dataframe thead th {\n",
       "        text-align: right;\n",
       "    }\n",
       "</style>\n",
       "<table border=\"1\" class=\"dataframe\">\n",
       "  <thead>\n",
       "    <tr style=\"text-align: right;\">\n",
       "      <th>Predicted</th>\n",
       "      <th>0</th>\n",
       "      <th>1</th>\n",
       "      <th>All</th>\n",
       "    </tr>\n",
       "    <tr>\n",
       "      <th>True</th>\n",
       "      <th></th>\n",
       "      <th></th>\n",
       "      <th></th>\n",
       "    </tr>\n",
       "  </thead>\n",
       "  <tbody>\n",
       "    <tr>\n",
       "      <td>0</td>\n",
       "      <td>169</td>\n",
       "      <td>3</td>\n",
       "      <td>172</td>\n",
       "    </tr>\n",
       "    <tr>\n",
       "      <td>1</td>\n",
       "      <td>5</td>\n",
       "      <td>225</td>\n",
       "      <td>230</td>\n",
       "    </tr>\n",
       "    <tr>\n",
       "      <td>All</td>\n",
       "      <td>174</td>\n",
       "      <td>228</td>\n",
       "      <td>402</td>\n",
       "    </tr>\n",
       "  </tbody>\n",
       "</table>\n",
       "</div>"
      ],
      "text/plain": [
       "Predicted    0    1  All\n",
       "True                    \n",
       "0          169    3  172\n",
       "1            5  225  230\n",
       "All        174  228  402"
      ]
     },
     "execution_count": 66,
     "metadata": {},
     "output_type": "execute_result"
    }
   ],
   "source": [
    "pd.crosstab(y_test, y_dtc,rownames=['True'], colnames=['Predicted'], margins=True)"
   ]
  },
  {
   "cell_type": "code",
   "execution_count": 69,
   "metadata": {},
   "outputs": [
    {
     "name": "stdout",
     "output_type": "stream",
     "text": [
      "              precision    recall  f1-score   support\n",
      "\n",
      "           0       0.97      0.98      0.98       172\n",
      "           1       0.99      0.98      0.98       230\n",
      "\n",
      "    accuracy                           0.98       402\n",
      "   macro avg       0.98      0.98      0.98       402\n",
      "weighted avg       0.98      0.98      0.98       402\n",
      "\n"
     ]
    }
   ],
   "source": [
    "print(classification_report(y_test,y_dtc))"
   ]
  },
  {
   "cell_type": "markdown",
   "metadata": {},
   "source": [
    "**2. Random Forest**"
   ]
  },
  {
   "cell_type": "code",
   "execution_count": 64,
   "metadata": {},
   "outputs": [
    {
     "data": {
      "text/plain": [
       "array([[169,   3],\n",
       "       [  9, 221]])"
      ]
     },
     "execution_count": 64,
     "metadata": {},
     "output_type": "execute_result"
    }
   ],
   "source": [
    "cm_rf = confusion_matrix(y_test, y_rf)\n",
    "cm_rf"
   ]
  },
  {
   "cell_type": "code",
   "execution_count": 67,
   "metadata": {},
   "outputs": [
    {
     "data": {
      "text/html": [
       "<div>\n",
       "<style scoped>\n",
       "    .dataframe tbody tr th:only-of-type {\n",
       "        vertical-align: middle;\n",
       "    }\n",
       "\n",
       "    .dataframe tbody tr th {\n",
       "        vertical-align: top;\n",
       "    }\n",
       "\n",
       "    .dataframe thead th {\n",
       "        text-align: right;\n",
       "    }\n",
       "</style>\n",
       "<table border=\"1\" class=\"dataframe\">\n",
       "  <thead>\n",
       "    <tr style=\"text-align: right;\">\n",
       "      <th>Predicted</th>\n",
       "      <th>0</th>\n",
       "      <th>1</th>\n",
       "      <th>All</th>\n",
       "    </tr>\n",
       "    <tr>\n",
       "      <th>True</th>\n",
       "      <th></th>\n",
       "      <th></th>\n",
       "      <th></th>\n",
       "    </tr>\n",
       "  </thead>\n",
       "  <tbody>\n",
       "    <tr>\n",
       "      <td>0</td>\n",
       "      <td>169</td>\n",
       "      <td>3</td>\n",
       "      <td>172</td>\n",
       "    </tr>\n",
       "    <tr>\n",
       "      <td>1</td>\n",
       "      <td>9</td>\n",
       "      <td>221</td>\n",
       "      <td>230</td>\n",
       "    </tr>\n",
       "    <tr>\n",
       "      <td>All</td>\n",
       "      <td>178</td>\n",
       "      <td>224</td>\n",
       "      <td>402</td>\n",
       "    </tr>\n",
       "  </tbody>\n",
       "</table>\n",
       "</div>"
      ],
      "text/plain": [
       "Predicted    0    1  All\n",
       "True                    \n",
       "0          169    3  172\n",
       "1            9  221  230\n",
       "All        178  224  402"
      ]
     },
     "execution_count": 67,
     "metadata": {},
     "output_type": "execute_result"
    }
   ],
   "source": [
    "pd.crosstab(y_test, y_rf,rownames=['True'], colnames=['Predicted'], margins=True)"
   ]
  },
  {
   "cell_type": "code",
   "execution_count": 70,
   "metadata": {},
   "outputs": [
    {
     "name": "stdout",
     "output_type": "stream",
     "text": [
      "              precision    recall  f1-score   support\n",
      "\n",
      "           0       0.95      0.98      0.97       172\n",
      "           1       0.99      0.96      0.97       230\n",
      "\n",
      "    accuracy                           0.97       402\n",
      "   macro avg       0.97      0.97      0.97       402\n",
      "weighted avg       0.97      0.97      0.97       402\n",
      "\n"
     ]
    }
   ],
   "source": [
    "print(classification_report(y_test,y_rf))"
   ]
  },
  {
   "cell_type": "markdown",
   "metadata": {},
   "source": [
    "**3. Logistic Regression**"
   ]
  },
  {
   "cell_type": "code",
   "execution_count": 65,
   "metadata": {},
   "outputs": [
    {
     "data": {
      "text/plain": [
       "array([[169,   3],\n",
       "       [  5, 225]])"
      ]
     },
     "execution_count": 65,
     "metadata": {},
     "output_type": "execute_result"
    }
   ],
   "source": [
    "cm_lr = confusion_matrix(y_test, y_lr)\n",
    "cm_lr"
   ]
  },
  {
   "cell_type": "code",
   "execution_count": 68,
   "metadata": {},
   "outputs": [
    {
     "data": {
      "text/html": [
       "<div>\n",
       "<style scoped>\n",
       "    .dataframe tbody tr th:only-of-type {\n",
       "        vertical-align: middle;\n",
       "    }\n",
       "\n",
       "    .dataframe tbody tr th {\n",
       "        vertical-align: top;\n",
       "    }\n",
       "\n",
       "    .dataframe thead th {\n",
       "        text-align: right;\n",
       "    }\n",
       "</style>\n",
       "<table border=\"1\" class=\"dataframe\">\n",
       "  <thead>\n",
       "    <tr style=\"text-align: right;\">\n",
       "      <th>Predicted</th>\n",
       "      <th>0</th>\n",
       "      <th>1</th>\n",
       "      <th>All</th>\n",
       "    </tr>\n",
       "    <tr>\n",
       "      <th>True</th>\n",
       "      <th></th>\n",
       "      <th></th>\n",
       "      <th></th>\n",
       "    </tr>\n",
       "  </thead>\n",
       "  <tbody>\n",
       "    <tr>\n",
       "      <td>0</td>\n",
       "      <td>169</td>\n",
       "      <td>3</td>\n",
       "      <td>172</td>\n",
       "    </tr>\n",
       "    <tr>\n",
       "      <td>1</td>\n",
       "      <td>5</td>\n",
       "      <td>225</td>\n",
       "      <td>230</td>\n",
       "    </tr>\n",
       "    <tr>\n",
       "      <td>All</td>\n",
       "      <td>174</td>\n",
       "      <td>228</td>\n",
       "      <td>402</td>\n",
       "    </tr>\n",
       "  </tbody>\n",
       "</table>\n",
       "</div>"
      ],
      "text/plain": [
       "Predicted    0    1  All\n",
       "True                    \n",
       "0          169    3  172\n",
       "1            5  225  230\n",
       "All        174  228  402"
      ]
     },
     "execution_count": 68,
     "metadata": {},
     "output_type": "execute_result"
    }
   ],
   "source": [
    "pd.crosstab(y_test, y_lr,rownames=['True'], colnames=['Predicted'], margins=True)"
   ]
  },
  {
   "cell_type": "code",
   "execution_count": 71,
   "metadata": {},
   "outputs": [
    {
     "name": "stdout",
     "output_type": "stream",
     "text": [
      "              precision    recall  f1-score   support\n",
      "\n",
      "           0       0.97      0.98      0.98       172\n",
      "           1       0.99      0.98      0.98       230\n",
      "\n",
      "    accuracy                           0.98       402\n",
      "   macro avg       0.98      0.98      0.98       402\n",
      "weighted avg       0.98      0.98      0.98       402\n",
      "\n"
     ]
    }
   ],
   "source": [
    "print(classification_report(y_test,y_lr))"
   ]
  },
  {
   "cell_type": "markdown",
   "metadata": {},
   "source": [
    "## Data Analysis Part 3"
   ]
  },
  {
   "cell_type": "code",
   "execution_count": null,
   "metadata": {},
   "outputs": [],
   "source": []
  }
 ],
 "metadata": {
  "kernelspec": {
   "display_name": "ISLR_Python",
   "language": "python",
   "name": "islr_python"
  },
  "language_info": {
   "codemirror_mode": {
    "name": "ipython",
    "version": 3
   },
   "file_extension": ".py",
   "mimetype": "text/x-python",
   "name": "python",
   "nbconvert_exporter": "python",
   "pygments_lexer": "ipython3",
   "version": "3.7.4"
  }
 },
 "nbformat": 4,
 "nbformat_minor": 2
}
