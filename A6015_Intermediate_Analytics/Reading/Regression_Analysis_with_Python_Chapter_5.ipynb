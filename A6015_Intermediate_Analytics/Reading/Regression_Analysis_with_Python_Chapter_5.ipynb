{
 "cells": [
  {
   "cell_type": "markdown",
   "metadata": {},
   "source": [
    "# - Chapter 5\n",
    "# Data Preparation"
   ]
  },
  {
   "cell_type": "markdown",
   "metadata": {},
   "source": [
    "Throughout this chapter, we will therefore discover a variety of topics, Python classes, and functions that will allow you to:\n",
    "\n",
    "\n",
    "- Properly scale numeric features and have an easier time not just comparing and interpreting coefficients but also when dealing with unusual or missing values or with very sparse matrices (very common in textual data processing)\n",
    "\n",
    "\n",
    "- Turn qualitative features into numeric values that can be accepted by a regression model and correctly transformed into predictions\n",
    "\n",
    "\n",
    "- Transform numeric features in the smartest possible way to convert non-linear relationships in your data into linear ones\n",
    "\n",
    "\n",
    "- Determine what to do when important data is missing to estimate a replacement or even just let the regression manage the best solution by itself\n",
    "\n",
    "\n",
    "- Repair any unusual or strange value in your data and make your regression model always work properly"
   ]
  },
  {
   "cell_type": "markdown",
   "metadata": {},
   "source": [
    "## Numeric feature scaling"
   ]
  },
  {
   "cell_type": "code",
   "execution_count": 128,
   "metadata": {},
   "outputs": [],
   "source": [
    "import numpy as np\n",
    "import pandas as pd\n",
    "import matplotlib.pyplot as plt\n",
    "from sklearn.datasets import load_boston\n",
    "from sklearn import linear_model\n",
    "import seaborn as sns\n",
    "%matplotlib inline\n",
    "#To set float output to 5 decimals and to suppress printing of \\small floating point values using scientific notation\n",
    "np.set_printoptions(precision=5, suppress=True)"
   ]
  },
  {
   "cell_type": "code",
   "execution_count": 2,
   "metadata": {},
   "outputs": [],
   "source": [
    "boston = load_boston()\n",
    "dataset = pd.DataFrame(boston.data, columns = boston.feature_names)\n",
    "dataset['target'] = boston.target\n",
    "observations = len(dataset)\n",
    "variables = dataset.columns\n",
    "X = dataset.iloc[:,:-1]\n",
    "y = dataset['target'].values"
   ]
  },
  {
   "cell_type": "code",
   "execution_count": 3,
   "metadata": {},
   "outputs": [],
   "source": [
    "yq = np.array(y>25, dtype=int)"
   ]
  },
  {
   "cell_type": "markdown",
   "metadata": {},
   "source": [
    "After this operation, our qualitative response variable is named yq."
   ]
  },
  {
   "cell_type": "markdown",
   "metadata": {},
   "source": [
    "### Mean centering"
   ]
  },
  {
   "cell_type": "code",
   "execution_count": 5,
   "metadata": {},
   "outputs": [
    {
     "name": "stdout",
     "output_type": "stream",
     "text": [
      "coefficients: [ -0.10801   0.04642   0.02056   2.68673 -17.76661   3.80987   0.00069\n",
      "  -1.47557   0.30605  -0.01233  -0.95275   0.00931  -0.52476]\n",
      "intercept: 36.459\n"
     ]
    }
   ],
   "source": [
    "from sklearn.preprocessing import StandardScaler\n",
    "from sklearn.preprocessing import MinMaxScaler\n",
    "linear_regression = linear_model.LinearRegression(normalize = False, fit_intercept = True)\n",
    "linear_regression.fit(X, y)\n",
    "print(\"coefficients: %s\\nintercept: %0.3f\" % (linear_regression.coef_, linear_regression.intercept_))"
   ]
  },
  {
   "cell_type": "code",
   "execution_count": 6,
   "metadata": {},
   "outputs": [
    {
     "data": {
      "text/plain": [
       "CRIM         0.00632\n",
       "ZN           0.00000\n",
       "INDUS        0.46000\n",
       "CHAS         0.00000\n",
       "NOX          0.38500\n",
       "RM           3.56100\n",
       "AGE          2.90000\n",
       "DIS          1.12960\n",
       "RAD          1.00000\n",
       "TAX        187.00000\n",
       "PTRATIO     12.60000\n",
       "B            0.32000\n",
       "LSTAT        1.73000\n",
       "target       5.00000\n",
       "dtype: float64"
      ]
     },
     "execution_count": 6,
     "metadata": {},
     "output_type": "execute_result"
    }
   ],
   "source": [
    "dataset.min()"
   ]
  },
  {
   "cell_type": "code",
   "execution_count": 14,
   "metadata": {},
   "outputs": [
    {
     "name": "stdout",
     "output_type": "stream",
     "text": [
      "coefficients: [ -0.10801   0.04642   0.02056   2.68673 -17.76661   3.80987   0.00069\n",
      "  -1.47557   0.30605  -0.01233  -0.95275   0.00931  -0.52476]\n",
      "intercept: 22.532806324110688\n"
     ]
    }
   ],
   "source": [
    "centering = StandardScaler(with_mean = True, with_std = False)\n",
    "linear_regression.fit(centering.fit_transform(X),y)\n",
    "print(\"coefficients: %s\\nintercept: %s\" % (linear_regression.coef_, linear_regression.intercept_))"
   ]
  },
  {
   "cell_type": "code",
   "execution_count": 15,
   "metadata": {},
   "outputs": [
    {
     "name": "stdout",
     "output_type": "stream",
     "text": [
      "mean: 22.533\n"
     ]
    }
   ],
   "source": [
    "print('mean: %0.3f' % np.mean(y))"
   ]
  },
  {
   "cell_type": "markdown",
   "metadata": {},
   "source": [
    "### Standardization"
   ]
  },
  {
   "cell_type": "code",
   "execution_count": 16,
   "metadata": {},
   "outputs": [
    {
     "name": "stdout",
     "output_type": "stream",
     "text": [
      "coefficients: [-0.92815  1.08157  0.1409   0.68174 -2.05672  2.67423  0.01947 -3.10404\n",
      "  2.66222 -2.07678 -2.06061  0.84927 -3.74363]\n",
      "intercept: 22.532806324110684\n"
     ]
    }
   ],
   "source": [
    "standardization = StandardScaler(with_mean = True, with_std = True)\n",
    "linear_regression.fit(standardization.fit_transform(X),y)\n",
    "print(\"coefficients: %s\\nintercept: %s\" % (linear_regression.coef_, linear_regression.intercept_))"
   ]
  },
  {
   "cell_type": "markdown",
   "metadata": {},
   "source": [
    "### Normalization"
   ]
  },
  {
   "cell_type": "code",
   "execution_count": 17,
   "metadata": {},
   "outputs": [
    {
     "name": "stdout",
     "output_type": "stream",
     "text": [
      "coefficients: [ -9.60976   4.64205   0.56084   2.68673  -8.63457  19.88369   0.06722\n",
      " -16.22666   7.03914  -6.46333  -8.95582   3.69283 -19.01724]\n",
      "intercept: 26.6202675846878\n"
     ]
    }
   ],
   "source": [
    "scaling = MinMaxScaler(feature_range = (0,1))\n",
    "linear_regression.fit(scaling.fit_transform(X), y)\n",
    "print(\"coefficients: %s\\nintercept: %s\" % (linear_regression.coef_, linear_regression.intercept_))"
   ]
  },
  {
   "cell_type": "markdown",
   "metadata": {},
   "source": [
    "### The logistic regression case"
   ]
  },
  {
   "cell_type": "code",
   "execution_count": 19,
   "metadata": {},
   "outputs": [],
   "source": [
    "import statsmodels.api as sm"
   ]
  },
  {
   "cell_type": "code",
   "execution_count": 24,
   "metadata": {},
   "outputs": [
    {
     "name": "stdout",
     "output_type": "stream",
     "text": [
      "Optimization terminated successfully.\n",
      "         Current function value: 0.206631\n",
      "         Iterations 9\n",
      "                           Logit Regression Results                           \n",
      "==============================================================================\n",
      "Dep. Variable:                      y   No. Observations:                  506\n",
      "Model:                          Logit   Df Residuals:                      492\n",
      "Method:                           MLE   Df Model:                           13\n",
      "Date:                Tue, 28 Jan 2020   Pseudo R-squ.:                  0.6289\n",
      "Time:                        13:05:32   Log-Likelihood:                -104.56\n",
      "converged:                       True   LL-Null:                       -281.76\n",
      "Covariance Type:            nonrobust   LLR p-value:                 9.145e-68\n",
      "==============================================================================\n",
      "                 coef    std err          z      P>|z|      [0.025      0.975]\n",
      "------------------------------------------------------------------------------\n",
      "const         -3.0542      0.356     -8.571      0.000      -3.753      -2.356\n",
      "x1            -0.0954      0.390     -0.245      0.807      -0.859       0.668\n",
      "x2             0.2544      0.252      1.008      0.314      -0.240       0.749\n",
      "x3            -0.7570      0.403     -1.880      0.060      -1.546       0.032\n",
      "x4             0.2452      0.205      1.195      0.232      -0.157       0.648\n",
      "x5            -0.7923      0.519     -1.527      0.127      -1.810       0.225\n",
      "x6             1.3244      0.318      4.168      0.000       0.702       1.947\n",
      "x7             0.0982      0.313      0.314      0.754      -0.515       0.712\n",
      "x8            -1.2391      0.345     -3.591      0.000      -1.915      -0.563\n",
      "x9             2.7665      0.719      3.849      0.000       1.358       4.175\n",
      "x10           -1.8228      0.680     -2.682      0.007      -3.155      -0.491\n",
      "x11           -0.7635      0.264     -2.887      0.004      -1.282      -0.245\n",
      "x12           -0.2065      0.349     -0.592      0.554      -0.891       0.478\n",
      "x13           -2.6207      0.521     -5.031      0.000      -3.642      -1.600\n",
      "==============================================================================\n"
     ]
    }
   ],
   "source": [
    "Xq = sm.add_constant(standardization.fit_transform(X))\n",
    "logit = sm.Logit(yq, Xq)\n",
    "result = logit.fit()\n",
    "print(result.summary())"
   ]
  },
  {
   "cell_type": "code",
   "execution_count": 25,
   "metadata": {},
   "outputs": [
    {
     "name": "stdout",
     "output_type": "stream",
     "text": [
      "odd ratios of coefficients: [ 0.04716  0.90902  1.28964  0.46908  1.27788  0.45278  3.76007  1.10314\n",
      "  0.28965 15.90341  0.16158  0.46603  0.81345  0.07275]\n"
     ]
    }
   ],
   "source": [
    "print('odd ratios of coefficients: %s' % np.exp(result.params))"
   ]
  },
  {
   "cell_type": "code",
   "execution_count": 27,
   "metadata": {},
   "outputs": [
    {
     "name": "stdout",
     "output_type": "stream",
     "text": [
      "intercept: -3.054\n",
      "probability of value above 25 when all predictors are average: 0.045\n"
     ]
    }
   ],
   "source": [
    "def sigmoid(p):\n",
    "    return 1/(1+np.exp(-p))\n",
    "print('intercept: %0.3f' % result.params[0])\n",
    "print('probability of value above 25 when all predictors are average: %0.3f' % sigmoid(result.params[0]))"
   ]
  },
  {
   "cell_type": "code",
   "execution_count": 28,
   "metadata": {},
   "outputs": [
    {
     "name": "stdout",
     "output_type": "stream",
     "text": [
      "average likelihood of positive response: 0.245\n"
     ]
    }
   ],
   "source": [
    "print('average likelihood of positive response: %0.3f' % (sum(yq)/float(len(yq))))"
   ]
  },
  {
   "cell_type": "code",
   "execution_count": 30,
   "metadata": {},
   "outputs": [
    {
     "name": "stdout",
     "output_type": "stream",
     "text": [
      "Optimization terminated successfully.\n",
      "         Current function value: 0.556842\n",
      "         Iterations 5\n",
      "                           Logit Regression Results                           \n",
      "==============================================================================\n",
      "Dep. Variable:                      y   No. Observations:                  506\n",
      "Model:                          Logit   Df Residuals:                      505\n",
      "Method:                           MLE   Df Model:                            0\n",
      "Date:                Tue, 28 Jan 2020   Pseudo R-squ.:               3.276e-11\n",
      "Time:                        13:10:16   Log-Likelihood:                -281.76\n",
      "converged:                       True   LL-Null:                       -281.76\n",
      "Covariance Type:            nonrobust   LLR p-value:                       nan\n",
      "==============================================================================\n",
      "                 coef    std err          z      P>|z|      [0.025      0.975]\n",
      "------------------------------------------------------------------------------\n",
      "const         -1.1251      0.103    -10.886      0.000      -1.328      -0.923\n",
      "==============================================================================\n",
      "\n",
      "probability of value above 25 using just a constant: 0.245\n"
     ]
    }
   ],
   "source": [
    "C = np.ones(len(X))\n",
    "logit = sm.Logit(yq, C)\n",
    "result = logit.fit()\n",
    "print(result.summary())\n",
    "print('\\nprobability of value above 25 using just a constant: %0.3f' % sigmoid(result.params[0]))"
   ]
  },
  {
   "cell_type": "markdown",
   "metadata": {},
   "source": [
    "## Qualitative feature encoding"
   ]
  },
  {
   "cell_type": "code",
   "execution_count": 50,
   "metadata": {},
   "outputs": [],
   "source": [
    "outlook   = ['sunny', 'overcast', 'rainy']\n",
    "temperature = ['hot', 'mild', 'cool']\n",
    "humidity    = ['high', 'normal']\n",
    "windy       = ['TRUE', 'FALSE']\n",
    "\n",
    "weather_dataset = list()\n",
    "\n",
    "for o in outlook:\n",
    "    for t in temperature:\n",
    "        for h in humidity:\n",
    "            for w in windy:\n",
    "                weather_dataset.append([o, t, h, w])\n",
    "play = [0, 0, 1, 1, 1, 0, 1, 1, 0, 0, 0, 1, 1, 1, 1, 1, 1, 1, 1, 1, 0, 0, 1, 1, 0, 0, 0, 1, 0, 1, 0, 1, 0, 0, 0, 1]"
   ]
  },
  {
   "cell_type": "markdown",
   "metadata": {},
   "source": [
    "### Dummy coding with Pandas"
   ]
  },
  {
   "cell_type": "code",
   "execution_count": 51,
   "metadata": {},
   "outputs": [],
   "source": [
    "import pandas as pd"
   ]
  },
  {
   "cell_type": "code",
   "execution_count": 52,
   "metadata": {},
   "outputs": [
    {
     "name": "stdout",
     "output_type": "stream",
     "text": [
      "   high  normal\n",
      "0     1       0\n",
      "1     1       0\n",
      "2     0       1\n",
      "3     0       1\n",
      "4     1       0\n"
     ]
    }
   ],
   "source": [
    "df = pd.DataFrame(weather_dataset, columns=['outlook','temperature','humidity','windy'])\n",
    "print(pd.get_dummies(df.humidity).iloc[:5,:])"
   ]
  },
  {
   "cell_type": "code",
   "execution_count": 53,
   "metadata": {},
   "outputs": [],
   "source": [
    "dummy_encoding = pd.get_dummies(df)"
   ]
  },
  {
   "cell_type": "code",
   "execution_count": 54,
   "metadata": {},
   "outputs": [
    {
     "name": "stdout",
     "output_type": "stream",
     "text": [
      "Optimization terminated successfully.\n",
      "         Current function value: 0.292346\n",
      "         Iterations 17\n",
      "                           Logit Regression Results                           \n",
      "==============================================================================\n",
      "Dep. Variable:                      y   No. Observations:                   36\n",
      "Model:                          Logit   Df Residuals:                       29\n",
      "Method:                           MLE   Df Model:                            6\n",
      "Date:                Tue, 28 Jan 2020   Pseudo R-squ.:                  0.5744\n",
      "Time:                        13:41:36   Log-Likelihood:                -10.524\n",
      "converged:                       True   LL-Null:                       -24.731\n",
      "Covariance Type:            nonrobust   LLR p-value:                 7.856e-05\n",
      "====================================================================================\n",
      "                       coef    std err          z      P>|z|      [0.025      0.975]\n",
      "------------------------------------------------------------------------------------\n",
      "const                0.2393        nan        nan        nan         nan         nan\n",
      "outlook_overcast     2.9833   5.85e+07    5.1e-08      1.000   -1.15e+08    1.15e+08\n",
      "outlook_rainy       -2.1746   6.15e+07  -3.54e-08      1.000    -1.2e+08     1.2e+08\n",
      "outlook_sunny       -0.5695   6.17e+07  -9.23e-09      1.000   -1.21e+08    1.21e+08\n",
      "temperature_cool    -2.1996   5.38e+07  -4.09e-08      1.000   -1.05e+08    1.05e+08\n",
      "temperature_hot      0.3045   5.38e+07   5.66e-09      1.000   -1.05e+08    1.05e+08\n",
      "temperature_mild     2.1344   5.38e+07   3.97e-08      1.000   -1.05e+08    1.05e+08\n",
      "humidity_high       -2.0459        nan        nan        nan         nan         nan\n",
      "humidity_normal      2.2851        nan        nan        nan         nan         nan\n",
      "windy_FALSE          1.3162   4.47e+07   2.94e-08      1.000   -8.77e+07    8.77e+07\n",
      "windy_TRUE          -1.0770   4.47e+07  -2.41e-08      1.000   -8.77e+07    8.77e+07\n",
      "====================================================================================\n"
     ]
    }
   ],
   "source": [
    "import statsmodels.api as sm\n",
    "X = sm.add_constant(dummy_encoding)\n",
    "logit = sm.Logit(play, X)\n",
    "result = logit.fit()\n",
    "print(result.summary())"
   ]
  },
  {
   "cell_type": "code",
   "execution_count": 56,
   "metadata": {},
   "outputs": [
    {
     "name": "stdout",
     "output_type": "stream",
     "text": [
      "Optimization terminated successfully.\n",
      "         Current function value: 0.292346\n",
      "         Iterations 8\n",
      "                           Logit Regression Results                           \n",
      "==============================================================================\n",
      "Dep. Variable:                      y   No. Observations:                   36\n",
      "Model:                          Logit   Df Residuals:                       29\n",
      "Method:                           MLE   Df Model:                            6\n",
      "Date:                Tue, 28 Jan 2020   Pseudo R-squ.:                  0.5744\n",
      "Time:                        13:42:18   Log-Likelihood:                -10.524\n",
      "converged:                       True   LL-Null:                       -24.731\n",
      "Covariance Type:            nonrobust   LLR p-value:                 7.856e-05\n",
      "====================================================================================\n",
      "                       coef    std err          z      P>|z|      [0.025      0.975]\n",
      "------------------------------------------------------------------------------------\n",
      "const                5.4055      2.196      2.462      0.014       1.102       9.709\n",
      "outlook_overcast     3.5528      1.721      2.064      0.039       0.179       6.927\n",
      "outlook_rainy       -1.6051      1.357     -1.183      0.237      -4.265       1.055\n",
      "temperature_cool    -4.3340      1.867     -2.322      0.020      -7.993      -0.675\n",
      "temperature_hot     -1.8299      1.478     -1.238      0.216      -4.727       1.067\n",
      "humidity_high       -4.3310      1.645     -2.633      0.008      -7.555      -1.107\n",
      "windy_TRUE          -2.3932      1.325     -1.807      0.071      -4.989       0.203\n",
      "====================================================================================\n"
     ]
    }
   ],
   "source": [
    "try:\n",
    "    X.drop(['outlook_sunny', 'temperature_mild', 'humidity_normal', 'windy_FALSE'], inplace=True, axis=1)\n",
    "except:\n",
    "    pass\n",
    "logit = sm.Logit(play, X)\n",
    "result = logit.fit()\n",
    "print(result.summary())"
   ]
  },
  {
   "cell_type": "markdown",
   "metadata": {},
   "source": [
    "### DictVectorizer and one-hot encoding"
   ]
  },
  {
   "cell_type": "code",
   "execution_count": 62,
   "metadata": {},
   "outputs": [
    {
     "name": "stdout",
     "output_type": "stream",
     "text": [
      "{'outlook': 'sunny', 'temperature': 'hot', 'humidity': 'high', 'windy': 'TRUE'}\n",
      "[[1. 0. 0. 0. 1. 0. 1. 0. 0. 1.]\n",
      " [1. 0. 0. 0. 1. 0. 1. 0. 1. 0.]\n",
      " [0. 1. 0. 0. 1. 0. 1. 0. 0. 1.]\n",
      " [0. 1. 0. 0. 1. 0. 1. 0. 1. 0.]\n",
      " [1. 0. 0. 0. 1. 0. 0. 1. 0. 1.]\n",
      " [1. 0. 0. 0. 1. 0. 0. 1. 1. 0.]\n",
      " [0. 1. 0. 0. 1. 0. 0. 1. 0. 1.]\n",
      " [0. 1. 0. 0. 1. 0. 0. 1. 1. 0.]\n",
      " [1. 0. 0. 0. 1. 1. 0. 0. 0. 1.]\n",
      " [1. 0. 0. 0. 1. 1. 0. 0. 1. 0.]\n",
      " [0. 1. 0. 0. 1. 1. 0. 0. 0. 1.]\n",
      " [0. 1. 0. 0. 1. 1. 0. 0. 1. 0.]\n",
      " [1. 0. 1. 0. 0. 0. 1. 0. 0. 1.]\n",
      " [1. 0. 1. 0. 0. 0. 1. 0. 1. 0.]\n",
      " [0. 1. 1. 0. 0. 0. 1. 0. 0. 1.]\n",
      " [0. 1. 1. 0. 0. 0. 1. 0. 1. 0.]\n",
      " [1. 0. 1. 0. 0. 0. 0. 1. 0. 1.]\n",
      " [1. 0. 1. 0. 0. 0. 0. 1. 1. 0.]\n",
      " [0. 1. 1. 0. 0. 0. 0. 1. 0. 1.]\n",
      " [0. 1. 1. 0. 0. 0. 0. 1. 1. 0.]\n",
      " [1. 0. 1. 0. 0. 1. 0. 0. 0. 1.]\n",
      " [1. 0. 1. 0. 0. 1. 0. 0. 1. 0.]\n",
      " [0. 1. 1. 0. 0. 1. 0. 0. 0. 1.]\n",
      " [0. 1. 1. 0. 0. 1. 0. 0. 1. 0.]\n",
      " [1. 0. 0. 1. 0. 0. 1. 0. 0. 1.]\n",
      " [1. 0. 0. 1. 0. 0. 1. 0. 1. 0.]\n",
      " [0. 1. 0. 1. 0. 0. 1. 0. 0. 1.]\n",
      " [0. 1. 0. 1. 0. 0. 1. 0. 1. 0.]\n",
      " [1. 0. 0. 1. 0. 0. 0. 1. 0. 1.]\n",
      " [1. 0. 0. 1. 0. 0. 0. 1. 1. 0.]\n",
      " [0. 1. 0. 1. 0. 0. 0. 1. 0. 1.]\n",
      " [0. 1. 0. 1. 0. 0. 0. 1. 1. 0.]\n",
      " [1. 0. 0. 1. 0. 1. 0. 0. 0. 1.]\n",
      " [1. 0. 0. 1. 0. 1. 0. 0. 1. 0.]\n",
      " [0. 1. 0. 1. 0. 1. 0. 0. 0. 1.]\n",
      " [0. 1. 0. 1. 0. 1. 0. 0. 1. 0.]]\n"
     ]
    }
   ],
   "source": [
    "from sklearn.feature_extraction import DictVectorizer\n",
    "vectorizer = DictVectorizer(sparse = False)\n",
    "dict_representation = [{varname:var for var, varname in zip(row, ['outlook', 'temperature', 'humidity', 'windy'])}\n",
    "                       for row in weather_dataset]\n",
    "print(dict_representation[0])\n",
    "print(vectorizer.fit_transform(dict_representation))"
   ]
  },
  {
   "cell_type": "code",
   "execution_count": 63,
   "metadata": {},
   "outputs": [
    {
     "name": "stdout",
     "output_type": "stream",
     "text": [
      "['humidity=high', 'humidity=normal', 'outlook=overcast', 'outlook=rainy', 'outlook=sunny', 'temperature=cool', 'temperature=hot', 'temperature=mild', 'windy=FALSE', 'windy=TRUE']\n"
     ]
    }
   ],
   "source": [
    "print(vectorizer.feature_names_)"
   ]
  },
  {
   "cell_type": "code",
   "execution_count": 64,
   "metadata": {},
   "outputs": [
    {
     "name": "stdout",
     "output_type": "stream",
     "text": [
      "[2 2 2 2 2 2 2 2 2 2 2 2 0 0 0 0 0 0 0 0 0 0 0 0 1 1 1 1 1 1 1 1 1 1 1 1]\n"
     ]
    }
   ],
   "source": [
    "from sklearn.preprocessing import LabelEncoder, LabelBinarizer\n",
    "label_encoder = LabelEncoder()\n",
    "print(label_encoder.fit_transform(df.outlook))"
   ]
  },
  {
   "cell_type": "code",
   "execution_count": 66,
   "metadata": {},
   "outputs": [
    {
     "data": {
      "text/plain": [
       "array(['overcast', 'rainy', 'sunny'], dtype=object)"
      ]
     },
     "execution_count": 66,
     "metadata": {},
     "output_type": "execute_result"
    }
   ],
   "source": [
    "label_encoder.inverse_transform([0, 1, 2])"
   ]
  },
  {
   "cell_type": "markdown",
   "metadata": {},
   "source": [
    "### Feature hasher"
   ]
  },
  {
   "cell_type": "code",
   "execution_count": 72,
   "metadata": {},
   "outputs": [
    {
     "name": "stdout",
     "output_type": "stream",
     "text": [
      "{'n': 0, ' ': 1, 'u': 2, 's': 3, 'c': 4, 'q': 5, 'e': 6, 'o': 7, 'm': 8, 'a': 9, 't': 10, 'r': 11, 'i': 12}\n"
     ]
    }
   ],
   "source": [
    "your_text = 'Nomina sunt consequentia rerum'\n",
    "mapping_words_in_text = {word: position for position, word in enumerate(set(your_text.lower()))}\n",
    "print(mapping_words_in_text)"
   ]
  },
  {
   "cell_type": "code",
   "execution_count": 73,
   "metadata": {},
   "outputs": [],
   "source": [
    "corpus = ['The quick fox jumped over the lazy dog', 'I sought a dog wondering around with a bird', 'My dog is named Fido']"
   ]
  },
  {
   "cell_type": "code",
   "execution_count": 84,
   "metadata": {},
   "outputs": [
    {
     "name": "stdout",
     "output_type": "stream",
     "text": [
      "[[0 0 1 0 1 0 1 1 0 0 1 1 0 1 0 0]\n",
      " [1 1 1 0 0 0 0 0 0 0 0 0 1 0 1 1]\n",
      " [0 0 1 1 0 1 0 0 1 1 0 0 0 0 0 0]]\n"
     ]
    }
   ],
   "source": [
    "from sklearn.feature_extraction.text import CountVectorizer\n",
    "textual_one_hot_encoder = CountVectorizer(binary=True)\n",
    "textual_one_hot_encoder.fit(corpus)\n",
    "vectorized_text = textual_one_hot_encoder.transform(corpus)\n",
    "print(vectorized_text.todense())"
   ]
  },
  {
   "cell_type": "code",
   "execution_count": 86,
   "metadata": {},
   "outputs": [
    {
     "name": "stdout",
     "output_type": "stream",
     "text": [
      "['around', 'bird', 'dog', 'fido', 'fox', 'is', 'jumped', 'lazy', 'my', 'named', 'over', 'quick', 'sought', 'the', 'with', 'wondering']\n"
     ]
    }
   ],
   "source": [
    "print (textual_one_hot_encoder.get_feature_names())"
   ]
  },
  {
   "cell_type": "code",
   "execution_count": 102,
   "metadata": {},
   "outputs": [
    {
     "name": "stdout",
     "output_type": "stream",
     "text": [
      "[[0 0 0 0 0 0 0 0 0 0 0 0 0 0 0 0]]\n"
     ]
    }
   ],
   "source": [
    "print (textual_one_hot_encoder.transform(['John went home today']).todense())"
   ]
  },
  {
   "cell_type": "code",
   "execution_count": 107,
   "metadata": {},
   "outputs": [
    {
     "name": "stdout",
     "output_type": "stream",
     "text": [
      "[[1. 0. 0. 1. 1. 0. 0. 1. 0. 0. 0.]\n",
      " [0. 0. 0. 1. 0. 1. 0. 1. 1. 0. 0.]\n",
      " [0. 0. 0. 1. 0. 0. 0. 1. 1. 0. 0.]]\n"
     ]
    }
   ],
   "source": [
    "from sklearn.feature_extraction.text import HashingVectorizer\n",
    "hashing_trick = HashingVectorizer(n_features=11, binary=True, norm=None)\n",
    "M = hashing_trick.transform(corpus)\n",
    "print(M.todense())"
   ]
  },
  {
   "cell_type": "code",
   "execution_count": 109,
   "metadata": {},
   "outputs": [
    {
     "name": "stdout",
     "output_type": "stream",
     "text": [
      "[[1. 0. 1. 1. 0. 1. 0. 1. 0. 1. 0.]]\n"
     ]
    }
   ],
   "source": [
    "print(hashing_trick.transform(['John is the owner of that dog']).todense())"
   ]
  },
  {
   "cell_type": "markdown",
   "metadata": {},
   "source": [
    "## Numeric feature transformation"
   ]
  },
  {
   "cell_type": "code",
   "execution_count": 110,
   "metadata": {},
   "outputs": [
    {
     "name": "stdout",
     "output_type": "stream",
     "text": [
      "['CRIM' 'ZN' 'INDUS' 'CHAS' 'NOX' 'RM' 'AGE' 'DIS' 'RAD' 'TAX' 'PTRATIO'\n",
      " 'B' 'LSTAT']\n"
     ]
    }
   ],
   "source": [
    "import numpy as np\n",
    "boston = load_boston()\n",
    "labels = boston.feature_names\n",
    "X = boston.data\n",
    "y = boston.target\n",
    "print(boston.feature_names)"
   ]
  },
  {
   "cell_type": "code",
   "execution_count": 111,
   "metadata": {},
   "outputs": [
    {
     "name": "stdout",
     "output_type": "stream",
     "text": [
      "R-squared: 0.741\n"
     ]
    }
   ],
   "source": [
    "linear_regression = linear_model.LinearRegression(fit_intercept = True)\n",
    "linear_regression.fit(X, y)\n",
    "\n",
    "from sklearn.metrics import r2_score\n",
    "print(\"R-squared: %0.3f\" % r2_score(y, linear_regression.predict(X)))"
   ]
  },
  {
   "cell_type": "markdown",
   "metadata": {},
   "source": [
    "### Observing residuals"
   ]
  },
  {
   "cell_type": "code",
   "execution_count": 162,
   "metadata": {},
   "outputs": [
    {
     "name": "stdout",
     "output_type": "stream",
     "text": [
      "Head of residual [-121.74225 -149.75336 -142.75126 -180.14453 -176.53545]\n",
      "Mean of residuals: -104.969\n",
      "Standard deviation of residuals: 73.115\n"
     ]
    }
   ],
   "source": [
    "residuals = y - linear_regression.predict(X)\n",
    "print (\"Head of residual %s\" % residuals[:5])\n",
    "print (\"Mean of residuals: %0.3f\" % np.mean(residuals))\n",
    "print (\"Standard deviation of residuals: %0.3f\" % np.std(residuals))"
   ]
  },
  {
   "cell_type": "code",
   "execution_count": 163,
   "metadata": {},
   "outputs": [
    {
     "data": {
      "image/png": "[encoded data removed]",
      "text/plain": [
       "<Figure size 432x288 with 1 Axes>"
      ]
     },
     "metadata": {
      "needs_background": "light"
     },
     "output_type": "display_data"
    }
   ],
   "source": [
    "var = 7\n",
    "partial_residual = residuals + X[:,var] * linear_regression.coef_[var]\n",
    "plt.scatter(X[:,var],partial_residual, marker='o',c='',edgecolors='gray',s = 15)\n",
    "plt.xlabel(boston.feature_names[var])\n",
    "plt.ylabel('partial residuals')\n",
    "plt.show()"
   ]
  },
  {
   "cell_type": "code",
   "execution_count": 167,
   "metadata": {},
   "outputs": [
    {
     "data": {
      "image/png": "[encoded data removed]",
      "text/plain": [
       "<Figure size 432x288 with 1 Axes>"
      ]
     },
     "metadata": {
      "needs_background": "light"
     },
     "output_type": "display_data"
    },
    {
     "name": "stdout",
     "output_type": "stream",
     "text": [
      "R-squared: 0.769\n"
     ]
    }
   ],
   "source": [
    "X_t = X.copy()\n",
    "X_t[:,var] = 1./np.sqrt(X_t[:,var])\n",
    "linear_regression.fit(X_t, y)\n",
    "partial_residual = residuals + X_t[:,var] * linear_regression.coef_[var]\n",
    "plt.scatter(X_t[:,var], partial_residual, marker='o',c='',edgecolors='gray',s = 15)\n",
    "plt.xlabel(boston.feature_names[var])\n",
    "plt.ylabel('partial residuals')\n",
    "plt.show()\n",
    "print (\"R-squared: %0.3f\" % r2_score(y, linear_regression.predict(X_t)))"
   ]
  },
  {
   "cell_type": "code",
   "execution_count": 169,
   "metadata": {},
   "outputs": [
    {
     "name": "stdout",
     "output_type": "stream",
     "text": [
      "R-squared: 0.768\n"
     ]
    }
   ],
   "source": [
    "import numpy as np\n",
    "from sklearn.preprocessing import LabelBinarizer\n",
    "LB = LabelBinarizer()\n",
    "X_t = X.copy()\n",
    "edges = np.histogram(X_t[:,var], bins=20)[1]\n",
    "binning = np.digitize(X_t[:,var], edges)\n",
    "X_t = np.column_stack((np.delete(X_t, var, axis=1),LB.fit_transform(binning)))\n",
    "linear_regression.fit(X_t, y)\n",
    "print (\"R-squared: %0.3f\" % r2_score(y, linear_regression.predict(X_t)))"
   ]
  },
  {
   "cell_type": "code",
   "execution_count": null,
   "metadata": {},
   "outputs": [],
   "source": []
  },
  {
   "cell_type": "code",
   "execution_count": null,
   "metadata": {},
   "outputs": [],
   "source": []
  },
  {
   "cell_type": "code",
   "execution_count": null,
   "metadata": {},
   "outputs": [],
   "source": []
  },
  {
   "cell_type": "code",
   "execution_count": null,
   "metadata": {},
   "outputs": [],
   "source": []
  },
  {
   "cell_type": "code",
   "execution_count": null,
   "metadata": {},
   "outputs": [],
   "source": []
  },
  {
   "cell_type": "code",
   "execution_count": null,
   "metadata": {},
   "outputs": [],
   "source": []
  },
  {
   "cell_type": "code",
   "execution_count": null,
   "metadata": {},
   "outputs": [],
   "source": []
  }
 ],
 "metadata": {
  "kernelspec": {
   "display_name": "ISLR_Python",
   "language": "python",
   "name": "islr_python"
  },
  "language_info": {
   "codemirror_mode": {
    "name": "ipython",
    "version": 3
   },
   "file_extension": ".py",
   "mimetype": "text/x-python",
   "name": "python",
   "nbconvert_exporter": "python",
   "pygments_lexer": "ipython3",
   "version": "3.7.4"
  }
 },
 "nbformat": 4,
 "nbformat_minor": 2
}
