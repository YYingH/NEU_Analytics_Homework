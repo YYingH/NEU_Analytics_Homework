{
 "cells": [
  {
   "cell_type": "markdown",
   "metadata": {},
   "source": [
    "# - Chapter 2. \n",
    "\n",
    "# The Predictive Analytics Process\n",
    "---\n",
    "## The predictive analytics process\n",
    "\n",
    "1. Problem understanding and definition\n",
    "    - **Goal:** Understand the problem and how the potential solution would look. Also, define the requirements for solving the problem. \n",
    "    - eg: What the data needed for producing the solution is, in what format it is needed, how much data is needed, and so on, You also discuss what the outputs of the analysis and predictive model will look like and how they provide solutions for the problems that are being discussed.\n",
    "    \n",
    "    \n",
    "2. Data collection and preparation\n",
    "    - **Goal:** Get a dataset that is ready for analysis.\n",
    "    \n",
    "\n",
    "3. Data understanding using **exploratory and analysis (EDA)**\n",
    "    - **Goal:** Understand your dataset. \n",
    "    - eg: What tyoes of variables re there in the dataset? What do their distributions look like? Do we still have missing vlaues? Are there redundant variables? What are the relationships between the features? Do we observe outliers? How do the different pairs of features correlate with each other? Do these correlations make sense? What is the relationship between the features and the target?\n",
    "\n",
    "4. Model building\n",
    "    - **Goal:** Produce some predictive models that solve the problem.\n",
    "\n",
    "5. Model evaluation\n",
    "    - **Goal:** Choose the best model among a subset of the most promising ones and determine how good the model is in providing the solution.\n",
    "    - The best model is the one that solves the problem in the best possible way. So, any of the characteristics that we just talked about (fanciness, complexity, and so on) should not be considered when evaluating the model.\n",
    "\n",
    "6. Communication and/or deployment\n",
    "    - **Goal:** Use the predictive model and its results.\n",
    "---"
   ]
  },
  {
   "cell_type": "markdown",
   "metadata": {},
   "source": [
    "### CRISP-DM and other approaches\n",
    "By Kenneth Jensen-Own\n",
    "\n",
    "1. Business understanding\n",
    "\n",
    "\n",
    "2. Data understanding\n",
    "\n",
    "\n",
    "3. Data preparation\n",
    "\n",
    "\n",
    "4. Modeling\n",
    "\n",
    "\n",
    "5. Evaluation\n",
    "\n",
    "\n",
    "6. Deployment\n",
    "\n",
    "<img style=\"float: center;\" src=\"img/ch2-crisp-dm.png\" width=\"40%\"></img>\n",
    "\n",
    "---"
   ]
  },
  {
   "cell_type": "markdown",
   "metadata": {},
   "source": [
    "**There are other ways to look at this process; for example, R. Peng (2016) describes the process using the concept of Epicycles of Data Analysis. For him, the epicycles are the following:**\n",
    "\n",
    "1. Develop expectations\n",
    "\n",
    "\n",
    "2. Collect data\n",
    "\n",
    "\n",
    "3. Match expectations with the data\n",
    "\n",
    "\n",
    "4. State a question\n",
    "\n",
    "\n",
    "5. Exploratory data analysis\n",
    "\n",
    "\n",
    "6. Model building\n",
    "\n",
    "\n",
    "7. Interpretation\n",
    "\n",
    "\n",
    "8. Communication"
   ]
  },
  {
   "cell_type": "markdown",
   "metadata": {},
   "source": [
    "# - Chapter 3 \n",
    "# Problem Understanding and Data Preparation\n",
    "---\n",
    "1. Understanding the business problem and proposing a solution\n",
    "\n",
    "\n",
    "2. Introducing the diamond prices dataset and the practical project associated with it\n",
    "\n",
    "\n",
    "3. Introducing the credit cardd default dataset and teh practical project associated with it"
   ]
  }
 ],
 "metadata": {
  "kernelspec": {
   "display_name": "ISLR_Python",
   "language": "python",
   "name": "islr_python"
  },
  "language_info": {
   "codemirror_mode": {
    "name": "ipython",
    "version": 3
   },
   "file_extension": ".py",
   "mimetype": "text/x-python",
   "name": "python",
   "nbconvert_exporter": "python",
   "pygments_lexer": "ipython3",
   "version": "3.7.4"
  }
 },
 "nbformat": 4,
 "nbformat_minor": 2
}
