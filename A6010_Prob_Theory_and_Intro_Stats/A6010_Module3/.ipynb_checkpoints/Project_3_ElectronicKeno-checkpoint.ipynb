{
 "cells": [
  {
   "cell_type": "code",
   "execution_count": 1,
   "metadata": {},
   "outputs": [],
   "source": [
    "import random\n",
    "import math\n",
    "import matplotlib.pyplot as plt\n",
    "import seaborn as sns\n",
    "import pandas as pd\n",
    "import numpy as np"
   ]
  },
  {
   "cell_type": "markdown",
   "metadata": {},
   "source": [
    "### Part 1"
   ]
  },
  {
   "cell_type": "markdown",
   "metadata": {},
   "source": [
    "#### a. Construct a tabular probability distribution for X. "
   ]
  },
  {
   "cell_type": "code",
   "execution_count": 2,
   "metadata": {},
   "outputs": [
    {
     "name": "stdout",
     "output_type": "stream",
     "text": [
      "P(X=0)=0.0031754070808082497\n",
      "P(X=1)=0.024905153574966664\n",
      "P(X=2)=0.08644961962079775\n",
      "P(X=3)=0.17616148903860673\n",
      "P(X=4)=0.2356975478340618\n",
      "P(X=5)=0.2194129899837084\n",
      "P(X=6)=0.1469283415069476\n",
      "P(X=7)=0.07217532565253566\n",
      "P(X=8)=0.02628799576568648\n",
      "P(X=9)=0.0071289480042539604\n",
      "P(X=10)=0.001437671180857882\n",
      "P(X=11)=0.00021425800012785128\n",
      "P(X=12)=2.3326475820370904e-05\n",
      "P(X=13)=1.8228259493330133e-06\n",
      "P(X=14)=9.968579410414916e-08\n",
      "P(X=15)=3.6807062438455072e-09\n",
      "P(X=16)=8.71379319092213e-11\n",
      "P(X=17)=1.2240622568459534e-12\n",
      "P(X=18)=9.000457770926127e-15\n",
      "P(X=19)=2.746135094104082e-17\n",
      "P(X=20)=1.9615250672172012e-20\n"
     ]
    }
   ],
   "source": [
    "def nCr(n,r):\n",
    "    f = math.factorial\n",
    "    return f(n)/f(r)/f(n-r)\n",
    "\n",
    "results = [0]*21\n",
    "for i in range(0,20+1):\n",
    "    results[i]=((nCr(20,i)*nCr(70,20-i))/(nCr(90,20)))\n",
    "    print(\"P(X=%d)=%s\"%(i,results[i]))"
   ]
  },
  {
   "cell_type": "markdown",
   "metadata": {},
   "source": [
    "#### b. Construct a tabular cumulative probability distribution for X. "
   ]
  },
  {
   "cell_type": "code",
   "execution_count": 3,
   "metadata": {},
   "outputs": [
    {
     "name": "stdout",
     "output_type": "stream",
     "text": [
      "P(X<=0)=0.0031754070808082497\n",
      "P(X<=1)=0.028080560655774914\n",
      "P(X<=2)=0.11453018027657266\n",
      "P(X<=3)=0.2906916693151794\n",
      "P(X<=4)=0.5263892171492413\n",
      "P(X<=5)=0.7458022071329496\n",
      "P(X<=6)=0.8927305486398973\n",
      "P(X<=7)=0.964905874292433\n",
      "P(X<=8)=0.9911938700581195\n",
      "P(X<=9)=0.9983228180623736\n",
      "P(X<=10)=0.9997604892432315\n",
      "P(X<=11)=0.9999747472433593\n",
      "P(X<=12)=0.9999980737191797\n",
      "P(X<=13)=0.999999896545129\n",
      "P(X<=14)=0.9999999962309231\n",
      "P(X<=15)=0.9999999999116294\n",
      "P(X<=16)=0.9999999999987673\n",
      "P(X<=17)=0.9999999999999913\n",
      "P(X<=18)=1.0000000000000004\n",
      "P(X<=19)=1.0000000000000004\n",
      "P(X<=20)=1.0000000000000004\n"
     ]
    }
   ],
   "source": [
    "results_c = [0]*21\n",
    "for i in range(len(results_c)):\n",
    "    if i == 0:\n",
    "        results_c[i] = results[i]\n",
    "        print(\"P(X<=%d)=%s\"%(i,results_c[i]))\n",
    "        continue\n",
    "    results_c[i] =results[i]+results_c[i-1]\n",
    "    print(\"P(X<=%d)=%s\"%(i,results_c[i]))"
   ]
  },
  {
   "cell_type": "code",
   "execution_count": 66,
   "metadata": {},
   "outputs": [],
   "source": [
    "# for i in range(len(results_c)//2):\n",
    "#     if i == 0:\n",
    "#         results_c[i] = results[i]\n",
    "#         print(\"P(X<=%d)&%.5f&P(X<=%d)&%.5f\\\\\\\\ \\\\hline\"%(i,results_c[i],i+10,results_c[i+10]))\n",
    "#         continue\n",
    "#     results_c[i] =results[i]+results_c[i-1]\n",
    "#     print(\"P(X<=%d)&%.5f&P(X<=%d)&%.5f\\\\\\\\ \\\\hline\"%(i,results_c[i],i+10,results_c[i+10]))"
   ]
  },
  {
   "cell_type": "markdown",
   "metadata": {},
   "source": [
    "#### c. Create a graphical probability distribution for X. "
   ]
  },
  {
   "cell_type": "code",
   "execution_count": 4,
   "metadata": {},
   "outputs": [
    {
     "data": {
      "image/png": "[encoded data removed]",
      "text/plain": [
       "<Figure size 432x288 with 1 Axes>"
      ]
     },
     "metadata": {
      "needs_background": "light"
     },
     "output_type": "display_data"
    }
   ],
   "source": [
    "plt.bar(range(len(results)),results)\n",
    "plt.title('probability distribution for X')\n",
    "plt.show()"
   ]
  },
  {
   "cell_type": "markdown",
   "metadata": {},
   "source": [
    "#### d. Create a graphical cumulative probability distribution for X. "
   ]
  },
  {
   "cell_type": "code",
   "execution_count": 5,
   "metadata": {},
   "outputs": [
    {
     "data": {
      "image/png": "[encoded data removed]",
      "text/plain": [
       "<Figure size 432x288 with 1 Axes>"
      ]
     },
     "metadata": {
      "needs_background": "light"
     },
     "output_type": "display_data"
    }
   ],
   "source": [
    "plt.plot(range(len(results_c)),results_c)\n",
    "plt.title('cumulative probability distribution for X')\n",
    "plt.show()"
   ]
  },
  {
   "cell_type": "markdown",
   "metadata": {},
   "source": [
    "#### e. Calculate the theoretical expected value (mean), the theoretical variance, and the theoretical standard deviation of X in the spaces provided for those quantities. Interpret those values in your Word report \n",
    "expected value (mean): $$\\mu = \\sum x\\cdot p$$\n",
    "Variance: $$Var(X) = \\Sigma x^2 \\cdot p - \\mu^2$$\n",
    "standard deviation: $$\\sigma  = \\sqrt{Var(X)}$$"
   ]
  },
  {
   "cell_type": "code",
   "execution_count": 6,
   "metadata": {},
   "outputs": [
    {
     "name": "stdout",
     "output_type": "stream",
     "text": [
      "the theoretical expected value is 4.444444444444445\n",
      "the theoretical variance value is 2.7188236926064597\n",
      "the theoretical standard deviation 1.648885591121003\n"
     ]
    }
   ],
   "source": [
    "theoretical_expected_mean = 0\n",
    "for i in range(len(results)):\n",
    "    theoretical_expected_mean += i*results[i]\n",
    "theoretical_variance = 0\n",
    "\n",
    "for i in range(len(results)):\n",
    "    theoretical_variance += i**2*results[i]\n",
    "theoretical_variance = theoretical_variance-theoretical_expected_mean**2\n",
    "\n",
    "threoretical_standard_deviation = np.sqrt(theoretical_variance)\n",
    "\n",
    "print('the theoretical expected value is %s'%(theoretical_expected_mean))\n",
    "print('the theoretical variance value is %s'%(theoretical_variance))\n",
    "print('the theoretical standard deviation %s'%(threoretical_standard_deviation))"
   ]
  },
  {
   "cell_type": "markdown",
   "metadata": {},
   "source": [
    "#### f. Generate 1000 random values according to the standard uniform probability distribution. \n",
    "#### g. Use the available tabular cumulative distribution of part (b) to randomly generate 1000 values of X according to the described Hyper-geometric probability distribution. \n",
    "#### h. Calculate the experimental (simulated) expected value (mean), the experimental variance, and the experimental standard deviation of X in the spaces provided for those quantities. \n",
    "#### i. Calculate the experimental means successively after n = 20, 40, 60, 80, 100, 200, 300, 400, 500, 600, 700, 800, 900, and 1000 simulations. \n",
    "#### j. For the same values of n, calculate the Theoretical mean of X. Use the fixed value of the theoretical mean calculated in part (e). "
   ]
  },
  {
   "cell_type": "code",
   "execution_count": 79,
   "metadata": {},
   "outputs": [
    {
     "name": "stdout",
     "output_type": "stream",
     "text": [
      "the simulated expect mean is 4.425\n",
      "the experimental variance is 2.5843749999999983\n",
      "the theoretical standard deviation 1.6075991415772772\n",
      "0 match:  2 times, 2 total\n",
      "1 match:  21 times, 23 total\n",
      "2 match:  88 times, 111 total\n",
      "3 match:  174 times, 285 total\n",
      "4 match:  251 times, 536 total\n",
      "5 match:  230 times, 766 total\n",
      "6 match:  130 times, 896 total\n",
      "7 match:  72 times, 968 total\n",
      "8 match:  20 times, 988 total\n",
      "9 match:  12 times, 1000 total\n",
      "10 match:  0 times, 1000 total\n",
      "11 match:  0 times, 1000 total\n",
      "12 match:  0 times, 1000 total\n",
      "13 match:  0 times, 1000 total\n",
      "14 match:  0 times, 1000 total\n",
      "15 match:  0 times, 1000 total\n",
      "16 match:  0 times, 1000 total\n",
      "17 match:  0 times, 1000 total\n",
      "18 match:  0 times, 1000 total\n",
      "19 match:  0 times, 1000 total\n",
      "20 match:  0 times, 1000 total\n",
      "when n=20, the experimental means is 4.65\n",
      "when n=40, the experimental means is 4.475\n",
      "when n=60, the experimental means is 4.383333333333334\n",
      "when n=80, the experimental means is 4.3625\n",
      "when n=100, the experimental means is 4.33\n",
      "when n=200, the experimental means is 4.21\n",
      "when n=300, the experimental means is 4.286666666666667\n",
      "when n=400, the experimental means is 4.3825\n",
      "when n=500, the experimental means is 4.47\n",
      "when n=600, the experimental means is 4.433333333333334\n",
      "when n=700, the experimental means is 4.408571428571428\n",
      "when n=800, the experimental means is 4.43875\n",
      "when n=900, the experimental means is 4.4366666666666665\n",
      "when n=1000, the experimental means is 4.425\n"
     ]
    }
   ],
   "source": [
    "def PickNum():\n",
    "    return random.sample([i for i in range(1,91)],20)\n",
    "def CommonNum(list1,list2):\n",
    "    return len([i for i in list1 if i in list2])\n",
    "N = 1000\n",
    "X = [0]*21\n",
    "means = []\n",
    "experiments = [0]*N\n",
    "total_Count = 0\n",
    "l = [20, 40, 60, 80, 100, 200, 300, 400, 500, 600, 700, 800, 900,1000]\n",
    "for i in range(0,N):\n",
    "    computer_num = PickNum()\n",
    "    player_num = PickNum()\n",
    "    count = CommonNum(computer_num,player_num)\n",
    "    X[count] += 1\n",
    "    experiments[i] = count\n",
    "    total_Count += count\n",
    "    means.append(total_Count/(i+1))\n",
    "        \n",
    "simulated_expected_mean = means[-1]\n",
    "experimental_variance = 0\n",
    "\n",
    "for i in range(N):\n",
    "    experimental_variance += (experiments[i]-simulated_expected_mean)**2\n",
    "\n",
    "experimental_variance /=N\n",
    "\n",
    "experimental_standard_deviation = np.sqrt(experimental_variance)\n",
    "\n",
    "\n",
    "print('the simulated expect mean is %s'%(simulated_expected_mean))\n",
    "print('the experimental variance is %s'%(experimental_variance))\n",
    "print('the experimental standard deviation %s'%(experimental_standard_deviation))\n",
    "\n",
    "\n",
    "total = 0\n",
    "for i in range(len(X)):\n",
    "    total += X[i]\n",
    "    print(\"%d match:  %d times, %d total\"%(i, X[i],total))\n",
    "\n",
    "for i in range(len(l)):\n",
    "    print('when n=%d, the experimental means is %s'%(l[i],means[l[i]-1]))\n"
   ]
  },
  {
   "cell_type": "code",
   "execution_count": 132,
   "metadata": {},
   "outputs": [],
   "source": [
    "# for i in range(len(experiments)//25):\n",
    "#     j = i*25\n",
    "#     print(\"%d&%d&%d&%d&%d&%d&%d&%d&%d&%d%d&%d&%d&%d&%d&%d&%d&%d&%d&%d&%d&%d&%d&%d&%d\\\\\\\\\"%\n",
    "#           (experiments[j],experiments[j+1],experiments[j+2],experiments[j+3],experiments[j+4],\n",
    "#           experiments[j+5],experiments[j+6],experiments[j+7],experiments[j+8],experiments[j+9],\n",
    "#           experiments[j+10],experiments[j+11],experiments[j+12],experiments[j+13],experiments[j+14],\n",
    "#           experiments[j+15],experiments[j+16],experiments[j+17],experiments[j+18],experiments[j+19],\n",
    "#           experiments[j+20],experiments[j+21],experiments[j+22],experiments[j+23],experiments[j+24]))\n",
    "          \n",
    "          \n",
    "          \n",
    "          \n",
    "          "
   ]
  },
  {
   "cell_type": "code",
   "execution_count": 74,
   "metadata": {},
   "outputs": [],
   "source": [
    "# total = 0\n",
    "# for i in range(len(X)):\n",
    "#     total += X[i]\n",
    "#     if i<10:\n",
    "#         print(\"%d&%d&%d&\"%(i,X[i],total))\n",
    "#     else:\n",
    "#         print(\"%d&%d&%d\\\\\\\\ \\\\hline\"%(i,X[i],total))\n",
    "    "
   ]
  },
  {
   "cell_type": "code",
   "execution_count": 83,
   "metadata": {},
   "outputs": [],
   "source": [
    "# for i in range(len(l)):\n",
    "#     if i<len(l)//2:\n",
    "#         print(\"%d&%.5f&\"%(l[i],means[l[i]-1]))\n",
    "#     else:\n",
    "#         print(\"%d&%.5f\\\\\\\\ \\\\hline\"%(l[i],means[l[i]-1]))"
   ]
  },
  {
   "cell_type": "markdown",
   "metadata": {},
   "source": [
    "#### #### k. Create a line plot of the Experimental mean values versus the number of simulations (n). Add the horizontal line plot displaying the theoretical mean of X. Run several simulations of the successive experimental means. Interpret your observation in the context of the Law of Large Numbers (as the number of simulations become larger, the experimental values of the means approach to their theoretical value). "
   ]
  },
  {
   "cell_type": "code",
   "execution_count": 15,
   "metadata": {},
   "outputs": [
    {
     "data": {
      "image/png": "[encoded data removed]",
      "text/plain": [
       "<Figure size 432x288 with 1 Axes>"
      ]
     },
     "metadata": {
      "needs_background": "light"
     },
     "output_type": "display_data"
    }
   ],
   "source": [
    "plt.plot(range(len(means)),means)\n",
    "plt.title('Experimental mean values versus the number of simulations(n)')\n",
    "plt.show()"
   ]
  },
  {
   "cell_type": "markdown",
   "metadata": {},
   "source": [
    "### Part 2"
   ]
  },
  {
   "cell_type": "markdown",
   "metadata": {},
   "source": [
    "#### a. A normal population is given in column E of the worksheet. Calculate the mean, the variance, and the standard deviation of this population. "
   ]
  },
  {
   "cell_type": "code",
   "execution_count": 19,
   "metadata": {},
   "outputs": [],
   "source": [
    "population = [191,170,226,208,199,179,212,214,203,251,204,193,165,178,188,165,219,218,231,184,215,214,177,197,202,203,161,209,188,240,209,167,204,216,222,192,189,232,207,200,200,191,200,207,195,202,190,193,209,212,176,202,216,203,190,169,192,192,176,197,217,176,196,177,152,176,224,190,209,181,219,212,204,186,205,198,203,189,182,208,211,228,225,165,192,210,195,193,162,175,195,167,214,241,229,212,184,200,232,203,216,176,208,193,202,213,205,222,179,187,223,200,203,177,214,209,207,210,197,225,194,166,206,216,195,198,217,229,210,171,221,226,202,199,192,214,180,167,212,186,196,195,229,188,230,185,201,186,170,214,164,210,203,207,207,191,205,189,203,220,209,180,218,191,225,206,196,187,181,222,222,213,220,197,154,205,230,215,208,220,231,209,204,211,199,218,214,211,192,216,208,205,195,197,189,182,189,206,191,174,223,189,211,212,213,191,191,189,220,222,205,223,174,220,217,210,205,209,169,165,202,175,211,221,159,211,215,209,196,177,218,194,209,179,179,190,186,191,207,217,224,189,194,176,152,218,177,223,209,184,177,219,189,179,185,216,193,206,183,189,220,179,192,183,195,216,203,236,202,229,189,185,201,182,193,214,180,155,185,221,226,209,195,186,162,214,220,177,183,154,215,209,228,201,209,199,202,199,190,213,198,218,198,196,185,190,203,228,183,185,214,216,196,189,199,248,189,201,230,198,192,201,215,211,177,191,202,175,224,210,186,232,213,211,165,208,170,193,194,199,174,234,216,189,210,240,215,185,193,200,197,196,192,210,203,212,182,177,213,205,198,224,202,212,221,186,237,195,189,184,179,202,197,193,215,188,209,189,219,179,198,199,144,185,180,215,197,208,225,218,182,170,210,206,214,189,212,216,199,189,232,233,189,154,182,176,164,199,185,209,231,193,174,207,203,195,203,222,216,166,184,201,211,186,202,207,188,185,187,239,215,206,161,216,169,197,207,206,191,230,217,192,184,217,206,200,208,227,190,232,196,233,191,224,211,189,207,220,194,191,202,191,178,183,182,195,222,186,220,191,178,183,196,201,225,166,204,187,184,238,209,203,170,212,194,225,198,188,205,232,210,223,198,184,184,201,233,219,189,192,211,169,197,184,205,154,184,188,211,168,218,191,194,209,212,214,215,210,218,192,166,188,170,214,211,185,209,204,188,200,173,206,213,192,187,198,189,211,174,203,182,256,220,210,193,208,173,239,197,209,217,210,227,239,205,205,190,197,199,192,195,210,182,198,208,230,208,205,212,215,168,191,192,203,202,197,187,198,208,180,215,220,173,206,216,184,209,200,217,188,214,173,186,185,208,223,213,226,186,199,243,185,188,188,198,178,198,207,194,200,203,199,190,181,197,205,196,224,200,199,203,194,214,215,157,200,200,173,211,207,212,212,175,206,234,161,181,186,176,200,192,212,231,170,209,204,200,206,199,248,173,218,198,199,192,206,203,233,187,199,220,209,190,170,230,191,220,190,236,230,181,202,210,197,185,159,234,181,174,212,168,213,197,228,197,194,178,176,210,201,216,208,184,220,238,189,220,176,205,193,165,195,176,191,178,206,206,226,196,195,165,179,212,168,187,220,186,208,219,178,186,163,161,203,194,202,204,200,216,193,195,226,183,204,167,238,207,194,196,188,191,184,196,181,183,206,182,188,178,191,210,199,218,203,174,215,203,198,191,213,175,188,196,211,176,189,202,187,219,208,218,235,184,211,213,211,192,193,205,195,195,200,216,213,218,194,190,162,190,217,191,206,200,201,197,185,196,218,194,161,204,195,206,225,185,193,191,225,192,206,204,202,185,202,188,247,172,185,200,171,192,186,185,198,172,199,192,194,227,190,219,190,220,190,207,183,164,189,178,216,186,198,199,175,169,222,220,172,205,166,192,191,192,195,193,225,199,211,188,194,187,206,216,209,209,202,162,199,154,190,190,164,184,226,214,191,163,181,203,189,203,184,192,194,196,207,166,182,200,199,236,185,214,160,203,219,192,181,218,181,205,189,207,223,189,179,192,176,195,245,187,222,217,227,190,204,196,209,194,208,209,198,242,183,186,181,214,207,158,213,198,191,220,156,232,220,188,223,178,242,213,189,202,197,217,179,148,205,196,204,181,191,196,215,188,197,206,209,212,189,210,189,225,177,210,165,231,173,174,163,190,199,210,218,215,174,249,196,212,213,229,199,202,228,208,167,197,200,197,205,175,216,211,212,191,200,167,208,186,211,]"
   ]
  },
  {
   "cell_type": "code",
   "execution_count": 20,
   "metadata": {},
   "outputs": [
    {
     "name": "stdout",
     "output_type": "stream",
     "text": [
      "the mean of population is 199.206\n",
      "the variance of population is 331.247564\n",
      "the standard deviation of population 18.200207801011505\n"
     ]
    }
   ],
   "source": [
    "population_mean = np.mean(population)\n",
    "population_variance = np.var(population)\n",
    "population_std = np.std(population)\n",
    "print('the mean of population is %s'%(population_mean))\n",
    "print('the variance of population is %s'%(population_variance))\n",
    "print('the standard deviation of population %s'%(population_std))"
   ]
  },
  {
   "cell_type": "markdown",
   "metadata": {},
   "source": [
    "### b. Construct a Relative Frequency Histogram of the given population. Discuss the shape of the distribution in your report. "
   ]
  },
  {
   "cell_type": "code",
   "execution_count": 22,
   "metadata": {},
   "outputs": [
    {
     "data": {
      "text/plain": [
       "<matplotlib.axes._subplots.AxesSubplot at 0x1a1f233310>"
      ]
     },
     "execution_count": 22,
     "metadata": {},
     "output_type": "execute_result"
    },
    {
     "data": {
      "image/png": "[encoded data removed]",
      "text/plain": [
       "<Figure size 432x288 with 1 Axes>"
      ]
     },
     "metadata": {
      "needs_background": "light"
     },
     "output_type": "display_data"
    }
   ],
   "source": [
    "sns.distplot(population)"
   ]
  },
  {
   "cell_type": "markdown",
   "metadata": {},
   "source": [
    "#### c. Using the random sampling method in R, randomly draw 30 samples with each sample consisting of 30 measurements from this population. "
   ]
  },
  {
   "cell_type": "code",
   "execution_count": 25,
   "metadata": {},
   "outputs": [],
   "source": [
    "N = 30\n",
    "samples = []\n",
    "for i in range(N):\n",
    "    sample = random.sample([population[i] for i in range(0,len(population))],N)\n",
    "    samples.append(sample)"
   ]
  },
  {
   "cell_type": "markdown",
   "metadata": {},
   "source": [
    "#### d. For each sample, calculate the sample mean, the sample variance, and the sample standard deviation in the designated cells. "
   ]
  },
  {
   "cell_type": "code",
   "execution_count": 28,
   "metadata": {},
   "outputs": [],
   "source": [
    "means = []\n",
    "variances = []\n",
    "standard_deviations = []\n",
    "for i in range(N):\n",
    "    means.append(np.mean(samples[i]))\n",
    "    variances.append(np.var(samples[i]))\n",
    "    standard_deviations.append(np.std(samples[i]))\n",
    "#     print('mean of sample %d is %s'%(i, means[-1]))\n",
    "#     print('variance of sample %d is %s'%(i,variances[-1]))\n",
    "#     print('standard deviation of sample %d is %s'%(i,standard_deviations[-1]))\n"
   ]
  },
  {
   "cell_type": "code",
   "execution_count": 61,
   "metadata": {},
   "outputs": [],
   "source": [
    "# for i in range(N//2):\n",
    "#     i_ = i+15\n",
    "#     print(\"%d&%.3f&%.3f&%.3f&%d&%.3f&%.3f&%.3f\\\\\\\\\"%\n",
    "#           (i+1,means[i],variances[i],standard_deviations[i],\n",
    "#           i_+1,means[i_],variances[i_],standard_deviations[i_]))\n",
    "    "
   ]
  },
  {
   "cell_type": "markdown",
   "metadata": {},
   "source": [
    "#### e. Calculate the average of 30 sample means, the average of 30 sample variances, and the average of 30 sample standard deviations. "
   ]
  },
  {
   "cell_type": "code",
   "execution_count": 60,
   "metadata": {},
   "outputs": [
    {
     "name": "stdout",
     "output_type": "stream",
     "text": [
      "the average mean of population is 198.7788888888889\n",
      "the average variance of population is 326.17888765432093\n",
      "the average standard deviation of population 18.06042324128427\n"
     ]
    }
   ],
   "source": [
    "average_mean = np.mean(np.array(samples).flatten())\n",
    "average_variance = np.var(np.array(samples).flatten())\n",
    "average_std = np.std(np.array(samples).flatten())\n",
    "print('the average mean of population is %s'%(average_mean))\n",
    "print('the average variance of population is %s'%(average_variance))\n",
    "print('the average standard deviation of population %s'%(average_std))"
   ]
  },
  {
   "cell_type": "markdown",
   "metadata": {},
   "source": [
    "#### e. Construct a relative frequency histogram for the 30 sample means obtained from part (e) above. Comment on the shape of the distribution of the sample means.\n"
   ]
  },
  {
   "cell_type": "code",
   "execution_count": 92,
   "metadata": {},
   "outputs": [
    {
     "data": {
      "text/plain": [
       "<matplotlib.axes._subplots.AxesSubplot at 0x1a1f90cb50>"
      ]
     },
     "execution_count": 92,
     "metadata": {},
     "output_type": "execute_result"
    },
    {
     "data": {
      "image/png": "[encoded data removed]",
      "text/plain": [
       "<Figure size 432x288 with 1 Axes>"
      ]
     },
     "metadata": {
      "needs_background": "light"
     },
     "output_type": "display_data"
    }
   ],
   "source": [
    "sns.distplot(np.array(samples).flatten())"
   ]
  },
  {
   "cell_type": "code",
   "execution_count": null,
   "metadata": {},
   "outputs": [],
   "source": []
  }
 ],
 "metadata": {
  "kernelspec": {
   "display_name": "Python 3",
   "language": "python",
   "name": "python3"
  },
  "language_info": {
   "codemirror_mode": {
    "name": "ipython",
    "version": 3
   },
   "file_extension": ".py",
   "mimetype": "text/x-python",
   "name": "python",
   "nbconvert_exporter": "python",
   "pygments_lexer": "ipython3",
   "version": "3.7.4"
  }
 },
 "nbformat": 4,
 "nbformat_minor": 2
}
